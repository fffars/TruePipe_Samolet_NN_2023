{
 "cells": [
  {
   "cell_type": "code",
   "execution_count": 1,
   "id": "451a2772",
   "metadata": {},
   "outputs": [],
   "source": [
    "import pandas as pd\n",
    "from sklearn.preprocessing import StandardScaler\n",
    "from sklearn.model_selection import train_test_split\n",
    "from sklearn.metrics import f1_score\n",
    "from sklearn.metrics import roc_auc_score\n",
    "from catboost import CatBoostClassifier\n",
    "from catboost import cv, Pool\n",
    "from sklearn.metrics import roc_auc_score\n",
    "from tensorflow.keras.models import Sequential\n",
    "from tensorflow.keras.layers import Dense\n",
    "from tensorflow import keras\n",
    "from scikeras.wrappers import KerasClassifier\n",
    "from sklearn.model_selection import cross_val_score\n",
    "from sklearn.preprocessing import LabelEncoder\n",
    "from sklearn.preprocessing import OneHotEncoder\n",
    "from sklearn.model_selection import StratifiedKFold\n",
    "from sklearn.preprocessing import StandardScaler\n",
    "from sklearn.pipeline import Pipeline\n",
    "from sklearn.compose import ColumnTransformer\n",
    "from sklearn.model_selection import train_test_split\n",
    "from sklearn.utils import shuffle\n",
    "from sklearn.preprocessing import MinMaxScaler\n",
    "from tensorflow.keras.metrics import AUC\n",
    "from sklearn.model_selection import KFold\n",
    "from keras.models import Sequential\n",
    "from keras.layers import Dense\n",
    "from scikeras.wrappers import KerasClassifier\n",
    "from sklearn.model_selection import StratifiedKFold\n",
    "from sklearn.model_selection import cross_val_score\n",
    "import numpy as np\n",
    "import pandas as pd\n",
    "import matplotlib.pyplot as plt\n",
    "import seaborn as sns\n",
    "RS = 121212\n",
    "from sklearn.metrics import confusion_matrix\n",
    "from sklearn.metrics import ConfusionMatrixDisplay\n",
    "from imblearn.over_sampling import SMOTE"
   ]
  },
  {
   "cell_type": "markdown",
   "id": "77f19e6b",
   "metadata": {},
   "source": [
    "# Загрузка данных"
   ]
  },
  {
   "cell_type": "code",
   "execution_count": 2,
   "id": "96c05521",
   "metadata": {},
   "outputs": [],
   "source": [
    "df = pd.read_csv('train_dataset_Самолет.csv', low_memory=False, parse_dates=['report_date'])"
   ]
  },
  {
   "cell_type": "code",
   "execution_count": 3,
   "id": "a1e59cea",
   "metadata": {},
   "outputs": [
    {
     "data": {
      "text/html": [
       "<div>\n",
       "<style scoped>\n",
       "    .dataframe tbody tr th:only-of-type {\n",
       "        vertical-align: middle;\n",
       "    }\n",
       "\n",
       "    .dataframe tbody tr th {\n",
       "        vertical-align: top;\n",
       "    }\n",
       "\n",
       "    .dataframe thead th {\n",
       "        text-align: right;\n",
       "    }\n",
       "</style>\n",
       "<table border=\"1\" class=\"dataframe\">\n",
       "  <thead>\n",
       "    <tr style=\"text-align: right;\">\n",
       "      <th></th>\n",
       "      <th>report_date</th>\n",
       "      <th>client_id</th>\n",
       "      <th>target</th>\n",
       "      <th>col1</th>\n",
       "      <th>col2</th>\n",
       "      <th>col3</th>\n",
       "      <th>col4</th>\n",
       "      <th>col5</th>\n",
       "      <th>col6</th>\n",
       "      <th>col7</th>\n",
       "      <th>...</th>\n",
       "      <th>col2654</th>\n",
       "      <th>col2655</th>\n",
       "      <th>col2656</th>\n",
       "      <th>col2657</th>\n",
       "      <th>col2658</th>\n",
       "      <th>col2659</th>\n",
       "      <th>col2660</th>\n",
       "      <th>col2661</th>\n",
       "      <th>col2662</th>\n",
       "      <th>col2663</th>\n",
       "    </tr>\n",
       "  </thead>\n",
       "  <tbody>\n",
       "    <tr>\n",
       "      <th>0</th>\n",
       "      <td>2022-11-01</td>\n",
       "      <td>1</td>\n",
       "      <td>0</td>\n",
       "      <td>NaN</td>\n",
       "      <td>NaN</td>\n",
       "      <td>NaN</td>\n",
       "      <td>NaN</td>\n",
       "      <td>NaN</td>\n",
       "      <td>NaN</td>\n",
       "      <td>NaN</td>\n",
       "      <td>...</td>\n",
       "      <td>NaN</td>\n",
       "      <td>NaN</td>\n",
       "      <td>NaN</td>\n",
       "      <td>NaN</td>\n",
       "      <td>NaN</td>\n",
       "      <td>NaN</td>\n",
       "      <td>NaN</td>\n",
       "      <td>NaN</td>\n",
       "      <td>NaN</td>\n",
       "      <td>0.256261</td>\n",
       "    </tr>\n",
       "    <tr>\n",
       "      <th>1</th>\n",
       "      <td>2022-11-01</td>\n",
       "      <td>5</td>\n",
       "      <td>0</td>\n",
       "      <td>NaN</td>\n",
       "      <td>NaN</td>\n",
       "      <td>NaN</td>\n",
       "      <td>NaN</td>\n",
       "      <td>NaN</td>\n",
       "      <td>NaN</td>\n",
       "      <td>NaN</td>\n",
       "      <td>...</td>\n",
       "      <td>7616803.0</td>\n",
       "      <td>7616803.0</td>\n",
       "      <td>7616803.0</td>\n",
       "      <td>NaN</td>\n",
       "      <td>NaN</td>\n",
       "      <td>NaN</td>\n",
       "      <td>7616803.0</td>\n",
       "      <td>7616803.0</td>\n",
       "      <td>7616803.0</td>\n",
       "      <td>0.256261</td>\n",
       "    </tr>\n",
       "    <tr>\n",
       "      <th>2</th>\n",
       "      <td>2022-05-01</td>\n",
       "      <td>6</td>\n",
       "      <td>0</td>\n",
       "      <td>NaN</td>\n",
       "      <td>NaN</td>\n",
       "      <td>NaN</td>\n",
       "      <td>NaN</td>\n",
       "      <td>NaN</td>\n",
       "      <td>NaN</td>\n",
       "      <td>NaN</td>\n",
       "      <td>...</td>\n",
       "      <td>NaN</td>\n",
       "      <td>NaN</td>\n",
       "      <td>NaN</td>\n",
       "      <td>NaN</td>\n",
       "      <td>NaN</td>\n",
       "      <td>NaN</td>\n",
       "      <td>NaN</td>\n",
       "      <td>NaN</td>\n",
       "      <td>NaN</td>\n",
       "      <td>0.256261</td>\n",
       "    </tr>\n",
       "    <tr>\n",
       "      <th>3</th>\n",
       "      <td>2022-09-01</td>\n",
       "      <td>7</td>\n",
       "      <td>0</td>\n",
       "      <td>NaN</td>\n",
       "      <td>NaN</td>\n",
       "      <td>NaN</td>\n",
       "      <td>NaN</td>\n",
       "      <td>NaN</td>\n",
       "      <td>NaN</td>\n",
       "      <td>NaN</td>\n",
       "      <td>...</td>\n",
       "      <td>NaN</td>\n",
       "      <td>NaN</td>\n",
       "      <td>NaN</td>\n",
       "      <td>NaN</td>\n",
       "      <td>NaN</td>\n",
       "      <td>NaN</td>\n",
       "      <td>NaN</td>\n",
       "      <td>NaN</td>\n",
       "      <td>NaN</td>\n",
       "      <td>0.258682</td>\n",
       "    </tr>\n",
       "    <tr>\n",
       "      <th>4</th>\n",
       "      <td>2022-08-01</td>\n",
       "      <td>8</td>\n",
       "      <td>0</td>\n",
       "      <td>NaN</td>\n",
       "      <td>NaN</td>\n",
       "      <td>NaN</td>\n",
       "      <td>NaN</td>\n",
       "      <td>NaN</td>\n",
       "      <td>NaN</td>\n",
       "      <td>NaN</td>\n",
       "      <td>...</td>\n",
       "      <td>NaN</td>\n",
       "      <td>NaN</td>\n",
       "      <td>NaN</td>\n",
       "      <td>NaN</td>\n",
       "      <td>NaN</td>\n",
       "      <td>NaN</td>\n",
       "      <td>NaN</td>\n",
       "      <td>NaN</td>\n",
       "      <td>NaN</td>\n",
       "      <td>0.254164</td>\n",
       "    </tr>\n",
       "  </tbody>\n",
       "</table>\n",
       "<p>5 rows × 2666 columns</p>\n",
       "</div>"
      ],
      "text/plain": [
       "  report_date  client_id  target  col1  col2  col3  col4  col5  col6  col7   \n",
       "0  2022-11-01          1       0   NaN   NaN   NaN   NaN   NaN   NaN   NaN  \\\n",
       "1  2022-11-01          5       0   NaN   NaN   NaN   NaN   NaN   NaN   NaN   \n",
       "2  2022-05-01          6       0   NaN   NaN   NaN   NaN   NaN   NaN   NaN   \n",
       "3  2022-09-01          7       0   NaN   NaN   NaN   NaN   NaN   NaN   NaN   \n",
       "4  2022-08-01          8       0   NaN   NaN   NaN   NaN   NaN   NaN   NaN   \n",
       "\n",
       "   ...    col2654    col2655    col2656  col2657  col2658  col2659    col2660   \n",
       "0  ...        NaN        NaN        NaN      NaN      NaN      NaN        NaN  \\\n",
       "1  ...  7616803.0  7616803.0  7616803.0      NaN      NaN      NaN  7616803.0   \n",
       "2  ...        NaN        NaN        NaN      NaN      NaN      NaN        NaN   \n",
       "3  ...        NaN        NaN        NaN      NaN      NaN      NaN        NaN   \n",
       "4  ...        NaN        NaN        NaN      NaN      NaN      NaN        NaN   \n",
       "\n",
       "     col2661    col2662   col2663  \n",
       "0        NaN        NaN  0.256261  \n",
       "1  7616803.0  7616803.0  0.256261  \n",
       "2        NaN        NaN  0.256261  \n",
       "3        NaN        NaN  0.258682  \n",
       "4        NaN        NaN  0.254164  \n",
       "\n",
       "[5 rows x 2666 columns]"
      ]
     },
     "execution_count": 3,
     "metadata": {},
     "output_type": "execute_result"
    }
   ],
   "source": [
    "df.head()"
   ]
  },
  {
   "cell_type": "markdown",
   "id": "6fa07f9a",
   "metadata": {},
   "source": [
    "plt.figure(figsize=(15, 10))\n",
    "sns.heatmap(df.select_dtypes([int, float]).corr())\n",
    "plt.show()"
   ]
  },
  {
   "cell_type": "code",
   "execution_count": 4,
   "id": "a27ff995",
   "metadata": {},
   "outputs": [],
   "source": [
    "data = df.dropna(thresh=int(len(df)*0.95), axis=1).copy()\n",
    "data.drop(columns=['col1454'], inplace=True)"
   ]
  },
  {
   "cell_type": "code",
   "execution_count": 5,
   "id": "e4d5c5ed",
   "metadata": {},
   "outputs": [],
   "source": [
    "data = data.fillna(data.mean())"
   ]
  },
  {
   "cell_type": "code",
   "execution_count": 6,
   "id": "2436510b",
   "metadata": {},
   "outputs": [
    {
     "data": {
      "text/html": [
       "<div>\n",
       "<style scoped>\n",
       "    .dataframe tbody tr th:only-of-type {\n",
       "        vertical-align: middle;\n",
       "    }\n",
       "\n",
       "    .dataframe tbody tr th {\n",
       "        vertical-align: top;\n",
       "    }\n",
       "\n",
       "    .dataframe thead th {\n",
       "        text-align: right;\n",
       "    }\n",
       "</style>\n",
       "<table border=\"1\" class=\"dataframe\">\n",
       "  <thead>\n",
       "    <tr style=\"text-align: right;\">\n",
       "      <th></th>\n",
       "      <th>report_date</th>\n",
       "      <th>client_id</th>\n",
       "      <th>target</th>\n",
       "      <th>col1453</th>\n",
       "      <th>col2167</th>\n",
       "      <th>col2168</th>\n",
       "      <th>col2169</th>\n",
       "      <th>col2170</th>\n",
       "      <th>col2171</th>\n",
       "      <th>col2172</th>\n",
       "      <th>...</th>\n",
       "      <th>col2365</th>\n",
       "      <th>col2366</th>\n",
       "      <th>col2388</th>\n",
       "      <th>col2389</th>\n",
       "      <th>col2390</th>\n",
       "      <th>col2460</th>\n",
       "      <th>col2461</th>\n",
       "      <th>col2462</th>\n",
       "      <th>col2470</th>\n",
       "      <th>col2663</th>\n",
       "    </tr>\n",
       "  </thead>\n",
       "  <tbody>\n",
       "    <tr>\n",
       "      <th>0</th>\n",
       "      <td>2022-11-01</td>\n",
       "      <td>1</td>\n",
       "      <td>0</td>\n",
       "      <td>0</td>\n",
       "      <td>0.0</td>\n",
       "      <td>0.0</td>\n",
       "      <td>0.0</td>\n",
       "      <td>0.0</td>\n",
       "      <td>0.0</td>\n",
       "      <td>0.0</td>\n",
       "      <td>...</td>\n",
       "      <td>1.0</td>\n",
       "      <td>1.0</td>\n",
       "      <td>37.88</td>\n",
       "      <td>37.88</td>\n",
       "      <td>37.880</td>\n",
       "      <td>0.00</td>\n",
       "      <td>0.00</td>\n",
       "      <td>0.00</td>\n",
       "      <td>545.000000</td>\n",
       "      <td>0.256261</td>\n",
       "    </tr>\n",
       "    <tr>\n",
       "      <th>1</th>\n",
       "      <td>2022-11-01</td>\n",
       "      <td>5</td>\n",
       "      <td>0</td>\n",
       "      <td>1</td>\n",
       "      <td>0.0</td>\n",
       "      <td>0.0</td>\n",
       "      <td>0.0</td>\n",
       "      <td>0.0</td>\n",
       "      <td>0.0</td>\n",
       "      <td>6.0</td>\n",
       "      <td>...</td>\n",
       "      <td>1.0</td>\n",
       "      <td>1.0</td>\n",
       "      <td>38.75</td>\n",
       "      <td>3.34</td>\n",
       "      <td>21.045</td>\n",
       "      <td>0.00</td>\n",
       "      <td>0.00</td>\n",
       "      <td>0.00</td>\n",
       "      <td>242.000000</td>\n",
       "      <td>0.256261</td>\n",
       "    </tr>\n",
       "    <tr>\n",
       "      <th>2</th>\n",
       "      <td>2022-05-01</td>\n",
       "      <td>6</td>\n",
       "      <td>0</td>\n",
       "      <td>0</td>\n",
       "      <td>0.0</td>\n",
       "      <td>0.0</td>\n",
       "      <td>0.0</td>\n",
       "      <td>0.0</td>\n",
       "      <td>0.0</td>\n",
       "      <td>0.0</td>\n",
       "      <td>...</td>\n",
       "      <td>1.0</td>\n",
       "      <td>1.0</td>\n",
       "      <td>36.75</td>\n",
       "      <td>36.75</td>\n",
       "      <td>36.750</td>\n",
       "      <td>2.10</td>\n",
       "      <td>2.10</td>\n",
       "      <td>2.10</td>\n",
       "      <td>557.000000</td>\n",
       "      <td>0.256261</td>\n",
       "    </tr>\n",
       "    <tr>\n",
       "      <th>3</th>\n",
       "      <td>2022-09-01</td>\n",
       "      <td>7</td>\n",
       "      <td>0</td>\n",
       "      <td>0</td>\n",
       "      <td>1.0</td>\n",
       "      <td>1.0</td>\n",
       "      <td>1.0</td>\n",
       "      <td>1.0</td>\n",
       "      <td>1.0</td>\n",
       "      <td>1.0</td>\n",
       "      <td>...</td>\n",
       "      <td>1.0</td>\n",
       "      <td>1.0</td>\n",
       "      <td>35.56</td>\n",
       "      <td>35.56</td>\n",
       "      <td>35.560</td>\n",
       "      <td>1.40</td>\n",
       "      <td>1.40</td>\n",
       "      <td>1.40</td>\n",
       "      <td>332.556663</td>\n",
       "      <td>0.258682</td>\n",
       "    </tr>\n",
       "    <tr>\n",
       "      <th>4</th>\n",
       "      <td>2022-08-01</td>\n",
       "      <td>8</td>\n",
       "      <td>0</td>\n",
       "      <td>0</td>\n",
       "      <td>0.0</td>\n",
       "      <td>0.0</td>\n",
       "      <td>0.0</td>\n",
       "      <td>0.0</td>\n",
       "      <td>0.0</td>\n",
       "      <td>3.0</td>\n",
       "      <td>...</td>\n",
       "      <td>2.0</td>\n",
       "      <td>2.0</td>\n",
       "      <td>54.52</td>\n",
       "      <td>54.52</td>\n",
       "      <td>54.520</td>\n",
       "      <td>2.28</td>\n",
       "      <td>2.28</td>\n",
       "      <td>2.28</td>\n",
       "      <td>256.000000</td>\n",
       "      <td>0.254164</td>\n",
       "    </tr>\n",
       "  </tbody>\n",
       "</table>\n",
       "<p>5 rows × 54 columns</p>\n",
       "</div>"
      ],
      "text/plain": [
       "  report_date  client_id  target  col1453  col2167  col2168  col2169  col2170   \n",
       "0  2022-11-01          1       0        0      0.0      0.0      0.0      0.0  \\\n",
       "1  2022-11-01          5       0        1      0.0      0.0      0.0      0.0   \n",
       "2  2022-05-01          6       0        0      0.0      0.0      0.0      0.0   \n",
       "3  2022-09-01          7       0        0      1.0      1.0      1.0      1.0   \n",
       "4  2022-08-01          8       0        0      0.0      0.0      0.0      0.0   \n",
       "\n",
       "   col2171  col2172  ...  col2365  col2366  col2388  col2389  col2390   \n",
       "0      0.0      0.0  ...      1.0      1.0    37.88    37.88   37.880  \\\n",
       "1      0.0      6.0  ...      1.0      1.0    38.75     3.34   21.045   \n",
       "2      0.0      0.0  ...      1.0      1.0    36.75    36.75   36.750   \n",
       "3      1.0      1.0  ...      1.0      1.0    35.56    35.56   35.560   \n",
       "4      0.0      3.0  ...      2.0      2.0    54.52    54.52   54.520   \n",
       "\n",
       "   col2460  col2461  col2462     col2470   col2663  \n",
       "0     0.00     0.00     0.00  545.000000  0.256261  \n",
       "1     0.00     0.00     0.00  242.000000  0.256261  \n",
       "2     2.10     2.10     2.10  557.000000  0.256261  \n",
       "3     1.40     1.40     1.40  332.556663  0.258682  \n",
       "4     2.28     2.28     2.28  256.000000  0.254164  \n",
       "\n",
       "[5 rows x 54 columns]"
      ]
     },
     "execution_count": 6,
     "metadata": {},
     "output_type": "execute_result"
    }
   ],
   "source": [
    "data.head()"
   ]
  },
  {
   "cell_type": "code",
   "execution_count": 7,
   "id": "a0a76bdd",
   "metadata": {},
   "outputs": [],
   "source": [
    "data_f = data.copy()"
   ]
  },
  {
   "cell_type": "markdown",
   "id": "4f9fbb22",
   "metadata": {},
   "source": [
    "plt.figure(figsize=(15, 10))\n",
    "sns.heatmap(data.corr())\n",
    "plt.show()"
   ]
  },
  {
   "cell_type": "code",
   "execution_count": 8,
   "id": "43773c83",
   "metadata": {},
   "outputs": [],
   "source": [
    "client_id = data['client_id']"
   ]
  },
  {
   "cell_type": "code",
   "execution_count": 9,
   "id": "7f5074b3",
   "metadata": {},
   "outputs": [],
   "source": [
    "data.drop(columns='client_id', inplace=True)"
   ]
  },
  {
   "cell_type": "markdown",
   "id": "6bc0e42d",
   "metadata": {},
   "source": [
    "# Модели"
   ]
  },
  {
   "cell_type": "markdown",
   "id": "362cb56e",
   "metadata": {},
   "source": [
    "## Создание baseline модели"
   ]
  },
  {
   "cell_type": "code",
   "execution_count": 176,
   "id": "61104a24",
   "metadata": {},
   "outputs": [],
   "source": [
    "features = data.drop(columns=['target', 'report_date'])"
   ]
  },
  {
   "cell_type": "code",
   "execution_count": 177,
   "id": "f6652cca",
   "metadata": {},
   "outputs": [],
   "source": [
    "target = data['target']"
   ]
  },
  {
   "cell_type": "code",
   "execution_count": 178,
   "id": "26d73d8b",
   "metadata": {},
   "outputs": [],
   "source": [
    "features_train, features_test, target_train, target_test = train_test_split(features, target, test_size=0.3, stratify=target,\n",
    "                                                                            random_state=RS)"
   ]
  },
  {
   "cell_type": "code",
   "execution_count": 179,
   "id": "cda33210",
   "metadata": {},
   "outputs": [],
   "source": [
    "features_train, target_train = SMOTE().fit_resample(features_train, target_train)"
   ]
  },
  {
   "cell_type": "code",
   "execution_count": 180,
   "id": "1173cd0b",
   "metadata": {},
   "outputs": [],
   "source": [
    "params = {\n",
    "    'loss_function': 'Logloss',\n",
    "    'iterations': 300,\n",
    "    'custom_loss': ['AUC', 'F1'],\n",
    "    'random_seed': RS,\n",
    "    'learning_rate': 0.2\n",
    "}"
   ]
  },
  {
   "cell_type": "code",
   "execution_count": 181,
   "id": "f1e846e6",
   "metadata": {},
   "outputs": [
    {
     "data": {
      "application/vnd.jupyter.widget-view+json": {
       "model_id": "8979586a1366496fa8461121068e3ff5",
       "version_major": 2,
       "version_minor": 0
      },
      "text/plain": [
       "MetricVisualizer(layout=Layout(align_self='stretch', height='500px'))"
      ]
     },
     "metadata": {},
     "output_type": "display_data"
    },
    {
     "name": "stdout",
     "output_type": "stream",
     "text": [
      "Training on fold [0/5]\n",
      "\n",
      "bestTest = 0.03023389684\n",
      "bestIteration = 298\n",
      "\n",
      "Training on fold [1/5]\n",
      "\n",
      "bestTest = 0.0312237162\n",
      "bestIteration = 296\n",
      "\n",
      "Training on fold [2/5]\n",
      "\n",
      "bestTest = 0.03398460708\n",
      "bestIteration = 283\n",
      "\n",
      "Training on fold [3/5]\n",
      "\n",
      "bestTest = 0.02906965167\n",
      "bestIteration = 299\n",
      "\n",
      "Training on fold [4/5]\n",
      "\n",
      "bestTest = 0.03429310008\n",
      "bestIteration = 299\n",
      "\n"
     ]
    }
   ],
   "source": [
    "cv_data = cv(\n",
    "    params=params,\n",
    "    pool=Pool(features_train, label=target_train),\n",
    "    fold_count=5, # Разбивка выборки на 5 кусочков\n",
    "    shuffle=True, # Перемешаем наши данные\n",
    "    partition_random_seed=RS,\n",
    "    plot=True,\n",
    "    stratified=True, \n",
    "    verbose=False\n",
    ")"
   ]
  },
  {
   "cell_type": "code",
   "execution_count": 182,
   "id": "7ac0152a",
   "metadata": {},
   "outputs": [
    {
     "data": {
      "text/html": [
       "<div>\n",
       "<style scoped>\n",
       "    .dataframe tbody tr th:only-of-type {\n",
       "        vertical-align: middle;\n",
       "    }\n",
       "\n",
       "    .dataframe tbody tr th {\n",
       "        vertical-align: top;\n",
       "    }\n",
       "\n",
       "    .dataframe thead th {\n",
       "        text-align: right;\n",
       "    }\n",
       "</style>\n",
       "<table border=\"1\" class=\"dataframe\">\n",
       "  <thead>\n",
       "    <tr style=\"text-align: right;\">\n",
       "      <th></th>\n",
       "      <th>iterations</th>\n",
       "      <th>test-Logloss-mean</th>\n",
       "      <th>test-Logloss-std</th>\n",
       "      <th>train-Logloss-mean</th>\n",
       "      <th>train-Logloss-std</th>\n",
       "      <th>test-AUC-mean</th>\n",
       "      <th>test-AUC-std</th>\n",
       "      <th>test-F1-mean</th>\n",
       "      <th>test-F1-std</th>\n",
       "      <th>train-F1-mean</th>\n",
       "      <th>train-F1-std</th>\n",
       "    </tr>\n",
       "  </thead>\n",
       "  <tbody>\n",
       "    <tr>\n",
       "      <th>0</th>\n",
       "      <td>0</td>\n",
       "      <td>0.536532</td>\n",
       "      <td>0.004389</td>\n",
       "      <td>0.535888</td>\n",
       "      <td>0.003173</td>\n",
       "      <td>0.893450</td>\n",
       "      <td>0.006045</td>\n",
       "      <td>0.812444</td>\n",
       "      <td>0.008454</td>\n",
       "      <td>0.813299</td>\n",
       "      <td>0.006596</td>\n",
       "    </tr>\n",
       "    <tr>\n",
       "      <th>1</th>\n",
       "      <td>1</td>\n",
       "      <td>0.465675</td>\n",
       "      <td>0.010687</td>\n",
       "      <td>0.464306</td>\n",
       "      <td>0.011498</td>\n",
       "      <td>0.924054</td>\n",
       "      <td>0.004516</td>\n",
       "      <td>0.832049</td>\n",
       "      <td>0.009628</td>\n",
       "      <td>0.833405</td>\n",
       "      <td>0.007713</td>\n",
       "    </tr>\n",
       "    <tr>\n",
       "      <th>2</th>\n",
       "      <td>2</td>\n",
       "      <td>0.416351</td>\n",
       "      <td>0.006557</td>\n",
       "      <td>0.414483</td>\n",
       "      <td>0.008361</td>\n",
       "      <td>0.934361</td>\n",
       "      <td>0.004986</td>\n",
       "      <td>0.844919</td>\n",
       "      <td>0.007686</td>\n",
       "      <td>0.847505</td>\n",
       "      <td>0.005688</td>\n",
       "    </tr>\n",
       "    <tr>\n",
       "      <th>3</th>\n",
       "      <td>3</td>\n",
       "      <td>0.380018</td>\n",
       "      <td>0.003952</td>\n",
       "      <td>0.377387</td>\n",
       "      <td>0.006719</td>\n",
       "      <td>0.941819</td>\n",
       "      <td>0.004097</td>\n",
       "      <td>0.857059</td>\n",
       "      <td>0.007921</td>\n",
       "      <td>0.860333</td>\n",
       "      <td>0.009116</td>\n",
       "    </tr>\n",
       "    <tr>\n",
       "      <th>4</th>\n",
       "      <td>4</td>\n",
       "      <td>0.353386</td>\n",
       "      <td>0.005507</td>\n",
       "      <td>0.349801</td>\n",
       "      <td>0.006489</td>\n",
       "      <td>0.948600</td>\n",
       "      <td>0.002820</td>\n",
       "      <td>0.869485</td>\n",
       "      <td>0.006312</td>\n",
       "      <td>0.873574</td>\n",
       "      <td>0.006650</td>\n",
       "    </tr>\n",
       "    <tr>\n",
       "      <th>...</th>\n",
       "      <td>...</td>\n",
       "      <td>...</td>\n",
       "      <td>...</td>\n",
       "      <td>...</td>\n",
       "      <td>...</td>\n",
       "      <td>...</td>\n",
       "      <td>...</td>\n",
       "      <td>...</td>\n",
       "      <td>...</td>\n",
       "      <td>...</td>\n",
       "      <td>...</td>\n",
       "    </tr>\n",
       "    <tr>\n",
       "      <th>295</th>\n",
       "      <td>295</td>\n",
       "      <td>0.031841</td>\n",
       "      <td>0.002246</td>\n",
       "      <td>0.012002</td>\n",
       "      <td>0.001397</td>\n",
       "      <td>0.999115</td>\n",
       "      <td>0.000233</td>\n",
       "      <td>0.991542</td>\n",
       "      <td>0.000776</td>\n",
       "      <td>0.999299</td>\n",
       "      <td>0.000352</td>\n",
       "    </tr>\n",
       "    <tr>\n",
       "      <th>296</th>\n",
       "      <td>296</td>\n",
       "      <td>0.031809</td>\n",
       "      <td>0.002255</td>\n",
       "      <td>0.011966</td>\n",
       "      <td>0.001428</td>\n",
       "      <td>0.999109</td>\n",
       "      <td>0.000231</td>\n",
       "      <td>0.991644</td>\n",
       "      <td>0.000840</td>\n",
       "      <td>0.999299</td>\n",
       "      <td>0.000352</td>\n",
       "    </tr>\n",
       "    <tr>\n",
       "      <th>297</th>\n",
       "      <td>297</td>\n",
       "      <td>0.031806</td>\n",
       "      <td>0.002258</td>\n",
       "      <td>0.011944</td>\n",
       "      <td>0.001448</td>\n",
       "      <td>0.999110</td>\n",
       "      <td>0.000233</td>\n",
       "      <td>0.991594</td>\n",
       "      <td>0.000888</td>\n",
       "      <td>0.999299</td>\n",
       "      <td>0.000352</td>\n",
       "    </tr>\n",
       "    <tr>\n",
       "      <th>298</th>\n",
       "      <td>298</td>\n",
       "      <td>0.031777</td>\n",
       "      <td>0.002283</td>\n",
       "      <td>0.011905</td>\n",
       "      <td>0.001487</td>\n",
       "      <td>0.999109</td>\n",
       "      <td>0.000230</td>\n",
       "      <td>0.991594</td>\n",
       "      <td>0.000888</td>\n",
       "      <td>0.999287</td>\n",
       "      <td>0.000332</td>\n",
       "    </tr>\n",
       "    <tr>\n",
       "      <th>299</th>\n",
       "      <td>299</td>\n",
       "      <td>0.031762</td>\n",
       "      <td>0.002304</td>\n",
       "      <td>0.011886</td>\n",
       "      <td>0.001504</td>\n",
       "      <td>0.999107</td>\n",
       "      <td>0.000230</td>\n",
       "      <td>0.991644</td>\n",
       "      <td>0.000982</td>\n",
       "      <td>0.999287</td>\n",
       "      <td>0.000332</td>\n",
       "    </tr>\n",
       "  </tbody>\n",
       "</table>\n",
       "<p>300 rows × 11 columns</p>\n",
       "</div>"
      ],
      "text/plain": [
       "     iterations  test-Logloss-mean  test-Logloss-std  train-Logloss-mean   \n",
       "0             0           0.536532          0.004389            0.535888  \\\n",
       "1             1           0.465675          0.010687            0.464306   \n",
       "2             2           0.416351          0.006557            0.414483   \n",
       "3             3           0.380018          0.003952            0.377387   \n",
       "4             4           0.353386          0.005507            0.349801   \n",
       "..          ...                ...               ...                 ...   \n",
       "295         295           0.031841          0.002246            0.012002   \n",
       "296         296           0.031809          0.002255            0.011966   \n",
       "297         297           0.031806          0.002258            0.011944   \n",
       "298         298           0.031777          0.002283            0.011905   \n",
       "299         299           0.031762          0.002304            0.011886   \n",
       "\n",
       "     train-Logloss-std  test-AUC-mean  test-AUC-std  test-F1-mean   \n",
       "0             0.003173       0.893450      0.006045      0.812444  \\\n",
       "1             0.011498       0.924054      0.004516      0.832049   \n",
       "2             0.008361       0.934361      0.004986      0.844919   \n",
       "3             0.006719       0.941819      0.004097      0.857059   \n",
       "4             0.006489       0.948600      0.002820      0.869485   \n",
       "..                 ...            ...           ...           ...   \n",
       "295           0.001397       0.999115      0.000233      0.991542   \n",
       "296           0.001428       0.999109      0.000231      0.991644   \n",
       "297           0.001448       0.999110      0.000233      0.991594   \n",
       "298           0.001487       0.999109      0.000230      0.991594   \n",
       "299           0.001504       0.999107      0.000230      0.991644   \n",
       "\n",
       "     test-F1-std  train-F1-mean  train-F1-std  \n",
       "0       0.008454       0.813299      0.006596  \n",
       "1       0.009628       0.833405      0.007713  \n",
       "2       0.007686       0.847505      0.005688  \n",
       "3       0.007921       0.860333      0.009116  \n",
       "4       0.006312       0.873574      0.006650  \n",
       "..           ...            ...           ...  \n",
       "295     0.000776       0.999299      0.000352  \n",
       "296     0.000840       0.999299      0.000352  \n",
       "297     0.000888       0.999299      0.000352  \n",
       "298     0.000888       0.999287      0.000332  \n",
       "299     0.000982       0.999287      0.000332  \n",
       "\n",
       "[300 rows x 11 columns]"
      ]
     },
     "execution_count": 182,
     "metadata": {},
     "output_type": "execute_result"
    }
   ],
   "source": [
    "cv_data"
   ]
  },
  {
   "cell_type": "code",
   "execution_count": 183,
   "id": "2f8b61f2",
   "metadata": {},
   "outputs": [],
   "source": [
    "baseline_auc_valid = cv_data['test-AUC-mean'].tail(1)"
   ]
  },
  {
   "cell_type": "code",
   "execution_count": 184,
   "id": "1c698119",
   "metadata": {},
   "outputs": [],
   "source": [
    "baseline_f1_valid = cv_data['test-F1-mean'].tail(1)"
   ]
  },
  {
   "cell_type": "code",
   "execution_count": 185,
   "id": "2f691f4d",
   "metadata": {},
   "outputs": [
    {
     "data": {
      "text/plain": [
       "299    0.999107\n",
       "Name: test-AUC-mean, dtype: float64"
      ]
     },
     "execution_count": 185,
     "metadata": {},
     "output_type": "execute_result"
    }
   ],
   "source": [
    "baseline_auc_valid"
   ]
  },
  {
   "cell_type": "code",
   "execution_count": 186,
   "id": "42bf5ce1",
   "metadata": {},
   "outputs": [
    {
     "data": {
      "text/plain": [
       "299    0.991644\n",
       "Name: test-F1-mean, dtype: float64"
      ]
     },
     "execution_count": 186,
     "metadata": {},
     "output_type": "execute_result"
    }
   ],
   "source": [
    "baseline_f1_valid"
   ]
  },
  {
   "cell_type": "markdown",
   "id": "ec4af955",
   "metadata": {},
   "source": [
    "### Валидация модели"
   ]
  },
  {
   "cell_type": "code",
   "execution_count": 187,
   "id": "702998b1",
   "metadata": {},
   "outputs": [],
   "source": [
    "model = CatBoostClassifier(loss_function='Logloss',\n",
    "    iterations=300,\n",
    "    custom_loss=['AUC', 'F1'],\n",
    "    random_seed= RS,\n",
    "    learning_rate= 0.2,\n",
    "    verbose=False)"
   ]
  },
  {
   "cell_type": "code",
   "execution_count": 188,
   "id": "56dd3d5b",
   "metadata": {},
   "outputs": [
    {
     "data": {
      "text/plain": [
       "<catboost.core.CatBoostClassifier at 0x17f03a42a90>"
      ]
     },
     "execution_count": 188,
     "metadata": {},
     "output_type": "execute_result"
    }
   ],
   "source": [
    "model.fit(features_train, target_train)"
   ]
  },
  {
   "cell_type": "code",
   "execution_count": 189,
   "id": "3fdd63e1",
   "metadata": {},
   "outputs": [],
   "source": [
    "pred = model.predict(features_test)"
   ]
  },
  {
   "cell_type": "code",
   "execution_count": 190,
   "id": "22a1e2c5",
   "metadata": {},
   "outputs": [],
   "source": [
    "baseline_auc_test = roc_auc_score(target_test, pred)"
   ]
  },
  {
   "cell_type": "code",
   "execution_count": 191,
   "id": "b3d25c94",
   "metadata": {},
   "outputs": [
    {
     "data": {
      "text/plain": [
       "0.7714805820837554"
      ]
     },
     "execution_count": 191,
     "metadata": {},
     "output_type": "execute_result"
    }
   ],
   "source": [
    "baseline_auc_test"
   ]
  },
  {
   "cell_type": "code",
   "execution_count": 192,
   "id": "f98c7105",
   "metadata": {},
   "outputs": [],
   "source": [
    "baseline_f1_test = f1_score(target_test, pred)"
   ]
  },
  {
   "cell_type": "code",
   "execution_count": 193,
   "id": "b6574912",
   "metadata": {},
   "outputs": [
    {
     "data": {
      "text/plain": [
       "0.6233766233766234"
      ]
     },
     "execution_count": 193,
     "metadata": {},
     "output_type": "execute_result"
    }
   ],
   "source": [
    "baseline_f1_test"
   ]
  },
  {
   "cell_type": "code",
   "execution_count": 194,
   "id": "84e6e79d",
   "metadata": {},
   "outputs": [
    {
     "data": {
      "image/png": "[encoded data removed]",
      "text/plain": [
       "<Figure size 640x480 with 2 Axes>"
      ]
     },
     "metadata": {},
     "output_type": "display_data"
    }
   ],
   "source": [
    "cm = confusion_matrix(target_test, pred, normalize='true')\n",
    "ConfusionMatrixDisplay(confusion_matrix=cm).plot()\n",
    "plt.show()"
   ]
  },
  {
   "cell_type": "code",
   "execution_count": 197,
   "id": "feb229b8",
   "metadata": {},
   "outputs": [],
   "source": [
    "\n",
    "# Get predicted probabilities for each class\n",
    "preds_proba = model.predict_proba(features_test)\n",
    "# Get predicted RawFormulaVal\n"
   ]
  },
  {
   "cell_type": "code",
   "execution_count": 204,
   "id": "3ac650eb",
   "metadata": {},
   "outputs": [
    {
     "data": {
      "text/plain": [
       "array([[9.96620583e-01, 3.37941666e-03],\n",
       "       [9.99988513e-01, 1.14866018e-05],\n",
       "       [9.99340698e-01, 6.59301666e-04],\n",
       "       ...,\n",
       "       [9.99810312e-01, 1.89688023e-04],\n",
       "       [9.99472793e-01, 5.27206954e-04],\n",
       "       [9.94782749e-01, 5.21725129e-03]])"
      ]
     },
     "execution_count": 204,
     "metadata": {},
     "output_type": "execute_result"
    }
   ],
   "source": [
    "preds_proba"
   ]
  },
  {
   "cell_type": "code",
   "execution_count": 205,
   "id": "ff6d3030",
   "metadata": {},
   "outputs": [],
   "source": [
    "df = pd.DataFrame(preds_proba)"
   ]
  },
  {
   "cell_type": "code",
   "execution_count": 211,
   "id": "d363ae0e",
   "metadata": {},
   "outputs": [
    {
     "data": {
      "text/plain": [
       "100"
      ]
     },
     "execution_count": 211,
     "metadata": {},
     "output_type": "execute_result"
    }
   ],
   "source": [
    "(df[1] > 0.5).sum()"
   ]
  },
  {
   "cell_type": "code",
   "execution_count": 202,
   "id": "c2023359",
   "metadata": {},
   "outputs": [],
   "source": [
    "preds = model.predict(features_test)"
   ]
  },
  {
   "cell_type": "code",
   "execution_count": 203,
   "id": "ab224035",
   "metadata": {},
   "outputs": [
    {
     "data": {
      "text/plain": [
       "array([0, 0, 0, ..., 0, 0, 0], dtype=int64)"
      ]
     },
     "execution_count": 203,
     "metadata": {},
     "output_type": "execute_result"
    }
   ],
   "source": [
    "preds"
   ]
  },
  {
   "cell_type": "code",
   "execution_count": 200,
   "id": "3e13b589",
   "metadata": {},
   "outputs": [],
   "source": [
    "from math import exp"
   ]
  },
  {
   "cell_type": "code",
   "execution_count": 201,
   "id": "2da73c8c",
   "metadata": {},
   "outputs": [
    {
     "ename": "TypeError",
     "evalue": "only size-1 arrays can be converted to Python scalars",
     "output_type": "error",
     "traceback": [
      "\u001b[1;31m---------------------------------------------------------------------------\u001b[0m",
      "\u001b[1;31mTypeError\u001b[0m                                 Traceback (most recent call last)",
      "Cell \u001b[1;32mIn[201], line 1\u001b[0m\n\u001b[1;32m----> 1\u001b[0m \u001b[43mexp\u001b[49m\u001b[43m(\u001b[49m\u001b[43m \u001b[49m\u001b[43mpreds_proba\u001b[49m\u001b[43m)\u001b[49m \u001b[38;5;241m/\u001b[39m (\u001b[38;5;241m1\u001b[39m\u001b[38;5;241m+\u001b[39m exp( preds_proba))\n",
      "\u001b[1;31mTypeError\u001b[0m: only size-1 arrays can be converted to Python scalars"
     ]
    }
   ],
   "source": [
    "exp( preds_proba) / (1+ exp( preds_proba))"
   ]
  },
  {
   "cell_type": "code",
   "execution_count": null,
   "id": "dbd9636f",
   "metadata": {},
   "outputs": [],
   "source": [
    "test['score'] = model.predict_proba(test[model_cols])\n",
    "sample_submission = test.loc[:, ['report_date', 'client_id', 'score']]"
   ]
  },
  {
   "cell_type": "markdown",
   "id": "cf94442b",
   "metadata": {},
   "source": [
    "## Модель, обученная на клиентах, которые имеют таргет 0 и 1"
   ]
  },
  {
   "cell_type": "code",
   "execution_count": 29,
   "id": "8565f034",
   "metadata": {},
   "outputs": [],
   "source": [
    "train, test = train_test_split(data_f.drop(columns='report_date'), test_size=0.3, random_state=RS, stratify=data['target'])"
   ]
  },
  {
   "cell_type": "code",
   "execution_count": 30,
   "id": "0ffb2d93",
   "metadata": {},
   "outputs": [],
   "source": [
    "one_id = train.query('target == 1')['client_id']"
   ]
  },
  {
   "cell_type": "code",
   "execution_count": 31,
   "id": "0176c201",
   "metadata": {},
   "outputs": [],
   "source": [
    "clients_changed = train.query('client_id in @one_id')"
   ]
  },
  {
   "cell_type": "code",
   "execution_count": 32,
   "id": "bc22859e",
   "metadata": {},
   "outputs": [
    {
     "data": {
      "text/html": [
       "<div>\n",
       "<style scoped>\n",
       "    .dataframe tbody tr th:only-of-type {\n",
       "        vertical-align: middle;\n",
       "    }\n",
       "\n",
       "    .dataframe tbody tr th {\n",
       "        vertical-align: top;\n",
       "    }\n",
       "\n",
       "    .dataframe thead th {\n",
       "        text-align: right;\n",
       "    }\n",
       "</style>\n",
       "<table border=\"1\" class=\"dataframe\">\n",
       "  <thead>\n",
       "    <tr style=\"text-align: right;\">\n",
       "      <th></th>\n",
       "      <th>client_id</th>\n",
       "      <th>target</th>\n",
       "      <th>col1453</th>\n",
       "      <th>col2167</th>\n",
       "      <th>col2168</th>\n",
       "      <th>col2169</th>\n",
       "      <th>col2170</th>\n",
       "      <th>col2171</th>\n",
       "      <th>col2172</th>\n",
       "      <th>col2173</th>\n",
       "      <th>...</th>\n",
       "      <th>col2365</th>\n",
       "      <th>col2366</th>\n",
       "      <th>col2388</th>\n",
       "      <th>col2389</th>\n",
       "      <th>col2390</th>\n",
       "      <th>col2460</th>\n",
       "      <th>col2461</th>\n",
       "      <th>col2462</th>\n",
       "      <th>col2470</th>\n",
       "      <th>col2663</th>\n",
       "    </tr>\n",
       "  </thead>\n",
       "  <tbody>\n",
       "    <tr>\n",
       "      <th>4158</th>\n",
       "      <td>3743</td>\n",
       "      <td>1</td>\n",
       "      <td>0</td>\n",
       "      <td>2.0</td>\n",
       "      <td>3.0</td>\n",
       "      <td>3.0</td>\n",
       "      <td>3.0</td>\n",
       "      <td>3.0</td>\n",
       "      <td>3.0</td>\n",
       "      <td>3.0</td>\n",
       "      <td>...</td>\n",
       "      <td>4.0</td>\n",
       "      <td>4.0</td>\n",
       "      <td>92.55</td>\n",
       "      <td>92.55</td>\n",
       "      <td>92.55</td>\n",
       "      <td>5.30</td>\n",
       "      <td>5.30</td>\n",
       "      <td>5.30</td>\n",
       "      <td>2.0</td>\n",
       "      <td>0.256061</td>\n",
       "    </tr>\n",
       "    <tr>\n",
       "      <th>8666</th>\n",
       "      <td>6612</td>\n",
       "      <td>1</td>\n",
       "      <td>0</td>\n",
       "      <td>0.0</td>\n",
       "      <td>1.0</td>\n",
       "      <td>2.0</td>\n",
       "      <td>2.0</td>\n",
       "      <td>2.0</td>\n",
       "      <td>2.0</td>\n",
       "      <td>1.0</td>\n",
       "      <td>...</td>\n",
       "      <td>2.0</td>\n",
       "      <td>2.0</td>\n",
       "      <td>56.99</td>\n",
       "      <td>56.99</td>\n",
       "      <td>56.99</td>\n",
       "      <td>2.06</td>\n",
       "      <td>2.06</td>\n",
       "      <td>2.06</td>\n",
       "      <td>18.0</td>\n",
       "      <td>0.256061</td>\n",
       "    </tr>\n",
       "    <tr>\n",
       "      <th>10839</th>\n",
       "      <td>4814</td>\n",
       "      <td>1</td>\n",
       "      <td>0</td>\n",
       "      <td>0.0</td>\n",
       "      <td>0.0</td>\n",
       "      <td>0.0</td>\n",
       "      <td>0.0</td>\n",
       "      <td>0.0</td>\n",
       "      <td>0.0</td>\n",
       "      <td>0.0</td>\n",
       "      <td>...</td>\n",
       "      <td>2.0</td>\n",
       "      <td>2.0</td>\n",
       "      <td>63.40</td>\n",
       "      <td>63.40</td>\n",
       "      <td>63.40</td>\n",
       "      <td>2.25</td>\n",
       "      <td>2.25</td>\n",
       "      <td>2.25</td>\n",
       "      <td>548.0</td>\n",
       "      <td>0.259377</td>\n",
       "    </tr>\n",
       "    <tr>\n",
       "      <th>3043</th>\n",
       "      <td>3547</td>\n",
       "      <td>0</td>\n",
       "      <td>0</td>\n",
       "      <td>0.0</td>\n",
       "      <td>0.0</td>\n",
       "      <td>2.0</td>\n",
       "      <td>3.0</td>\n",
       "      <td>3.0</td>\n",
       "      <td>3.0</td>\n",
       "      <td>0.0</td>\n",
       "      <td>...</td>\n",
       "      <td>1.0</td>\n",
       "      <td>1.0</td>\n",
       "      <td>35.56</td>\n",
       "      <td>35.56</td>\n",
       "      <td>35.56</td>\n",
       "      <td>1.40</td>\n",
       "      <td>1.40</td>\n",
       "      <td>1.40</td>\n",
       "      <td>58.0</td>\n",
       "      <td>0.260907</td>\n",
       "    </tr>\n",
       "    <tr>\n",
       "      <th>9480</th>\n",
       "      <td>2476</td>\n",
       "      <td>0</td>\n",
       "      <td>0</td>\n",
       "      <td>0.0</td>\n",
       "      <td>0.0</td>\n",
       "      <td>0.0</td>\n",
       "      <td>0.0</td>\n",
       "      <td>2.0</td>\n",
       "      <td>2.0</td>\n",
       "      <td>0.0</td>\n",
       "      <td>...</td>\n",
       "      <td>3.0</td>\n",
       "      <td>3.0</td>\n",
       "      <td>77.29</td>\n",
       "      <td>77.29</td>\n",
       "      <td>77.29</td>\n",
       "      <td>2.93</td>\n",
       "      <td>2.93</td>\n",
       "      <td>2.93</td>\n",
       "      <td>122.0</td>\n",
       "      <td>0.258966</td>\n",
       "    </tr>\n",
       "  </tbody>\n",
       "</table>\n",
       "<p>5 rows × 53 columns</p>\n",
       "</div>"
      ],
      "text/plain": [
       "       client_id  target  col1453  col2167  col2168  col2169  col2170   \n",
       "4158        3743       1        0      2.0      3.0      3.0      3.0  \\\n",
       "8666        6612       1        0      0.0      1.0      2.0      2.0   \n",
       "10839       4814       1        0      0.0      0.0      0.0      0.0   \n",
       "3043        3547       0        0      0.0      0.0      2.0      3.0   \n",
       "9480        2476       0        0      0.0      0.0      0.0      0.0   \n",
       "\n",
       "       col2171  col2172  col2173  ...  col2365  col2366  col2388  col2389   \n",
       "4158       3.0      3.0      3.0  ...      4.0      4.0    92.55    92.55  \\\n",
       "8666       2.0      2.0      1.0  ...      2.0      2.0    56.99    56.99   \n",
       "10839      0.0      0.0      0.0  ...      2.0      2.0    63.40    63.40   \n",
       "3043       3.0      3.0      0.0  ...      1.0      1.0    35.56    35.56   \n",
       "9480       2.0      2.0      0.0  ...      3.0      3.0    77.29    77.29   \n",
       "\n",
       "       col2390  col2460  col2461  col2462  col2470   col2663  \n",
       "4158     92.55     5.30     5.30     5.30      2.0  0.256061  \n",
       "8666     56.99     2.06     2.06     2.06     18.0  0.256061  \n",
       "10839    63.40     2.25     2.25     2.25    548.0  0.259377  \n",
       "3043     35.56     1.40     1.40     1.40     58.0  0.260907  \n",
       "9480     77.29     2.93     2.93     2.93    122.0  0.258966  \n",
       "\n",
       "[5 rows x 53 columns]"
      ]
     },
     "execution_count": 32,
     "metadata": {},
     "output_type": "execute_result"
    }
   ],
   "source": [
    "clients_changed.head()"
   ]
  },
  {
   "cell_type": "code",
   "execution_count": 33,
   "id": "614d4440",
   "metadata": {},
   "outputs": [],
   "source": [
    "features_train = clients_changed.drop(columns=['target', 'client_id'])"
   ]
  },
  {
   "cell_type": "code",
   "execution_count": 34,
   "id": "431b45b7",
   "metadata": {},
   "outputs": [],
   "source": [
    "target_train = clients_changed['target']"
   ]
  },
  {
   "cell_type": "code",
   "execution_count": 35,
   "id": "47368a92",
   "metadata": {},
   "outputs": [],
   "source": [
    "features_train, target_train = SMOTE().fit_resample(features_train, target_train)"
   ]
  },
  {
   "cell_type": "code",
   "execution_count": 36,
   "id": "6df5f278",
   "metadata": {},
   "outputs": [],
   "source": [
    "params = {\n",
    "    'loss_function': 'Logloss',\n",
    "    'iterations': 300,\n",
    "    'custom_loss': ['AUC', 'F1'],\n",
    "    'random_seed': RS,\n",
    "    'learning_rate': 0.2\n",
    "}"
   ]
  },
  {
   "cell_type": "code",
   "execution_count": 37,
   "id": "8b69401e",
   "metadata": {},
   "outputs": [
    {
     "data": {
      "application/vnd.jupyter.widget-view+json": {
       "model_id": "4209bb30ca664222add7f8a259cfa2b5",
       "version_major": 2,
       "version_minor": 0
      },
      "text/plain": [
       "MetricVisualizer(layout=Layout(align_self='stretch', height='500px'))"
      ]
     },
     "metadata": {},
     "output_type": "display_data"
    },
    {
     "name": "stdout",
     "output_type": "stream",
     "text": [
      "Training on fold [0/5]\n",
      "\n",
      "bestTest = 0.2657955628\n",
      "bestIteration = 83\n",
      "\n",
      "Training on fold [1/5]\n",
      "\n",
      "bestTest = 0.3191221535\n",
      "bestIteration = 119\n",
      "\n",
      "Training on fold [2/5]\n",
      "\n",
      "bestTest = 0.3931816514\n",
      "bestIteration = 62\n",
      "\n",
      "Training on fold [3/5]\n",
      "\n",
      "bestTest = 0.3363049248\n",
      "bestIteration = 68\n",
      "\n",
      "Training on fold [4/5]\n",
      "\n",
      "bestTest = 0.3338696237\n",
      "bestIteration = 64\n",
      "\n"
     ]
    }
   ],
   "source": [
    "cv_data = cv(\n",
    "    params=params,\n",
    "    pool=Pool(features_train, label=target_train),\n",
    "    fold_count=5, # Разбивка выборки на 5 кусочков\n",
    "    shuffle=True, # Перемешаем наши данные\n",
    "    partition_random_seed=RS,\n",
    "    plot=True,\n",
    "    stratified=True, \n",
    "    verbose=False\n",
    ")"
   ]
  },
  {
   "cell_type": "code",
   "execution_count": 38,
   "id": "f4d6ed7e",
   "metadata": {},
   "outputs": [
    {
     "data": {
      "text/html": [
       "<div>\n",
       "<style scoped>\n",
       "    .dataframe tbody tr th:only-of-type {\n",
       "        vertical-align: middle;\n",
       "    }\n",
       "\n",
       "    .dataframe tbody tr th {\n",
       "        vertical-align: top;\n",
       "    }\n",
       "\n",
       "    .dataframe thead th {\n",
       "        text-align: right;\n",
       "    }\n",
       "</style>\n",
       "<table border=\"1\" class=\"dataframe\">\n",
       "  <thead>\n",
       "    <tr style=\"text-align: right;\">\n",
       "      <th></th>\n",
       "      <th>iterations</th>\n",
       "      <th>test-Logloss-mean</th>\n",
       "      <th>test-Logloss-std</th>\n",
       "      <th>train-Logloss-mean</th>\n",
       "      <th>train-Logloss-std</th>\n",
       "      <th>test-AUC-mean</th>\n",
       "      <th>test-AUC-std</th>\n",
       "      <th>test-F1-mean</th>\n",
       "      <th>test-F1-std</th>\n",
       "      <th>train-F1-mean</th>\n",
       "      <th>train-F1-std</th>\n",
       "    </tr>\n",
       "  </thead>\n",
       "  <tbody>\n",
       "    <tr>\n",
       "      <th>0</th>\n",
       "      <td>0</td>\n",
       "      <td>0.654992</td>\n",
       "      <td>0.014982</td>\n",
       "      <td>0.635127</td>\n",
       "      <td>0.012250</td>\n",
       "      <td>0.705375</td>\n",
       "      <td>0.054845</td>\n",
       "      <td>0.612675</td>\n",
       "      <td>0.061511</td>\n",
       "      <td>0.692665</td>\n",
       "      <td>0.018658</td>\n",
       "    </tr>\n",
       "    <tr>\n",
       "      <th>1</th>\n",
       "      <td>1</td>\n",
       "      <td>0.617996</td>\n",
       "      <td>0.017951</td>\n",
       "      <td>0.582159</td>\n",
       "      <td>0.006783</td>\n",
       "      <td>0.784171</td>\n",
       "      <td>0.045685</td>\n",
       "      <td>0.692234</td>\n",
       "      <td>0.041742</td>\n",
       "      <td>0.771671</td>\n",
       "      <td>0.025309</td>\n",
       "    </tr>\n",
       "    <tr>\n",
       "      <th>2</th>\n",
       "      <td>2</td>\n",
       "      <td>0.597432</td>\n",
       "      <td>0.016322</td>\n",
       "      <td>0.555640</td>\n",
       "      <td>0.011928</td>\n",
       "      <td>0.807552</td>\n",
       "      <td>0.044113</td>\n",
       "      <td>0.721323</td>\n",
       "      <td>0.031675</td>\n",
       "      <td>0.792097</td>\n",
       "      <td>0.018839</td>\n",
       "    </tr>\n",
       "    <tr>\n",
       "      <th>3</th>\n",
       "      <td>3</td>\n",
       "      <td>0.580450</td>\n",
       "      <td>0.020721</td>\n",
       "      <td>0.519145</td>\n",
       "      <td>0.020679</td>\n",
       "      <td>0.818490</td>\n",
       "      <td>0.053430</td>\n",
       "      <td>0.733213</td>\n",
       "      <td>0.051147</td>\n",
       "      <td>0.822481</td>\n",
       "      <td>0.022631</td>\n",
       "    </tr>\n",
       "    <tr>\n",
       "      <th>4</th>\n",
       "      <td>4</td>\n",
       "      <td>0.557614</td>\n",
       "      <td>0.020352</td>\n",
       "      <td>0.489394</td>\n",
       "      <td>0.026294</td>\n",
       "      <td>0.842730</td>\n",
       "      <td>0.047001</td>\n",
       "      <td>0.736730</td>\n",
       "      <td>0.026226</td>\n",
       "      <td>0.842400</td>\n",
       "      <td>0.019927</td>\n",
       "    </tr>\n",
       "    <tr>\n",
       "      <th>...</th>\n",
       "      <td>...</td>\n",
       "      <td>...</td>\n",
       "      <td>...</td>\n",
       "      <td>...</td>\n",
       "      <td>...</td>\n",
       "      <td>...</td>\n",
       "      <td>...</td>\n",
       "      <td>...</td>\n",
       "      <td>...</td>\n",
       "      <td>...</td>\n",
       "      <td>...</td>\n",
       "    </tr>\n",
       "    <tr>\n",
       "      <th>295</th>\n",
       "      <td>295</td>\n",
       "      <td>0.385689</td>\n",
       "      <td>0.040631</td>\n",
       "      <td>0.012221</td>\n",
       "      <td>0.002028</td>\n",
       "      <td>0.935152</td>\n",
       "      <td>0.011461</td>\n",
       "      <td>0.851887</td>\n",
       "      <td>0.036071</td>\n",
       "      <td>0.996716</td>\n",
       "      <td>0.001123</td>\n",
       "    </tr>\n",
       "    <tr>\n",
       "      <th>296</th>\n",
       "      <td>296</td>\n",
       "      <td>0.386377</td>\n",
       "      <td>0.040603</td>\n",
       "      <td>0.012190</td>\n",
       "      <td>0.002036</td>\n",
       "      <td>0.935098</td>\n",
       "      <td>0.011434</td>\n",
       "      <td>0.851887</td>\n",
       "      <td>0.036071</td>\n",
       "      <td>0.996716</td>\n",
       "      <td>0.001123</td>\n",
       "    </tr>\n",
       "    <tr>\n",
       "      <th>297</th>\n",
       "      <td>297</td>\n",
       "      <td>0.386715</td>\n",
       "      <td>0.040501</td>\n",
       "      <td>0.012141</td>\n",
       "      <td>0.002060</td>\n",
       "      <td>0.935206</td>\n",
       "      <td>0.011716</td>\n",
       "      <td>0.853240</td>\n",
       "      <td>0.036546</td>\n",
       "      <td>0.996716</td>\n",
       "      <td>0.001123</td>\n",
       "    </tr>\n",
       "    <tr>\n",
       "      <th>298</th>\n",
       "      <td>298</td>\n",
       "      <td>0.387260</td>\n",
       "      <td>0.040691</td>\n",
       "      <td>0.012113</td>\n",
       "      <td>0.002067</td>\n",
       "      <td>0.935421</td>\n",
       "      <td>0.011691</td>\n",
       "      <td>0.850444</td>\n",
       "      <td>0.034038</td>\n",
       "      <td>0.996716</td>\n",
       "      <td>0.001123</td>\n",
       "    </tr>\n",
       "    <tr>\n",
       "      <th>299</th>\n",
       "      <td>299</td>\n",
       "      <td>0.387150</td>\n",
       "      <td>0.040922</td>\n",
       "      <td>0.012097</td>\n",
       "      <td>0.002077</td>\n",
       "      <td>0.935259</td>\n",
       "      <td>0.012002</td>\n",
       "      <td>0.853240</td>\n",
       "      <td>0.036546</td>\n",
       "      <td>0.996716</td>\n",
       "      <td>0.001123</td>\n",
       "    </tr>\n",
       "  </tbody>\n",
       "</table>\n",
       "<p>300 rows × 11 columns</p>\n",
       "</div>"
      ],
      "text/plain": [
       "     iterations  test-Logloss-mean  test-Logloss-std  train-Logloss-mean   \n",
       "0             0           0.654992          0.014982            0.635127  \\\n",
       "1             1           0.617996          0.017951            0.582159   \n",
       "2             2           0.597432          0.016322            0.555640   \n",
       "3             3           0.580450          0.020721            0.519145   \n",
       "4             4           0.557614          0.020352            0.489394   \n",
       "..          ...                ...               ...                 ...   \n",
       "295         295           0.385689          0.040631            0.012221   \n",
       "296         296           0.386377          0.040603            0.012190   \n",
       "297         297           0.386715          0.040501            0.012141   \n",
       "298         298           0.387260          0.040691            0.012113   \n",
       "299         299           0.387150          0.040922            0.012097   \n",
       "\n",
       "     train-Logloss-std  test-AUC-mean  test-AUC-std  test-F1-mean   \n",
       "0             0.012250       0.705375      0.054845      0.612675  \\\n",
       "1             0.006783       0.784171      0.045685      0.692234   \n",
       "2             0.011928       0.807552      0.044113      0.721323   \n",
       "3             0.020679       0.818490      0.053430      0.733213   \n",
       "4             0.026294       0.842730      0.047001      0.736730   \n",
       "..                 ...            ...           ...           ...   \n",
       "295           0.002028       0.935152      0.011461      0.851887   \n",
       "296           0.002036       0.935098      0.011434      0.851887   \n",
       "297           0.002060       0.935206      0.011716      0.853240   \n",
       "298           0.002067       0.935421      0.011691      0.850444   \n",
       "299           0.002077       0.935259      0.012002      0.853240   \n",
       "\n",
       "     test-F1-std  train-F1-mean  train-F1-std  \n",
       "0       0.061511       0.692665      0.018658  \n",
       "1       0.041742       0.771671      0.025309  \n",
       "2       0.031675       0.792097      0.018839  \n",
       "3       0.051147       0.822481      0.022631  \n",
       "4       0.026226       0.842400      0.019927  \n",
       "..           ...            ...           ...  \n",
       "295     0.036071       0.996716      0.001123  \n",
       "296     0.036071       0.996716      0.001123  \n",
       "297     0.036546       0.996716      0.001123  \n",
       "298     0.034038       0.996716      0.001123  \n",
       "299     0.036546       0.996716      0.001123  \n",
       "\n",
       "[300 rows x 11 columns]"
      ]
     },
     "execution_count": 38,
     "metadata": {},
     "output_type": "execute_result"
    }
   ],
   "source": [
    "cv_data"
   ]
  },
  {
   "cell_type": "code",
   "execution_count": 39,
   "id": "7fd8d5ab",
   "metadata": {},
   "outputs": [],
   "source": [
    "changed_auc_valid = cv_data['test-AUC-mean'].tail(1)"
   ]
  },
  {
   "cell_type": "code",
   "execution_count": 40,
   "id": "bc8e722f",
   "metadata": {},
   "outputs": [],
   "source": [
    "changed_f1_valid = cv_data['test-F1-mean'].tail(1)"
   ]
  },
  {
   "cell_type": "code",
   "execution_count": 41,
   "id": "97321753",
   "metadata": {},
   "outputs": [
    {
     "data": {
      "text/plain": [
       "299    0.935259\n",
       "Name: test-AUC-mean, dtype: float64"
      ]
     },
     "execution_count": 41,
     "metadata": {},
     "output_type": "execute_result"
    }
   ],
   "source": [
    "changed_auc_valid"
   ]
  },
  {
   "cell_type": "code",
   "execution_count": 42,
   "id": "829143f5",
   "metadata": {},
   "outputs": [
    {
     "data": {
      "text/plain": [
       "299    0.85324\n",
       "Name: test-F1-mean, dtype: float64"
      ]
     },
     "execution_count": 42,
     "metadata": {},
     "output_type": "execute_result"
    }
   ],
   "source": [
    "changed_f1_valid"
   ]
  },
  {
   "cell_type": "markdown",
   "id": "30cd3921",
   "metadata": {},
   "source": [
    "### Валидация модели"
   ]
  },
  {
   "cell_type": "code",
   "execution_count": 43,
   "id": "d78b039f",
   "metadata": {},
   "outputs": [],
   "source": [
    "model = CatBoostClassifier(loss_function='Logloss',\n",
    "    iterations=300,\n",
    "    custom_loss=['AUC', 'F1'],\n",
    "    random_seed= RS,\n",
    "    learning_rate= 0.2,\n",
    "    verbose=False)"
   ]
  },
  {
   "cell_type": "code",
   "execution_count": 44,
   "id": "b0a180e3",
   "metadata": {},
   "outputs": [
    {
     "data": {
      "text/plain": [
       "<catboost.core.CatBoostClassifier at 0x17f004d44f0>"
      ]
     },
     "execution_count": 44,
     "metadata": {},
     "output_type": "execute_result"
    }
   ],
   "source": [
    "model.fit(features_train, target_train)"
   ]
  },
  {
   "cell_type": "code",
   "execution_count": 45,
   "id": "16f6abbc",
   "metadata": {},
   "outputs": [],
   "source": [
    "features_test = test.drop(columns=['target', 'client_id'])"
   ]
  },
  {
   "cell_type": "code",
   "execution_count": 46,
   "id": "76f03c34",
   "metadata": {},
   "outputs": [],
   "source": [
    "target_test = test['target']"
   ]
  },
  {
   "cell_type": "code",
   "execution_count": 47,
   "id": "f0a2f3e4",
   "metadata": {},
   "outputs": [],
   "source": [
    "pred = model.predict(features_test)"
   ]
  },
  {
   "cell_type": "code",
   "execution_count": 48,
   "id": "2d32924d",
   "metadata": {},
   "outputs": [],
   "source": [
    "changed_auc_test = roc_auc_score(target_test, pred)"
   ]
  },
  {
   "cell_type": "code",
   "execution_count": 49,
   "id": "2763d052",
   "metadata": {},
   "outputs": [
    {
     "data": {
      "text/plain": [
       "0.5046026577807784"
      ]
     },
     "execution_count": 49,
     "metadata": {},
     "output_type": "execute_result"
    }
   ],
   "source": [
    "changed_auc_test"
   ]
  },
  {
   "cell_type": "code",
   "execution_count": 50,
   "id": "a47603a7",
   "metadata": {},
   "outputs": [],
   "source": [
    "changed_f1_test = f1_score(target_test, pred)"
   ]
  },
  {
   "cell_type": "code",
   "execution_count": 51,
   "id": "1fce1df3",
   "metadata": {},
   "outputs": [
    {
     "data": {
      "text/plain": [
       "0.05902777777777777"
      ]
     },
     "execution_count": 51,
     "metadata": {},
     "output_type": "execute_result"
    }
   ],
   "source": [
    "changed_f1_test"
   ]
  },
  {
   "cell_type": "code",
   "execution_count": 52,
   "id": "63d896ea",
   "metadata": {},
   "outputs": [
    {
     "data": {
      "image/png": "[encoded data removed]",
      "text/plain": [
       "<Figure size 640x480 with 2 Axes>"
      ]
     },
     "metadata": {},
     "output_type": "display_data"
    }
   ],
   "source": [
    "cm = confusion_matrix(target_test, pred, normalize='true')\n",
    "ConfusionMatrixDisplay(confusion_matrix=cm).plot()\n",
    "plt.show()"
   ]
  },
  {
   "cell_type": "markdown",
   "id": "175ccbe8",
   "metadata": {},
   "source": [
    "Делаем вывод о том, что модель не обучается на таких данных"
   ]
  },
  {
   "cell_type": "markdown",
   "id": "8b97ba83",
   "metadata": {},
   "source": [
    "## Модель, обученная на измененных данных - добавили наблюдения с таргетом 1 для получения трех единиц по уникальному пользователю, совершившему покупку"
   ]
  },
  {
   "cell_type": "code",
   "execution_count": 53,
   "id": "b4963324",
   "metadata": {},
   "outputs": [],
   "source": [
    "train, test = train_test_split(data_f.drop(columns='report_date'), test_size=0.3, random_state=RS, stratify=data['target'])"
   ]
  },
  {
   "cell_type": "code",
   "execution_count": 54,
   "id": "31ff8bd1",
   "metadata": {},
   "outputs": [],
   "source": [
    "clients = train.query('target == 1').groupby('client_id').agg('count').reset_index()"
   ]
  },
  {
   "cell_type": "code",
   "execution_count": 55,
   "id": "ce81e59e",
   "metadata": {},
   "outputs": [],
   "source": [
    "add_two = clients.query('target == 1')['client_id']"
   ]
  },
  {
   "cell_type": "code",
   "execution_count": 56,
   "id": "f295145f",
   "metadata": {},
   "outputs": [
    {
     "data": {
      "text/plain": [
       "1       210\n",
       "2       264\n",
       "6       354\n",
       "7       415\n",
       "11      474\n",
       "       ... \n",
       "157    7262\n",
       "158    7331\n",
       "160    7652\n",
       "162    8041\n",
       "163    8067\n",
       "Name: client_id, Length: 63, dtype: int64"
      ]
     },
     "execution_count": 56,
     "metadata": {},
     "output_type": "execute_result"
    }
   ],
   "source": [
    "add_two"
   ]
  },
  {
   "cell_type": "code",
   "execution_count": 57,
   "id": "404782df",
   "metadata": {},
   "outputs": [],
   "source": [
    "add_one = clients.query('target == 2')['client_id']"
   ]
  },
  {
   "cell_type": "code",
   "execution_count": 58,
   "id": "a18d553e",
   "metadata": {},
   "outputs": [],
   "source": [
    "add_two_values = train.query('client_id in @add_two & target==1').groupby('client_id').agg('mean').reset_index()"
   ]
  },
  {
   "cell_type": "code",
   "execution_count": 59,
   "id": "1edde0dc",
   "metadata": {},
   "outputs": [],
   "source": [
    "add_one_values = train.query('client_id in @add_one & target==1')"
   ]
  },
  {
   "cell_type": "code",
   "execution_count": 60,
   "id": "14199d35",
   "metadata": {},
   "outputs": [],
   "source": [
    "data_added = pd.concat([train, add_two_values, add_two_values, add_one_values], axis=0)"
   ]
  },
  {
   "cell_type": "code",
   "execution_count": 61,
   "id": "bc2d1519",
   "metadata": {},
   "outputs": [
    {
     "data": {
      "text/html": [
       "<div>\n",
       "<style scoped>\n",
       "    .dataframe tbody tr th:only-of-type {\n",
       "        vertical-align: middle;\n",
       "    }\n",
       "\n",
       "    .dataframe tbody tr th {\n",
       "        vertical-align: top;\n",
       "    }\n",
       "\n",
       "    .dataframe thead th {\n",
       "        text-align: right;\n",
       "    }\n",
       "</style>\n",
       "<table border=\"1\" class=\"dataframe\">\n",
       "  <thead>\n",
       "    <tr style=\"text-align: right;\">\n",
       "      <th></th>\n",
       "      <th>client_id</th>\n",
       "      <th>target</th>\n",
       "      <th>col1453</th>\n",
       "      <th>col2167</th>\n",
       "      <th>col2168</th>\n",
       "      <th>col2169</th>\n",
       "      <th>col2170</th>\n",
       "      <th>col2171</th>\n",
       "      <th>col2172</th>\n",
       "      <th>col2173</th>\n",
       "      <th>...</th>\n",
       "      <th>col2365</th>\n",
       "      <th>col2366</th>\n",
       "      <th>col2388</th>\n",
       "      <th>col2389</th>\n",
       "      <th>col2390</th>\n",
       "      <th>col2460</th>\n",
       "      <th>col2461</th>\n",
       "      <th>col2462</th>\n",
       "      <th>col2470</th>\n",
       "      <th>col2663</th>\n",
       "    </tr>\n",
       "  </thead>\n",
       "  <tbody>\n",
       "    <tr>\n",
       "      <th>12103</th>\n",
       "      <td>1948</td>\n",
       "      <td>0.0</td>\n",
       "      <td>0.0</td>\n",
       "      <td>0.0</td>\n",
       "      <td>0.0</td>\n",
       "      <td>0.0</td>\n",
       "      <td>0.0</td>\n",
       "      <td>2.0</td>\n",
       "      <td>3.0</td>\n",
       "      <td>0.0</td>\n",
       "      <td>...</td>\n",
       "      <td>1.0</td>\n",
       "      <td>1.0</td>\n",
       "      <td>33.65</td>\n",
       "      <td>33.65</td>\n",
       "      <td>33.65</td>\n",
       "      <td>1.13</td>\n",
       "      <td>1.13</td>\n",
       "      <td>1.130</td>\n",
       "      <td>162.000000</td>\n",
       "      <td>0.257549</td>\n",
       "    </tr>\n",
       "    <tr>\n",
       "      <th>6774</th>\n",
       "      <td>4756</td>\n",
       "      <td>0.0</td>\n",
       "      <td>1.0</td>\n",
       "      <td>0.0</td>\n",
       "      <td>0.0</td>\n",
       "      <td>0.0</td>\n",
       "      <td>0.0</td>\n",
       "      <td>3.0</td>\n",
       "      <td>3.0</td>\n",
       "      <td>0.0</td>\n",
       "      <td>...</td>\n",
       "      <td>2.0</td>\n",
       "      <td>2.0</td>\n",
       "      <td>59.49</td>\n",
       "      <td>59.49</td>\n",
       "      <td>59.49</td>\n",
       "      <td>1.83</td>\n",
       "      <td>1.83</td>\n",
       "      <td>1.830</td>\n",
       "      <td>109.000000</td>\n",
       "      <td>0.258306</td>\n",
       "    </tr>\n",
       "    <tr>\n",
       "      <th>12287</th>\n",
       "      <td>3605</td>\n",
       "      <td>0.0</td>\n",
       "      <td>0.0</td>\n",
       "      <td>0.0</td>\n",
       "      <td>0.0</td>\n",
       "      <td>0.0</td>\n",
       "      <td>0.0</td>\n",
       "      <td>0.0</td>\n",
       "      <td>0.0</td>\n",
       "      <td>0.0</td>\n",
       "      <td>...</td>\n",
       "      <td>3.0</td>\n",
       "      <td>3.0</td>\n",
       "      <td>79.58</td>\n",
       "      <td>79.58</td>\n",
       "      <td>79.58</td>\n",
       "      <td>3.98</td>\n",
       "      <td>3.98</td>\n",
       "      <td>3.980</td>\n",
       "      <td>390.000000</td>\n",
       "      <td>0.257348</td>\n",
       "    </tr>\n",
       "    <tr>\n",
       "      <th>8531</th>\n",
       "      <td>1680</td>\n",
       "      <td>0.0</td>\n",
       "      <td>0.0</td>\n",
       "      <td>0.0</td>\n",
       "      <td>0.0</td>\n",
       "      <td>0.0</td>\n",
       "      <td>0.0</td>\n",
       "      <td>0.0</td>\n",
       "      <td>4.0</td>\n",
       "      <td>0.0</td>\n",
       "      <td>...</td>\n",
       "      <td>1.0</td>\n",
       "      <td>1.0</td>\n",
       "      <td>32.02</td>\n",
       "      <td>20.48</td>\n",
       "      <td>26.25</td>\n",
       "      <td>2.02</td>\n",
       "      <td>1.17</td>\n",
       "      <td>1.595</td>\n",
       "      <td>297.000000</td>\n",
       "      <td>0.256261</td>\n",
       "    </tr>\n",
       "    <tr>\n",
       "      <th>6719</th>\n",
       "      <td>2574</td>\n",
       "      <td>0.0</td>\n",
       "      <td>0.0</td>\n",
       "      <td>0.0</td>\n",
       "      <td>0.0</td>\n",
       "      <td>0.0</td>\n",
       "      <td>0.0</td>\n",
       "      <td>0.0</td>\n",
       "      <td>2.0</td>\n",
       "      <td>0.0</td>\n",
       "      <td>...</td>\n",
       "      <td>1.0</td>\n",
       "      <td>1.0</td>\n",
       "      <td>37.07</td>\n",
       "      <td>37.07</td>\n",
       "      <td>37.07</td>\n",
       "      <td>2.28</td>\n",
       "      <td>2.28</td>\n",
       "      <td>2.280</td>\n",
       "      <td>335.000000</td>\n",
       "      <td>0.256261</td>\n",
       "    </tr>\n",
       "    <tr>\n",
       "      <th>...</th>\n",
       "      <td>...</td>\n",
       "      <td>...</td>\n",
       "      <td>...</td>\n",
       "      <td>...</td>\n",
       "      <td>...</td>\n",
       "      <td>...</td>\n",
       "      <td>...</td>\n",
       "      <td>...</td>\n",
       "      <td>...</td>\n",
       "      <td>...</td>\n",
       "      <td>...</td>\n",
       "      <td>...</td>\n",
       "      <td>...</td>\n",
       "      <td>...</td>\n",
       "      <td>...</td>\n",
       "      <td>...</td>\n",
       "      <td>...</td>\n",
       "      <td>...</td>\n",
       "      <td>...</td>\n",
       "      <td>...</td>\n",
       "      <td>...</td>\n",
       "    </tr>\n",
       "    <tr>\n",
       "      <th>12469</th>\n",
       "      <td>7744</td>\n",
       "      <td>1.0</td>\n",
       "      <td>0.0</td>\n",
       "      <td>2.0</td>\n",
       "      <td>4.0</td>\n",
       "      <td>4.0</td>\n",
       "      <td>4.0</td>\n",
       "      <td>4.0</td>\n",
       "      <td>4.0</td>\n",
       "      <td>0.0</td>\n",
       "      <td>...</td>\n",
       "      <td>2.0</td>\n",
       "      <td>2.0</td>\n",
       "      <td>33.10</td>\n",
       "      <td>32.90</td>\n",
       "      <td>33.05</td>\n",
       "      <td>0.00</td>\n",
       "      <td>0.00</td>\n",
       "      <td>0.000</td>\n",
       "      <td>5.000000</td>\n",
       "      <td>0.322993</td>\n",
       "    </tr>\n",
       "    <tr>\n",
       "      <th>9820</th>\n",
       "      <td>3849</td>\n",
       "      <td>1.0</td>\n",
       "      <td>0.0</td>\n",
       "      <td>0.0</td>\n",
       "      <td>0.0</td>\n",
       "      <td>0.0</td>\n",
       "      <td>0.0</td>\n",
       "      <td>0.0</td>\n",
       "      <td>3.0</td>\n",
       "      <td>0.0</td>\n",
       "      <td>...</td>\n",
       "      <td>1.0</td>\n",
       "      <td>1.0</td>\n",
       "      <td>37.30</td>\n",
       "      <td>3.20</td>\n",
       "      <td>20.25</td>\n",
       "      <td>0.00</td>\n",
       "      <td>0.00</td>\n",
       "      <td>0.000</td>\n",
       "      <td>307.000000</td>\n",
       "      <td>0.287503</td>\n",
       "    </tr>\n",
       "    <tr>\n",
       "      <th>9121</th>\n",
       "      <td>2037</td>\n",
       "      <td>1.0</td>\n",
       "      <td>0.0</td>\n",
       "      <td>0.0</td>\n",
       "      <td>0.0</td>\n",
       "      <td>0.0</td>\n",
       "      <td>3.0</td>\n",
       "      <td>3.0</td>\n",
       "      <td>3.0</td>\n",
       "      <td>0.0</td>\n",
       "      <td>...</td>\n",
       "      <td>4.0</td>\n",
       "      <td>4.0</td>\n",
       "      <td>92.55</td>\n",
       "      <td>92.55</td>\n",
       "      <td>92.55</td>\n",
       "      <td>5.30</td>\n",
       "      <td>5.30</td>\n",
       "      <td>5.300</td>\n",
       "      <td>61.000000</td>\n",
       "      <td>0.258306</td>\n",
       "    </tr>\n",
       "    <tr>\n",
       "      <th>10641</th>\n",
       "      <td>6805</td>\n",
       "      <td>1.0</td>\n",
       "      <td>0.0</td>\n",
       "      <td>0.0</td>\n",
       "      <td>0.0</td>\n",
       "      <td>0.0</td>\n",
       "      <td>0.0</td>\n",
       "      <td>0.0</td>\n",
       "      <td>0.0</td>\n",
       "      <td>0.0</td>\n",
       "      <td>...</td>\n",
       "      <td>1.0</td>\n",
       "      <td>1.0</td>\n",
       "      <td>35.66</td>\n",
       "      <td>35.66</td>\n",
       "      <td>35.66</td>\n",
       "      <td>0.00</td>\n",
       "      <td>0.00</td>\n",
       "      <td>0.000</td>\n",
       "      <td>332.556663</td>\n",
       "      <td>0.256261</td>\n",
       "    </tr>\n",
       "    <tr>\n",
       "      <th>7137</th>\n",
       "      <td>3537</td>\n",
       "      <td>1.0</td>\n",
       "      <td>0.0</td>\n",
       "      <td>0.0</td>\n",
       "      <td>0.0</td>\n",
       "      <td>0.0</td>\n",
       "      <td>0.0</td>\n",
       "      <td>0.0</td>\n",
       "      <td>2.0</td>\n",
       "      <td>0.0</td>\n",
       "      <td>...</td>\n",
       "      <td>2.0</td>\n",
       "      <td>2.0</td>\n",
       "      <td>51.33</td>\n",
       "      <td>51.33</td>\n",
       "      <td>51.33</td>\n",
       "      <td>2.97</td>\n",
       "      <td>2.97</td>\n",
       "      <td>2.970</td>\n",
       "      <td>335.000000</td>\n",
       "      <td>0.256061</td>\n",
       "    </tr>\n",
       "  </tbody>\n",
       "</table>\n",
       "<p>10367 rows × 53 columns</p>\n",
       "</div>"
      ],
      "text/plain": [
       "       client_id  target  col1453  col2167  col2168  col2169  col2170   \n",
       "12103       1948     0.0      0.0      0.0      0.0      0.0      0.0  \\\n",
       "6774        4756     0.0      1.0      0.0      0.0      0.0      0.0   \n",
       "12287       3605     0.0      0.0      0.0      0.0      0.0      0.0   \n",
       "8531        1680     0.0      0.0      0.0      0.0      0.0      0.0   \n",
       "6719        2574     0.0      0.0      0.0      0.0      0.0      0.0   \n",
       "...          ...     ...      ...      ...      ...      ...      ...   \n",
       "12469       7744     1.0      0.0      2.0      4.0      4.0      4.0   \n",
       "9820        3849     1.0      0.0      0.0      0.0      0.0      0.0   \n",
       "9121        2037     1.0      0.0      0.0      0.0      0.0      3.0   \n",
       "10641       6805     1.0      0.0      0.0      0.0      0.0      0.0   \n",
       "7137        3537     1.0      0.0      0.0      0.0      0.0      0.0   \n",
       "\n",
       "       col2171  col2172  col2173  ...  col2365  col2366  col2388  col2389   \n",
       "12103      2.0      3.0      0.0  ...      1.0      1.0    33.65    33.65  \\\n",
       "6774       3.0      3.0      0.0  ...      2.0      2.0    59.49    59.49   \n",
       "12287      0.0      0.0      0.0  ...      3.0      3.0    79.58    79.58   \n",
       "8531       0.0      4.0      0.0  ...      1.0      1.0    32.02    20.48   \n",
       "6719       0.0      2.0      0.0  ...      1.0      1.0    37.07    37.07   \n",
       "...        ...      ...      ...  ...      ...      ...      ...      ...   \n",
       "12469      4.0      4.0      0.0  ...      2.0      2.0    33.10    32.90   \n",
       "9820       0.0      3.0      0.0  ...      1.0      1.0    37.30     3.20   \n",
       "9121       3.0      3.0      0.0  ...      4.0      4.0    92.55    92.55   \n",
       "10641      0.0      0.0      0.0  ...      1.0      1.0    35.66    35.66   \n",
       "7137       0.0      2.0      0.0  ...      2.0      2.0    51.33    51.33   \n",
       "\n",
       "       col2390  col2460  col2461  col2462     col2470   col2663  \n",
       "12103    33.65     1.13     1.13    1.130  162.000000  0.257549  \n",
       "6774     59.49     1.83     1.83    1.830  109.000000  0.258306  \n",
       "12287    79.58     3.98     3.98    3.980  390.000000  0.257348  \n",
       "8531     26.25     2.02     1.17    1.595  297.000000  0.256261  \n",
       "6719     37.07     2.28     2.28    2.280  335.000000  0.256261  \n",
       "...        ...      ...      ...      ...         ...       ...  \n",
       "12469    33.05     0.00     0.00    0.000    5.000000  0.322993  \n",
       "9820     20.25     0.00     0.00    0.000  307.000000  0.287503  \n",
       "9121     92.55     5.30     5.30    5.300   61.000000  0.258306  \n",
       "10641    35.66     0.00     0.00    0.000  332.556663  0.256261  \n",
       "7137     51.33     2.97     2.97    2.970  335.000000  0.256061  \n",
       "\n",
       "[10367 rows x 53 columns]"
      ]
     },
     "execution_count": 61,
     "metadata": {},
     "output_type": "execute_result"
    }
   ],
   "source": [
    "data_added"
   ]
  },
  {
   "cell_type": "code",
   "execution_count": 62,
   "id": "b5f845fc",
   "metadata": {},
   "outputs": [],
   "source": [
    "features_train = data_added.drop(columns=['target', 'client_id'])"
   ]
  },
  {
   "cell_type": "code",
   "execution_count": 63,
   "id": "0e4ab6ec",
   "metadata": {},
   "outputs": [],
   "source": [
    "target_train = data_added['target']"
   ]
  },
  {
   "cell_type": "code",
   "execution_count": 64,
   "id": "348a4d06",
   "metadata": {},
   "outputs": [],
   "source": [
    "features_train, target_train = SMOTE().fit_resample(features_train, target_train)"
   ]
  },
  {
   "cell_type": "code",
   "execution_count": 65,
   "id": "562db6b8",
   "metadata": {},
   "outputs": [],
   "source": [
    "params = {\n",
    "    'loss_function': 'Logloss',\n",
    "    'iterations': 300,\n",
    "    'custom_loss': ['AUC', 'F1'],\n",
    "    'random_seed': RS,\n",
    "    'learning_rate': 0.2\n",
    "}"
   ]
  },
  {
   "cell_type": "code",
   "execution_count": 66,
   "id": "a171f523",
   "metadata": {},
   "outputs": [
    {
     "data": {
      "application/vnd.jupyter.widget-view+json": {
       "model_id": "64b407760c01445d907884af8faf5254",
       "version_major": 2,
       "version_minor": 0
      },
      "text/plain": [
       "MetricVisualizer(layout=Layout(align_self='stretch', height='500px'))"
      ]
     },
     "metadata": {},
     "output_type": "display_data"
    },
    {
     "name": "stdout",
     "output_type": "stream",
     "text": [
      "Training on fold [0/5]\n",
      "\n",
      "bestTest = 0.02698364126\n",
      "bestIteration = 299\n",
      "\n",
      "Training on fold [1/5]\n",
      "\n",
      "bestTest = 0.02898584742\n",
      "bestIteration = 299\n",
      "\n",
      "Training on fold [2/5]\n",
      "\n",
      "bestTest = 0.02363276002\n",
      "bestIteration = 299\n",
      "\n",
      "Training on fold [3/5]\n",
      "\n",
      "bestTest = 0.02646903615\n",
      "bestIteration = 299\n",
      "\n",
      "Training on fold [4/5]\n",
      "\n",
      "bestTest = 0.02714587718\n",
      "bestIteration = 299\n",
      "\n"
     ]
    }
   ],
   "source": [
    "cv_data = cv(\n",
    "    params=params,\n",
    "    pool=Pool(features_train, label=target_train),\n",
    "    fold_count=5, # Разбивка выборки на 5 кусочков\n",
    "    shuffle=True, # Перемешаем наши данные\n",
    "    partition_random_seed=RS,\n",
    "    plot=True,\n",
    "    stratified=True, \n",
    "    verbose=False\n",
    ")"
   ]
  },
  {
   "cell_type": "code",
   "execution_count": 67,
   "id": "8547adc3",
   "metadata": {},
   "outputs": [
    {
     "data": {
      "text/html": [
       "<div>\n",
       "<style scoped>\n",
       "    .dataframe tbody tr th:only-of-type {\n",
       "        vertical-align: middle;\n",
       "    }\n",
       "\n",
       "    .dataframe tbody tr th {\n",
       "        vertical-align: top;\n",
       "    }\n",
       "\n",
       "    .dataframe thead th {\n",
       "        text-align: right;\n",
       "    }\n",
       "</style>\n",
       "<table border=\"1\" class=\"dataframe\">\n",
       "  <thead>\n",
       "    <tr style=\"text-align: right;\">\n",
       "      <th></th>\n",
       "      <th>iterations</th>\n",
       "      <th>test-Logloss-mean</th>\n",
       "      <th>test-Logloss-std</th>\n",
       "      <th>train-Logloss-mean</th>\n",
       "      <th>train-Logloss-std</th>\n",
       "      <th>test-AUC-mean</th>\n",
       "      <th>test-AUC-std</th>\n",
       "      <th>test-F1-mean</th>\n",
       "      <th>test-F1-std</th>\n",
       "      <th>train-F1-mean</th>\n",
       "      <th>train-F1-std</th>\n",
       "    </tr>\n",
       "  </thead>\n",
       "  <tbody>\n",
       "    <tr>\n",
       "      <th>0</th>\n",
       "      <td>0</td>\n",
       "      <td>0.598816</td>\n",
       "      <td>0.011656</td>\n",
       "      <td>0.597477</td>\n",
       "      <td>0.011387</td>\n",
       "      <td>0.845266</td>\n",
       "      <td>0.010546</td>\n",
       "      <td>0.764888</td>\n",
       "      <td>0.011987</td>\n",
       "      <td>0.769898</td>\n",
       "      <td>0.002566</td>\n",
       "    </tr>\n",
       "    <tr>\n",
       "      <th>1</th>\n",
       "      <td>1</td>\n",
       "      <td>0.528167</td>\n",
       "      <td>0.008973</td>\n",
       "      <td>0.526439</td>\n",
       "      <td>0.005693</td>\n",
       "      <td>0.875917</td>\n",
       "      <td>0.008365</td>\n",
       "      <td>0.798894</td>\n",
       "      <td>0.012568</td>\n",
       "      <td>0.802270</td>\n",
       "      <td>0.009493</td>\n",
       "    </tr>\n",
       "    <tr>\n",
       "      <th>2</th>\n",
       "      <td>2</td>\n",
       "      <td>0.482357</td>\n",
       "      <td>0.006382</td>\n",
       "      <td>0.479442</td>\n",
       "      <td>0.002847</td>\n",
       "      <td>0.894021</td>\n",
       "      <td>0.005914</td>\n",
       "      <td>0.804752</td>\n",
       "      <td>0.007166</td>\n",
       "      <td>0.808197</td>\n",
       "      <td>0.007923</td>\n",
       "    </tr>\n",
       "    <tr>\n",
       "      <th>3</th>\n",
       "      <td>3</td>\n",
       "      <td>0.448205</td>\n",
       "      <td>0.011566</td>\n",
       "      <td>0.445589</td>\n",
       "      <td>0.010064</td>\n",
       "      <td>0.907242</td>\n",
       "      <td>0.005726</td>\n",
       "      <td>0.819093</td>\n",
       "      <td>0.004366</td>\n",
       "      <td>0.823143</td>\n",
       "      <td>0.007921</td>\n",
       "    </tr>\n",
       "    <tr>\n",
       "      <th>4</th>\n",
       "      <td>4</td>\n",
       "      <td>0.426441</td>\n",
       "      <td>0.009737</td>\n",
       "      <td>0.422528</td>\n",
       "      <td>0.007255</td>\n",
       "      <td>0.916042</td>\n",
       "      <td>0.003482</td>\n",
       "      <td>0.827082</td>\n",
       "      <td>0.008505</td>\n",
       "      <td>0.831714</td>\n",
       "      <td>0.005468</td>\n",
       "    </tr>\n",
       "    <tr>\n",
       "      <th>...</th>\n",
       "      <td>...</td>\n",
       "      <td>...</td>\n",
       "      <td>...</td>\n",
       "      <td>...</td>\n",
       "      <td>...</td>\n",
       "      <td>...</td>\n",
       "      <td>...</td>\n",
       "      <td>...</td>\n",
       "      <td>...</td>\n",
       "      <td>...</td>\n",
       "      <td>...</td>\n",
       "    </tr>\n",
       "    <tr>\n",
       "      <th>295</th>\n",
       "      <td>295</td>\n",
       "      <td>0.026939</td>\n",
       "      <td>0.002042</td>\n",
       "      <td>0.011319</td>\n",
       "      <td>0.000298</td>\n",
       "      <td>0.999432</td>\n",
       "      <td>0.000357</td>\n",
       "      <td>0.993972</td>\n",
       "      <td>0.000601</td>\n",
       "      <td>0.999414</td>\n",
       "      <td>0.000152</td>\n",
       "    </tr>\n",
       "    <tr>\n",
       "      <th>296</th>\n",
       "      <td>296</td>\n",
       "      <td>0.026840</td>\n",
       "      <td>0.002018</td>\n",
       "      <td>0.011226</td>\n",
       "      <td>0.000279</td>\n",
       "      <td>0.999441</td>\n",
       "      <td>0.000351</td>\n",
       "      <td>0.994022</td>\n",
       "      <td>0.000523</td>\n",
       "      <td>0.999427</td>\n",
       "      <td>0.000127</td>\n",
       "    </tr>\n",
       "    <tr>\n",
       "      <th>297</th>\n",
       "      <td>297</td>\n",
       "      <td>0.026753</td>\n",
       "      <td>0.001981</td>\n",
       "      <td>0.011163</td>\n",
       "      <td>0.000296</td>\n",
       "      <td>0.999448</td>\n",
       "      <td>0.000353</td>\n",
       "      <td>0.993972</td>\n",
       "      <td>0.000546</td>\n",
       "      <td>0.999440</td>\n",
       "      <td>0.000138</td>\n",
       "    </tr>\n",
       "    <tr>\n",
       "      <th>298</th>\n",
       "      <td>298</td>\n",
       "      <td>0.026680</td>\n",
       "      <td>0.001946</td>\n",
       "      <td>0.011084</td>\n",
       "      <td>0.000318</td>\n",
       "      <td>0.999443</td>\n",
       "      <td>0.000354</td>\n",
       "      <td>0.993972</td>\n",
       "      <td>0.000546</td>\n",
       "      <td>0.999453</td>\n",
       "      <td>0.000132</td>\n",
       "    </tr>\n",
       "    <tr>\n",
       "      <th>299</th>\n",
       "      <td>299</td>\n",
       "      <td>0.026643</td>\n",
       "      <td>0.001933</td>\n",
       "      <td>0.011033</td>\n",
       "      <td>0.000323</td>\n",
       "      <td>0.999447</td>\n",
       "      <td>0.000356</td>\n",
       "      <td>0.994022</td>\n",
       "      <td>0.000492</td>\n",
       "      <td>0.999453</td>\n",
       "      <td>0.000132</td>\n",
       "    </tr>\n",
       "  </tbody>\n",
       "</table>\n",
       "<p>300 rows × 11 columns</p>\n",
       "</div>"
      ],
      "text/plain": [
       "     iterations  test-Logloss-mean  test-Logloss-std  train-Logloss-mean   \n",
       "0             0           0.598816          0.011656            0.597477  \\\n",
       "1             1           0.528167          0.008973            0.526439   \n",
       "2             2           0.482357          0.006382            0.479442   \n",
       "3             3           0.448205          0.011566            0.445589   \n",
       "4             4           0.426441          0.009737            0.422528   \n",
       "..          ...                ...               ...                 ...   \n",
       "295         295           0.026939          0.002042            0.011319   \n",
       "296         296           0.026840          0.002018            0.011226   \n",
       "297         297           0.026753          0.001981            0.011163   \n",
       "298         298           0.026680          0.001946            0.011084   \n",
       "299         299           0.026643          0.001933            0.011033   \n",
       "\n",
       "     train-Logloss-std  test-AUC-mean  test-AUC-std  test-F1-mean   \n",
       "0             0.011387       0.845266      0.010546      0.764888  \\\n",
       "1             0.005693       0.875917      0.008365      0.798894   \n",
       "2             0.002847       0.894021      0.005914      0.804752   \n",
       "3             0.010064       0.907242      0.005726      0.819093   \n",
       "4             0.007255       0.916042      0.003482      0.827082   \n",
       "..                 ...            ...           ...           ...   \n",
       "295           0.000298       0.999432      0.000357      0.993972   \n",
       "296           0.000279       0.999441      0.000351      0.994022   \n",
       "297           0.000296       0.999448      0.000353      0.993972   \n",
       "298           0.000318       0.999443      0.000354      0.993972   \n",
       "299           0.000323       0.999447      0.000356      0.994022   \n",
       "\n",
       "     test-F1-std  train-F1-mean  train-F1-std  \n",
       "0       0.011987       0.769898      0.002566  \n",
       "1       0.012568       0.802270      0.009493  \n",
       "2       0.007166       0.808197      0.007923  \n",
       "3       0.004366       0.823143      0.007921  \n",
       "4       0.008505       0.831714      0.005468  \n",
       "..           ...            ...           ...  \n",
       "295     0.000601       0.999414      0.000152  \n",
       "296     0.000523       0.999427      0.000127  \n",
       "297     0.000546       0.999440      0.000138  \n",
       "298     0.000546       0.999453      0.000132  \n",
       "299     0.000492       0.999453      0.000132  \n",
       "\n",
       "[300 rows x 11 columns]"
      ]
     },
     "execution_count": 67,
     "metadata": {},
     "output_type": "execute_result"
    }
   ],
   "source": [
    "cv_data"
   ]
  },
  {
   "cell_type": "code",
   "execution_count": 68,
   "id": "f9066a9f",
   "metadata": {},
   "outputs": [],
   "source": [
    "added_auc_valid = cv_data['test-AUC-mean'].tail(1)"
   ]
  },
  {
   "cell_type": "code",
   "execution_count": 69,
   "id": "1bdf4260",
   "metadata": {},
   "outputs": [],
   "source": [
    "added_f1_valid = cv_data['test-F1-mean'].tail(1)"
   ]
  },
  {
   "cell_type": "code",
   "execution_count": 70,
   "id": "3a917dbd",
   "metadata": {},
   "outputs": [
    {
     "data": {
      "text/plain": [
       "299    0.999447\n",
       "Name: test-AUC-mean, dtype: float64"
      ]
     },
     "execution_count": 70,
     "metadata": {},
     "output_type": "execute_result"
    }
   ],
   "source": [
    "added_auc_valid"
   ]
  },
  {
   "cell_type": "code",
   "execution_count": 71,
   "id": "55cdf892",
   "metadata": {},
   "outputs": [
    {
     "data": {
      "text/plain": [
       "299    0.994022\n",
       "Name: test-F1-mean, dtype: float64"
      ]
     },
     "execution_count": 71,
     "metadata": {},
     "output_type": "execute_result"
    }
   ],
   "source": [
    "added_f1_valid"
   ]
  },
  {
   "cell_type": "markdown",
   "id": "4838eac4",
   "metadata": {},
   "source": [
    "### Валидация модели"
   ]
  },
  {
   "cell_type": "code",
   "execution_count": 72,
   "id": "6f1cdcd1",
   "metadata": {},
   "outputs": [],
   "source": [
    "model = CatBoostClassifier(loss_function='Logloss',\n",
    "    iterations=300,\n",
    "    custom_loss=['AUC', 'F1'],\n",
    "    random_seed= RS,\n",
    "    learning_rate= 0.2,\n",
    "    verbose=False)"
   ]
  },
  {
   "cell_type": "code",
   "execution_count": 73,
   "id": "a1c99f92",
   "metadata": {},
   "outputs": [
    {
     "data": {
      "text/plain": [
       "<catboost.core.CatBoostClassifier at 0x17f002d58e0>"
      ]
     },
     "execution_count": 73,
     "metadata": {},
     "output_type": "execute_result"
    }
   ],
   "source": [
    "model.fit(features_train, target_train)"
   ]
  },
  {
   "cell_type": "code",
   "execution_count": 74,
   "id": "b437958c",
   "metadata": {},
   "outputs": [],
   "source": [
    "features_test = test.drop(columns=['target', 'client_id'])"
   ]
  },
  {
   "cell_type": "code",
   "execution_count": 75,
   "id": "84e5e579",
   "metadata": {},
   "outputs": [],
   "source": [
    "target_test = test['target']"
   ]
  },
  {
   "cell_type": "code",
   "execution_count": 76,
   "id": "346db934",
   "metadata": {},
   "outputs": [],
   "source": [
    "pred = model.predict(features_test)"
   ]
  },
  {
   "cell_type": "code",
   "execution_count": 77,
   "id": "8494b0e3",
   "metadata": {},
   "outputs": [],
   "source": [
    "added_auc_test = roc_auc_score(target_test, pred)"
   ]
  },
  {
   "cell_type": "code",
   "execution_count": 78,
   "id": "dd9c6c9b",
   "metadata": {},
   "outputs": [
    {
     "data": {
      "text/plain": [
       "0.8455577818674159"
      ]
     },
     "execution_count": 78,
     "metadata": {},
     "output_type": "execute_result"
    }
   ],
   "source": [
    "added_auc_test"
   ]
  },
  {
   "cell_type": "code",
   "execution_count": 79,
   "id": "ad664f01",
   "metadata": {},
   "outputs": [],
   "source": [
    "added_f1_test = f1_score(target_test, pred)"
   ]
  },
  {
   "cell_type": "code",
   "execution_count": 80,
   "id": "2a736bec",
   "metadata": {
    "scrolled": true
   },
   "outputs": [
    {
     "data": {
      "text/plain": [
       "0.6814814814814815"
      ]
     },
     "execution_count": 80,
     "metadata": {},
     "output_type": "execute_result"
    }
   ],
   "source": [
    "added_f1_test"
   ]
  },
  {
   "cell_type": "code",
   "execution_count": 81,
   "id": "3ecda2b4",
   "metadata": {},
   "outputs": [
    {
     "data": {
      "image/png": "[encoded data removed]",
      "text/plain": [
       "<Figure size 640x480 with 2 Axes>"
      ]
     },
     "metadata": {},
     "output_type": "display_data"
    }
   ],
   "source": [
    "cm = confusion_matrix(target_test, pred, normalize='true')\n",
    "ConfusionMatrixDisplay(confusion_matrix=cm).plot()\n",
    "plt.show()"
   ]
  },
  {
   "cell_type": "markdown",
   "id": "eb5a91e4",
   "metadata": {},
   "source": [
    "## Модель, обученная на измененных данных - заполнили единицами таргет у всех уникальных пользователей, у кого встречается хотя бы одна единица в таргете"
   ]
  },
  {
   "cell_type": "code",
   "execution_count": 82,
   "id": "139b874e",
   "metadata": {},
   "outputs": [],
   "source": [
    "train, test = train_test_split(data_f.drop(columns='report_date'), test_size=0.3, random_state=RS, stratify=data_f['target'])"
   ]
  },
  {
   "cell_type": "code",
   "execution_count": 83,
   "id": "3c87bad6",
   "metadata": {},
   "outputs": [
    {
     "data": {
      "text/html": [
       "<div>\n",
       "<style scoped>\n",
       "    .dataframe tbody tr th:only-of-type {\n",
       "        vertical-align: middle;\n",
       "    }\n",
       "\n",
       "    .dataframe tbody tr th {\n",
       "        vertical-align: top;\n",
       "    }\n",
       "\n",
       "    .dataframe thead th {\n",
       "        text-align: right;\n",
       "    }\n",
       "</style>\n",
       "<table border=\"1\" class=\"dataframe\">\n",
       "  <thead>\n",
       "    <tr style=\"text-align: right;\">\n",
       "      <th></th>\n",
       "      <th>client_id</th>\n",
       "      <th>target</th>\n",
       "      <th>col1453</th>\n",
       "      <th>col2167</th>\n",
       "      <th>col2168</th>\n",
       "      <th>col2169</th>\n",
       "      <th>col2170</th>\n",
       "      <th>col2171</th>\n",
       "      <th>col2172</th>\n",
       "      <th>col2173</th>\n",
       "      <th>...</th>\n",
       "      <th>col2365</th>\n",
       "      <th>col2366</th>\n",
       "      <th>col2388</th>\n",
       "      <th>col2389</th>\n",
       "      <th>col2390</th>\n",
       "      <th>col2460</th>\n",
       "      <th>col2461</th>\n",
       "      <th>col2462</th>\n",
       "      <th>col2470</th>\n",
       "      <th>col2663</th>\n",
       "    </tr>\n",
       "  </thead>\n",
       "  <tbody>\n",
       "    <tr>\n",
       "      <th>4158</th>\n",
       "      <td>3743</td>\n",
       "      <td>1</td>\n",
       "      <td>0</td>\n",
       "      <td>2.0</td>\n",
       "      <td>3.0</td>\n",
       "      <td>3.0</td>\n",
       "      <td>3.0</td>\n",
       "      <td>3.0</td>\n",
       "      <td>3.0</td>\n",
       "      <td>3.0</td>\n",
       "      <td>...</td>\n",
       "      <td>4.0</td>\n",
       "      <td>4.0</td>\n",
       "      <td>92.55</td>\n",
       "      <td>92.55</td>\n",
       "      <td>92.550000</td>\n",
       "      <td>5.30</td>\n",
       "      <td>5.30</td>\n",
       "      <td>5.30</td>\n",
       "      <td>2.000000</td>\n",
       "      <td>0.256061</td>\n",
       "    </tr>\n",
       "    <tr>\n",
       "      <th>8666</th>\n",
       "      <td>6612</td>\n",
       "      <td>1</td>\n",
       "      <td>0</td>\n",
       "      <td>0.0</td>\n",
       "      <td>1.0</td>\n",
       "      <td>2.0</td>\n",
       "      <td>2.0</td>\n",
       "      <td>2.0</td>\n",
       "      <td>2.0</td>\n",
       "      <td>1.0</td>\n",
       "      <td>...</td>\n",
       "      <td>2.0</td>\n",
       "      <td>2.0</td>\n",
       "      <td>56.99</td>\n",
       "      <td>56.99</td>\n",
       "      <td>56.990000</td>\n",
       "      <td>2.06</td>\n",
       "      <td>2.06</td>\n",
       "      <td>2.06</td>\n",
       "      <td>18.000000</td>\n",
       "      <td>0.256061</td>\n",
       "    </tr>\n",
       "    <tr>\n",
       "      <th>10839</th>\n",
       "      <td>4814</td>\n",
       "      <td>1</td>\n",
       "      <td>0</td>\n",
       "      <td>0.0</td>\n",
       "      <td>0.0</td>\n",
       "      <td>0.0</td>\n",
       "      <td>0.0</td>\n",
       "      <td>0.0</td>\n",
       "      <td>0.0</td>\n",
       "      <td>0.0</td>\n",
       "      <td>...</td>\n",
       "      <td>2.0</td>\n",
       "      <td>2.0</td>\n",
       "      <td>63.40</td>\n",
       "      <td>63.40</td>\n",
       "      <td>63.400000</td>\n",
       "      <td>2.25</td>\n",
       "      <td>2.25</td>\n",
       "      <td>2.25</td>\n",
       "      <td>548.000000</td>\n",
       "      <td>0.259377</td>\n",
       "    </tr>\n",
       "    <tr>\n",
       "      <th>11321</th>\n",
       "      <td>3189</td>\n",
       "      <td>1</td>\n",
       "      <td>0</td>\n",
       "      <td>0.0</td>\n",
       "      <td>0.0</td>\n",
       "      <td>0.0</td>\n",
       "      <td>0.0</td>\n",
       "      <td>0.0</td>\n",
       "      <td>0.0</td>\n",
       "      <td>0.0</td>\n",
       "      <td>...</td>\n",
       "      <td>3.0</td>\n",
       "      <td>3.0</td>\n",
       "      <td>71.12</td>\n",
       "      <td>71.12</td>\n",
       "      <td>71.120000</td>\n",
       "      <td>2.88</td>\n",
       "      <td>2.88</td>\n",
       "      <td>2.88</td>\n",
       "      <td>370.000000</td>\n",
       "      <td>0.260262</td>\n",
       "    </tr>\n",
       "    <tr>\n",
       "      <th>14224</th>\n",
       "      <td>6360</td>\n",
       "      <td>1</td>\n",
       "      <td>0</td>\n",
       "      <td>0.0</td>\n",
       "      <td>0.0</td>\n",
       "      <td>0.0</td>\n",
       "      <td>0.0</td>\n",
       "      <td>2.0</td>\n",
       "      <td>2.0</td>\n",
       "      <td>0.0</td>\n",
       "      <td>...</td>\n",
       "      <td>3.0</td>\n",
       "      <td>3.0</td>\n",
       "      <td>77.30</td>\n",
       "      <td>77.30</td>\n",
       "      <td>77.300000</td>\n",
       "      <td>4.10</td>\n",
       "      <td>4.10</td>\n",
       "      <td>4.10</td>\n",
       "      <td>95.000000</td>\n",
       "      <td>0.256261</td>\n",
       "    </tr>\n",
       "    <tr>\n",
       "      <th>...</th>\n",
       "      <td>...</td>\n",
       "      <td>...</td>\n",
       "      <td>...</td>\n",
       "      <td>...</td>\n",
       "      <td>...</td>\n",
       "      <td>...</td>\n",
       "      <td>...</td>\n",
       "      <td>...</td>\n",
       "      <td>...</td>\n",
       "      <td>...</td>\n",
       "      <td>...</td>\n",
       "      <td>...</td>\n",
       "      <td>...</td>\n",
       "      <td>...</td>\n",
       "      <td>...</td>\n",
       "      <td>...</td>\n",
       "      <td>...</td>\n",
       "      <td>...</td>\n",
       "      <td>...</td>\n",
       "      <td>...</td>\n",
       "      <td>...</td>\n",
       "    </tr>\n",
       "    <tr>\n",
       "      <th>11374</th>\n",
       "      <td>958</td>\n",
       "      <td>1</td>\n",
       "      <td>0</td>\n",
       "      <td>0.0</td>\n",
       "      <td>0.0</td>\n",
       "      <td>0.0</td>\n",
       "      <td>0.0</td>\n",
       "      <td>3.0</td>\n",
       "      <td>3.0</td>\n",
       "      <td>0.0</td>\n",
       "      <td>...</td>\n",
       "      <td>1.0</td>\n",
       "      <td>1.0</td>\n",
       "      <td>29.89</td>\n",
       "      <td>29.89</td>\n",
       "      <td>29.890000</td>\n",
       "      <td>3.96</td>\n",
       "      <td>3.96</td>\n",
       "      <td>3.96</td>\n",
       "      <td>148.000000</td>\n",
       "      <td>0.263759</td>\n",
       "    </tr>\n",
       "    <tr>\n",
       "      <th>2376</th>\n",
       "      <td>473</td>\n",
       "      <td>1</td>\n",
       "      <td>0</td>\n",
       "      <td>0.0</td>\n",
       "      <td>0.0</td>\n",
       "      <td>0.0</td>\n",
       "      <td>0.0</td>\n",
       "      <td>2.0</td>\n",
       "      <td>3.0</td>\n",
       "      <td>0.0</td>\n",
       "      <td>...</td>\n",
       "      <td>3.0</td>\n",
       "      <td>3.0</td>\n",
       "      <td>76.43</td>\n",
       "      <td>76.43</td>\n",
       "      <td>76.430000</td>\n",
       "      <td>0.00</td>\n",
       "      <td>0.00</td>\n",
       "      <td>0.00</td>\n",
       "      <td>178.000000</td>\n",
       "      <td>0.256261</td>\n",
       "    </tr>\n",
       "    <tr>\n",
       "      <th>10641</th>\n",
       "      <td>6805</td>\n",
       "      <td>1</td>\n",
       "      <td>0</td>\n",
       "      <td>0.0</td>\n",
       "      <td>0.0</td>\n",
       "      <td>0.0</td>\n",
       "      <td>0.0</td>\n",
       "      <td>0.0</td>\n",
       "      <td>0.0</td>\n",
       "      <td>0.0</td>\n",
       "      <td>...</td>\n",
       "      <td>1.0</td>\n",
       "      <td>1.0</td>\n",
       "      <td>35.66</td>\n",
       "      <td>35.66</td>\n",
       "      <td>35.660000</td>\n",
       "      <td>0.00</td>\n",
       "      <td>0.00</td>\n",
       "      <td>0.00</td>\n",
       "      <td>332.556663</td>\n",
       "      <td>0.256261</td>\n",
       "    </tr>\n",
       "    <tr>\n",
       "      <th>8783</th>\n",
       "      <td>1624</td>\n",
       "      <td>1</td>\n",
       "      <td>0</td>\n",
       "      <td>0.0</td>\n",
       "      <td>0.0</td>\n",
       "      <td>0.0</td>\n",
       "      <td>0.0</td>\n",
       "      <td>3.0</td>\n",
       "      <td>3.0</td>\n",
       "      <td>0.0</td>\n",
       "      <td>...</td>\n",
       "      <td>2.0</td>\n",
       "      <td>2.0</td>\n",
       "      <td>47.85</td>\n",
       "      <td>47.06</td>\n",
       "      <td>47.323333</td>\n",
       "      <td>1.54</td>\n",
       "      <td>1.54</td>\n",
       "      <td>1.54</td>\n",
       "      <td>152.000000</td>\n",
       "      <td>0.252566</td>\n",
       "    </tr>\n",
       "    <tr>\n",
       "      <th>7137</th>\n",
       "      <td>3537</td>\n",
       "      <td>1</td>\n",
       "      <td>0</td>\n",
       "      <td>0.0</td>\n",
       "      <td>0.0</td>\n",
       "      <td>0.0</td>\n",
       "      <td>0.0</td>\n",
       "      <td>0.0</td>\n",
       "      <td>2.0</td>\n",
       "      <td>0.0</td>\n",
       "      <td>...</td>\n",
       "      <td>2.0</td>\n",
       "      <td>2.0</td>\n",
       "      <td>51.33</td>\n",
       "      <td>51.33</td>\n",
       "      <td>51.330000</td>\n",
       "      <td>2.97</td>\n",
       "      <td>2.97</td>\n",
       "      <td>2.97</td>\n",
       "      <td>335.000000</td>\n",
       "      <td>0.256061</td>\n",
       "    </tr>\n",
       "  </tbody>\n",
       "</table>\n",
       "<p>305 rows × 53 columns</p>\n",
       "</div>"
      ],
      "text/plain": [
       "       client_id  target  col1453  col2167  col2168  col2169  col2170   \n",
       "4158        3743       1        0      2.0      3.0      3.0      3.0  \\\n",
       "8666        6612       1        0      0.0      1.0      2.0      2.0   \n",
       "10839       4814       1        0      0.0      0.0      0.0      0.0   \n",
       "11321       3189       1        0      0.0      0.0      0.0      0.0   \n",
       "14224       6360       1        0      0.0      0.0      0.0      0.0   \n",
       "...          ...     ...      ...      ...      ...      ...      ...   \n",
       "11374        958       1        0      0.0      0.0      0.0      0.0   \n",
       "2376         473       1        0      0.0      0.0      0.0      0.0   \n",
       "10641       6805       1        0      0.0      0.0      0.0      0.0   \n",
       "8783        1624       1        0      0.0      0.0      0.0      0.0   \n",
       "7137        3537       1        0      0.0      0.0      0.0      0.0   \n",
       "\n",
       "       col2171  col2172  col2173  ...  col2365  col2366  col2388  col2389   \n",
       "4158       3.0      3.0      3.0  ...      4.0      4.0    92.55    92.55  \\\n",
       "8666       2.0      2.0      1.0  ...      2.0      2.0    56.99    56.99   \n",
       "10839      0.0      0.0      0.0  ...      2.0      2.0    63.40    63.40   \n",
       "11321      0.0      0.0      0.0  ...      3.0      3.0    71.12    71.12   \n",
       "14224      2.0      2.0      0.0  ...      3.0      3.0    77.30    77.30   \n",
       "...        ...      ...      ...  ...      ...      ...      ...      ...   \n",
       "11374      3.0      3.0      0.0  ...      1.0      1.0    29.89    29.89   \n",
       "2376       2.0      3.0      0.0  ...      3.0      3.0    76.43    76.43   \n",
       "10641      0.0      0.0      0.0  ...      1.0      1.0    35.66    35.66   \n",
       "8783       3.0      3.0      0.0  ...      2.0      2.0    47.85    47.06   \n",
       "7137       0.0      2.0      0.0  ...      2.0      2.0    51.33    51.33   \n",
       "\n",
       "         col2390  col2460  col2461  col2462     col2470   col2663  \n",
       "4158   92.550000     5.30     5.30     5.30    2.000000  0.256061  \n",
       "8666   56.990000     2.06     2.06     2.06   18.000000  0.256061  \n",
       "10839  63.400000     2.25     2.25     2.25  548.000000  0.259377  \n",
       "11321  71.120000     2.88     2.88     2.88  370.000000  0.260262  \n",
       "14224  77.300000     4.10     4.10     4.10   95.000000  0.256261  \n",
       "...          ...      ...      ...      ...         ...       ...  \n",
       "11374  29.890000     3.96     3.96     3.96  148.000000  0.263759  \n",
       "2376   76.430000     0.00     0.00     0.00  178.000000  0.256261  \n",
       "10641  35.660000     0.00     0.00     0.00  332.556663  0.256261  \n",
       "8783   47.323333     1.54     1.54     1.54  152.000000  0.252566  \n",
       "7137   51.330000     2.97     2.97     2.97  335.000000  0.256061  \n",
       "\n",
       "[305 rows x 53 columns]"
      ]
     },
     "execution_count": 83,
     "metadata": {},
     "output_type": "execute_result"
    }
   ],
   "source": [
    "train.query('target == 1')"
   ]
  },
  {
   "cell_type": "code",
   "execution_count": 84,
   "id": "dfcfe244",
   "metadata": {},
   "outputs": [],
   "source": [
    "one_id = train.query('target == 1')['client_id']"
   ]
  },
  {
   "cell_type": "code",
   "execution_count": 85,
   "id": "2665176b",
   "metadata": {},
   "outputs": [
    {
     "data": {
      "text/plain": [
       "4158     3743\n",
       "8666     6612\n",
       "10839    4814\n",
       "11321    3189\n",
       "14224    6360\n",
       "         ... \n",
       "11374     958\n",
       "2376      473\n",
       "10641    6805\n",
       "8783     1624\n",
       "7137     3537\n",
       "Name: client_id, Length: 305, dtype: int64"
      ]
     },
     "execution_count": 85,
     "metadata": {},
     "output_type": "execute_result"
    }
   ],
   "source": [
    "one_id"
   ]
  },
  {
   "cell_type": "code",
   "execution_count": 86,
   "id": "b3ee052e",
   "metadata": {},
   "outputs": [],
   "source": [
    "criteria = 'client_id in @one_id'"
   ]
  },
  {
   "cell_type": "code",
   "execution_count": 87,
   "id": "de27407c",
   "metadata": {},
   "outputs": [],
   "source": [
    "train.loc[train.eval(criteria), 'target'] = 1"
   ]
  },
  {
   "cell_type": "code",
   "execution_count": 88,
   "id": "321821fc",
   "metadata": {},
   "outputs": [
    {
     "data": {
      "text/plain": [
       "4158     1\n",
       "8666     1\n",
       "10839    1\n",
       "3043     1\n",
       "9480     1\n",
       "        ..\n",
       "11374    1\n",
       "2376     1\n",
       "10641    1\n",
       "8783     1\n",
       "7137     1\n",
       "Name: target, Length: 410, dtype: int64"
      ]
     },
     "execution_count": 88,
     "metadata": {},
     "output_type": "execute_result"
    }
   ],
   "source": [
    "train.query('client_id in @one_id').loc[:, 'target']"
   ]
  },
  {
   "cell_type": "code",
   "execution_count": 89,
   "id": "b338b26b",
   "metadata": {},
   "outputs": [],
   "source": [
    "features_train = train.drop(columns=['target', 'client_id'])"
   ]
  },
  {
   "cell_type": "code",
   "execution_count": 90,
   "id": "bbed605c",
   "metadata": {},
   "outputs": [],
   "source": [
    "target_train = train['target']"
   ]
  },
  {
   "cell_type": "code",
   "execution_count": 91,
   "id": "60c366ce",
   "metadata": {},
   "outputs": [],
   "source": [
    "features_train, target_train = SMOTE().fit_resample(features_train, target_train)"
   ]
  },
  {
   "cell_type": "code",
   "execution_count": 92,
   "id": "96ed2fb7",
   "metadata": {},
   "outputs": [],
   "source": [
    "params = {\n",
    "    'loss_function': 'Logloss',\n",
    "    'iterations': 300,\n",
    "    'custom_loss': ['AUC', 'F1'],\n",
    "    'random_seed': RS,\n",
    "    'learning_rate': 0.2\n",
    "}"
   ]
  },
  {
   "cell_type": "code",
   "execution_count": 93,
   "id": "47b05094",
   "metadata": {},
   "outputs": [
    {
     "data": {
      "application/vnd.jupyter.widget-view+json": {
       "model_id": "adc65bab8ee3493c9f4dae6f41615f91",
       "version_major": 2,
       "version_minor": 0
      },
      "text/plain": [
       "MetricVisualizer(layout=Layout(align_self='stretch', height='500px'))"
      ]
     },
     "metadata": {},
     "output_type": "display_data"
    },
    {
     "name": "stdout",
     "output_type": "stream",
     "text": [
      "Training on fold [0/5]\n",
      "\n",
      "bestTest = 0.02403178629\n",
      "bestIteration = 299\n",
      "\n",
      "Training on fold [1/5]\n",
      "\n",
      "bestTest = 0.02384056149\n",
      "bestIteration = 299\n",
      "\n",
      "Training on fold [2/5]\n",
      "\n",
      "bestTest = 0.02378571593\n",
      "bestIteration = 299\n",
      "\n",
      "Training on fold [3/5]\n",
      "\n",
      "bestTest = 0.01900698227\n",
      "bestIteration = 299\n",
      "\n",
      "Training on fold [4/5]\n",
      "\n",
      "bestTest = 0.02238730394\n",
      "bestIteration = 299\n",
      "\n"
     ]
    }
   ],
   "source": [
    "cv_data = cv(\n",
    "    params=params,\n",
    "    pool=Pool(features_train, label=target_train),\n",
    "    fold_count=5, # Разбивка выборки на 5 кусочков\n",
    "    shuffle=True, # Перемешаем наши данные\n",
    "    partition_random_seed=RS,\n",
    "    plot=True,\n",
    "    stratified=True, \n",
    "    verbose=False\n",
    ")"
   ]
  },
  {
   "cell_type": "code",
   "execution_count": 94,
   "id": "69fcbaab",
   "metadata": {},
   "outputs": [
    {
     "data": {
      "text/html": [
       "<div>\n",
       "<style scoped>\n",
       "    .dataframe tbody tr th:only-of-type {\n",
       "        vertical-align: middle;\n",
       "    }\n",
       "\n",
       "    .dataframe tbody tr th {\n",
       "        vertical-align: top;\n",
       "    }\n",
       "\n",
       "    .dataframe thead th {\n",
       "        text-align: right;\n",
       "    }\n",
       "</style>\n",
       "<table border=\"1\" class=\"dataframe\">\n",
       "  <thead>\n",
       "    <tr style=\"text-align: right;\">\n",
       "      <th></th>\n",
       "      <th>iterations</th>\n",
       "      <th>test-Logloss-mean</th>\n",
       "      <th>test-Logloss-std</th>\n",
       "      <th>train-Logloss-mean</th>\n",
       "      <th>train-Logloss-std</th>\n",
       "      <th>test-AUC-mean</th>\n",
       "      <th>test-AUC-std</th>\n",
       "      <th>test-F1-mean</th>\n",
       "      <th>test-F1-std</th>\n",
       "      <th>train-F1-mean</th>\n",
       "      <th>train-F1-std</th>\n",
       "    </tr>\n",
       "  </thead>\n",
       "  <tbody>\n",
       "    <tr>\n",
       "      <th>0</th>\n",
       "      <td>0</td>\n",
       "      <td>0.563167</td>\n",
       "      <td>0.002398</td>\n",
       "      <td>0.562773</td>\n",
       "      <td>0.000791</td>\n",
       "      <td>0.874538</td>\n",
       "      <td>0.006600</td>\n",
       "      <td>0.794782</td>\n",
       "      <td>0.010091</td>\n",
       "      <td>0.796194</td>\n",
       "      <td>0.001442</td>\n",
       "    </tr>\n",
       "    <tr>\n",
       "      <th>1</th>\n",
       "      <td>1</td>\n",
       "      <td>0.492292</td>\n",
       "      <td>0.004725</td>\n",
       "      <td>0.491340</td>\n",
       "      <td>0.000814</td>\n",
       "      <td>0.905406</td>\n",
       "      <td>0.005947</td>\n",
       "      <td>0.823275</td>\n",
       "      <td>0.006288</td>\n",
       "      <td>0.824654</td>\n",
       "      <td>0.001894</td>\n",
       "    </tr>\n",
       "    <tr>\n",
       "      <th>2</th>\n",
       "      <td>2</td>\n",
       "      <td>0.446699</td>\n",
       "      <td>0.005139</td>\n",
       "      <td>0.445052</td>\n",
       "      <td>0.000903</td>\n",
       "      <td>0.919245</td>\n",
       "      <td>0.004515</td>\n",
       "      <td>0.842474</td>\n",
       "      <td>0.005862</td>\n",
       "      <td>0.844540</td>\n",
       "      <td>0.000971</td>\n",
       "    </tr>\n",
       "    <tr>\n",
       "      <th>3</th>\n",
       "      <td>3</td>\n",
       "      <td>0.412188</td>\n",
       "      <td>0.011845</td>\n",
       "      <td>0.409664</td>\n",
       "      <td>0.007488</td>\n",
       "      <td>0.930631</td>\n",
       "      <td>0.005685</td>\n",
       "      <td>0.855267</td>\n",
       "      <td>0.004658</td>\n",
       "      <td>0.857366</td>\n",
       "      <td>0.004197</td>\n",
       "    </tr>\n",
       "    <tr>\n",
       "      <th>4</th>\n",
       "      <td>4</td>\n",
       "      <td>0.383111</td>\n",
       "      <td>0.015677</td>\n",
       "      <td>0.379995</td>\n",
       "      <td>0.012154</td>\n",
       "      <td>0.940217</td>\n",
       "      <td>0.005432</td>\n",
       "      <td>0.857340</td>\n",
       "      <td>0.006313</td>\n",
       "      <td>0.861176</td>\n",
       "      <td>0.002551</td>\n",
       "    </tr>\n",
       "    <tr>\n",
       "      <th>...</th>\n",
       "      <td>...</td>\n",
       "      <td>...</td>\n",
       "      <td>...</td>\n",
       "      <td>...</td>\n",
       "      <td>...</td>\n",
       "      <td>...</td>\n",
       "      <td>...</td>\n",
       "      <td>...</td>\n",
       "      <td>...</td>\n",
       "      <td>...</td>\n",
       "      <td>...</td>\n",
       "    </tr>\n",
       "    <tr>\n",
       "      <th>295</th>\n",
       "      <td>295</td>\n",
       "      <td>0.022870</td>\n",
       "      <td>0.002206</td>\n",
       "      <td>0.009063</td>\n",
       "      <td>0.000350</td>\n",
       "      <td>0.999653</td>\n",
       "      <td>0.000149</td>\n",
       "      <td>0.994847</td>\n",
       "      <td>0.001168</td>\n",
       "      <td>0.999807</td>\n",
       "      <td>0.000046</td>\n",
       "    </tr>\n",
       "    <tr>\n",
       "      <th>296</th>\n",
       "      <td>296</td>\n",
       "      <td>0.022843</td>\n",
       "      <td>0.002183</td>\n",
       "      <td>0.009027</td>\n",
       "      <td>0.000335</td>\n",
       "      <td>0.999654</td>\n",
       "      <td>0.000146</td>\n",
       "      <td>0.994796</td>\n",
       "      <td>0.000901</td>\n",
       "      <td>0.999807</td>\n",
       "      <td>0.000046</td>\n",
       "    </tr>\n",
       "    <tr>\n",
       "      <th>297</th>\n",
       "      <td>297</td>\n",
       "      <td>0.022759</td>\n",
       "      <td>0.002197</td>\n",
       "      <td>0.008976</td>\n",
       "      <td>0.000329</td>\n",
       "      <td>0.999656</td>\n",
       "      <td>0.000145</td>\n",
       "      <td>0.994847</td>\n",
       "      <td>0.000874</td>\n",
       "      <td>0.999794</td>\n",
       "      <td>0.000029</td>\n",
       "    </tr>\n",
       "    <tr>\n",
       "      <th>298</th>\n",
       "      <td>298</td>\n",
       "      <td>0.022680</td>\n",
       "      <td>0.002147</td>\n",
       "      <td>0.008929</td>\n",
       "      <td>0.000276</td>\n",
       "      <td>0.999660</td>\n",
       "      <td>0.000139</td>\n",
       "      <td>0.994796</td>\n",
       "      <td>0.000901</td>\n",
       "      <td>0.999807</td>\n",
       "      <td>0.000046</td>\n",
       "    </tr>\n",
       "    <tr>\n",
       "      <th>299</th>\n",
       "      <td>299</td>\n",
       "      <td>0.022610</td>\n",
       "      <td>0.002118</td>\n",
       "      <td>0.008867</td>\n",
       "      <td>0.000244</td>\n",
       "      <td>0.999661</td>\n",
       "      <td>0.000140</td>\n",
       "      <td>0.994744</td>\n",
       "      <td>0.001088</td>\n",
       "      <td>0.999807</td>\n",
       "      <td>0.000046</td>\n",
       "    </tr>\n",
       "  </tbody>\n",
       "</table>\n",
       "<p>300 rows × 11 columns</p>\n",
       "</div>"
      ],
      "text/plain": [
       "     iterations  test-Logloss-mean  test-Logloss-std  train-Logloss-mean   \n",
       "0             0           0.563167          0.002398            0.562773  \\\n",
       "1             1           0.492292          0.004725            0.491340   \n",
       "2             2           0.446699          0.005139            0.445052   \n",
       "3             3           0.412188          0.011845            0.409664   \n",
       "4             4           0.383111          0.015677            0.379995   \n",
       "..          ...                ...               ...                 ...   \n",
       "295         295           0.022870          0.002206            0.009063   \n",
       "296         296           0.022843          0.002183            0.009027   \n",
       "297         297           0.022759          0.002197            0.008976   \n",
       "298         298           0.022680          0.002147            0.008929   \n",
       "299         299           0.022610          0.002118            0.008867   \n",
       "\n",
       "     train-Logloss-std  test-AUC-mean  test-AUC-std  test-F1-mean   \n",
       "0             0.000791       0.874538      0.006600      0.794782  \\\n",
       "1             0.000814       0.905406      0.005947      0.823275   \n",
       "2             0.000903       0.919245      0.004515      0.842474   \n",
       "3             0.007488       0.930631      0.005685      0.855267   \n",
       "4             0.012154       0.940217      0.005432      0.857340   \n",
       "..                 ...            ...           ...           ...   \n",
       "295           0.000350       0.999653      0.000149      0.994847   \n",
       "296           0.000335       0.999654      0.000146      0.994796   \n",
       "297           0.000329       0.999656      0.000145      0.994847   \n",
       "298           0.000276       0.999660      0.000139      0.994796   \n",
       "299           0.000244       0.999661      0.000140      0.994744   \n",
       "\n",
       "     test-F1-std  train-F1-mean  train-F1-std  \n",
       "0       0.010091       0.796194      0.001442  \n",
       "1       0.006288       0.824654      0.001894  \n",
       "2       0.005862       0.844540      0.000971  \n",
       "3       0.004658       0.857366      0.004197  \n",
       "4       0.006313       0.861176      0.002551  \n",
       "..           ...            ...           ...  \n",
       "295     0.001168       0.999807      0.000046  \n",
       "296     0.000901       0.999807      0.000046  \n",
       "297     0.000874       0.999794      0.000029  \n",
       "298     0.000901       0.999807      0.000046  \n",
       "299     0.001088       0.999807      0.000046  \n",
       "\n",
       "[300 rows x 11 columns]"
      ]
     },
     "execution_count": 94,
     "metadata": {},
     "output_type": "execute_result"
    }
   ],
   "source": [
    "cv_data"
   ]
  },
  {
   "cell_type": "code",
   "execution_count": 95,
   "id": "9ff27118",
   "metadata": {},
   "outputs": [],
   "source": [
    "filled_auc_valid = cv_data['test-AUC-mean'].tail(1)"
   ]
  },
  {
   "cell_type": "code",
   "execution_count": 96,
   "id": "f437b121",
   "metadata": {},
   "outputs": [],
   "source": [
    "filled_f1_valid = cv_data['test-F1-mean'].tail(1)"
   ]
  },
  {
   "cell_type": "code",
   "execution_count": 97,
   "id": "b56e0e0a",
   "metadata": {},
   "outputs": [
    {
     "data": {
      "text/plain": [
       "299    0.999661\n",
       "Name: test-AUC-mean, dtype: float64"
      ]
     },
     "execution_count": 97,
     "metadata": {},
     "output_type": "execute_result"
    }
   ],
   "source": [
    "filled_auc_valid"
   ]
  },
  {
   "cell_type": "code",
   "execution_count": 98,
   "id": "e13a94df",
   "metadata": {},
   "outputs": [
    {
     "data": {
      "text/plain": [
       "299    0.994744\n",
       "Name: test-F1-mean, dtype: float64"
      ]
     },
     "execution_count": 98,
     "metadata": {},
     "output_type": "execute_result"
    }
   ],
   "source": [
    "filled_f1_valid"
   ]
  },
  {
   "cell_type": "markdown",
   "id": "0c056bfd",
   "metadata": {},
   "source": [
    "### Валидация модели"
   ]
  },
  {
   "cell_type": "code",
   "execution_count": 99,
   "id": "7ca046c2",
   "metadata": {},
   "outputs": [],
   "source": [
    "model = CatBoostClassifier(loss_function='Logloss',\n",
    "    iterations=300,\n",
    "    custom_loss=['AUC', 'F1'],\n",
    "    random_seed= RS,\n",
    "    learning_rate= 0.2,\n",
    "    verbose=False)"
   ]
  },
  {
   "cell_type": "code",
   "execution_count": 100,
   "id": "d43b9cea",
   "metadata": {},
   "outputs": [
    {
     "data": {
      "text/plain": [
       "<catboost.core.CatBoostClassifier at 0x17f03ad1c10>"
      ]
     },
     "execution_count": 100,
     "metadata": {},
     "output_type": "execute_result"
    }
   ],
   "source": [
    "model.fit(features_train, target_train)"
   ]
  },
  {
   "cell_type": "code",
   "execution_count": 101,
   "id": "88bb966b",
   "metadata": {},
   "outputs": [],
   "source": [
    "features_test = test.drop(columns=['target', 'client_id'])"
   ]
  },
  {
   "cell_type": "code",
   "execution_count": 102,
   "id": "a6e11bc8",
   "metadata": {},
   "outputs": [],
   "source": [
    "target_test = test['target']"
   ]
  },
  {
   "cell_type": "code",
   "execution_count": 103,
   "id": "b6dd0c3e",
   "metadata": {},
   "outputs": [],
   "source": [
    "pred = model.predict(features_test)"
   ]
  },
  {
   "cell_type": "code",
   "execution_count": 104,
   "id": "b9acd10d",
   "metadata": {},
   "outputs": [],
   "source": [
    "filled_auc_test = roc_auc_score(target_test, pred)"
   ]
  },
  {
   "cell_type": "code",
   "execution_count": 105,
   "id": "387a7988",
   "metadata": {},
   "outputs": [
    {
     "data": {
      "text/plain": [
       "0.8101367366865945"
      ]
     },
     "execution_count": 105,
     "metadata": {},
     "output_type": "execute_result"
    }
   ],
   "source": [
    "filled_auc_test"
   ]
  },
  {
   "cell_type": "code",
   "execution_count": 106,
   "id": "230c3c5a",
   "metadata": {},
   "outputs": [],
   "source": [
    "filled_f1_test = f1_score(target_test, pred)"
   ]
  },
  {
   "cell_type": "code",
   "execution_count": 107,
   "id": "7ff43243",
   "metadata": {},
   "outputs": [
    {
     "data": {
      "text/plain": [
       "0.6148148148148148"
      ]
     },
     "execution_count": 107,
     "metadata": {},
     "output_type": "execute_result"
    }
   ],
   "source": [
    "filled_f1_test"
   ]
  },
  {
   "cell_type": "code",
   "execution_count": 108,
   "id": "7fe96b3d",
   "metadata": {},
   "outputs": [
    {
     "data": {
      "image/png": "[encoded data removed]",
      "text/plain": [
       "<Figure size 640x480 with 2 Axes>"
      ]
     },
     "metadata": {},
     "output_type": "display_data"
    }
   ],
   "source": [
    "cm = confusion_matrix(target_test, pred, normalize='true')\n",
    "ConfusionMatrixDisplay(confusion_matrix=cm).plot()\n",
    "plt.show()"
   ]
  },
  {
   "cell_type": "markdown",
   "id": "ba3669eb",
   "metadata": {},
   "source": [
    "## Бейслайн модель, обученная на данных с новыми фичами"
   ]
  },
  {
   "cell_type": "code",
   "execution_count": 109,
   "id": "cfa1fd2b",
   "metadata": {},
   "outputs": [],
   "source": [
    "train, test = train_test_split(data_f, test_size=0.3, random_state=RS, stratify=data['target'])"
   ]
  },
  {
   "cell_type": "code",
   "execution_count": 110,
   "id": "223fb7c2",
   "metadata": {},
   "outputs": [],
   "source": [
    "def date_maker(row):\n",
    "    if row['report_date'].year == 2021:\n",
    "        return row['report_date'].month\n",
    "    elif row['report_date'].year == 2022:\n",
    "        return row['report_date'].month + 12\n",
    "    elif row['report_date'].year == 2023:\n",
    "        return row['report_date'].month + 24"
   ]
  },
  {
   "cell_type": "code",
   "execution_count": 111,
   "id": "7abe5afd",
   "metadata": {},
   "outputs": [],
   "source": [
    "train['month'] = train.apply(date_maker, axis=1)"
   ]
  },
  {
   "cell_type": "code",
   "execution_count": 112,
   "id": "eeeb3c62",
   "metadata": {},
   "outputs": [],
   "source": [
    "test['month'] = test.apply(date_maker, axis=1)"
   ]
  },
  {
   "cell_type": "code",
   "execution_count": 113,
   "id": "f011fd8b",
   "metadata": {},
   "outputs": [],
   "source": [
    "train = train.merge(train.groupby('client_id')['month'].agg('min').reset_index(), \\\n",
    "                    how='left', on='client_id', suffixes=('', '_min'))"
   ]
  },
  {
   "cell_type": "code",
   "execution_count": 114,
   "id": "1d82ea62",
   "metadata": {},
   "outputs": [],
   "source": [
    "test = test.merge(test.groupby('client_id')['month'].agg('min').reset_index(), \\\n",
    "                    how='left', on='client_id', suffixes=('', '_min'))"
   ]
  },
  {
   "cell_type": "code",
   "execution_count": 115,
   "id": "b4b75a4d",
   "metadata": {},
   "outputs": [],
   "source": [
    "train['month_from_first'] = train['month'] - train['month_min'] + 1"
   ]
  },
  {
   "cell_type": "code",
   "execution_count": 116,
   "id": "b884365c",
   "metadata": {},
   "outputs": [],
   "source": [
    "test['month_from_first'] = test['month'] - test['month_min'] + 1"
   ]
  },
  {
   "cell_type": "code",
   "execution_count": 117,
   "id": "9f42f97e",
   "metadata": {},
   "outputs": [],
   "source": [
    "train = train.drop(columns=['month', 'month_min'])"
   ]
  },
  {
   "cell_type": "code",
   "execution_count": 118,
   "id": "e4f298ba",
   "metadata": {},
   "outputs": [],
   "source": [
    "test = test.drop(columns=['month', 'month_min'])"
   ]
  },
  {
   "cell_type": "code",
   "execution_count": 119,
   "id": "0f8c22e9",
   "metadata": {},
   "outputs": [
    {
     "data": {
      "text/html": [
       "<div>\n",
       "<style scoped>\n",
       "    .dataframe tbody tr th:only-of-type {\n",
       "        vertical-align: middle;\n",
       "    }\n",
       "\n",
       "    .dataframe tbody tr th {\n",
       "        vertical-align: top;\n",
       "    }\n",
       "\n",
       "    .dataframe thead th {\n",
       "        text-align: right;\n",
       "    }\n",
       "</style>\n",
       "<table border=\"1\" class=\"dataframe\">\n",
       "  <thead>\n",
       "    <tr style=\"text-align: right;\">\n",
       "      <th></th>\n",
       "      <th>report_date</th>\n",
       "      <th>client_id</th>\n",
       "      <th>target</th>\n",
       "      <th>col1453</th>\n",
       "      <th>col2167</th>\n",
       "      <th>col2168</th>\n",
       "      <th>col2169</th>\n",
       "      <th>col2170</th>\n",
       "      <th>col2171</th>\n",
       "      <th>col2172</th>\n",
       "      <th>...</th>\n",
       "      <th>col2366</th>\n",
       "      <th>col2388</th>\n",
       "      <th>col2389</th>\n",
       "      <th>col2390</th>\n",
       "      <th>col2460</th>\n",
       "      <th>col2461</th>\n",
       "      <th>col2462</th>\n",
       "      <th>col2470</th>\n",
       "      <th>col2663</th>\n",
       "      <th>month_from_first</th>\n",
       "    </tr>\n",
       "  </thead>\n",
       "  <tbody>\n",
       "    <tr>\n",
       "      <th>0</th>\n",
       "      <td>2022-07-01</td>\n",
       "      <td>1948</td>\n",
       "      <td>0</td>\n",
       "      <td>0</td>\n",
       "      <td>0.0</td>\n",
       "      <td>0.0</td>\n",
       "      <td>0.0</td>\n",
       "      <td>0.0</td>\n",
       "      <td>2.0</td>\n",
       "      <td>3.0</td>\n",
       "      <td>...</td>\n",
       "      <td>1.0</td>\n",
       "      <td>33.65</td>\n",
       "      <td>33.65</td>\n",
       "      <td>33.65</td>\n",
       "      <td>1.13</td>\n",
       "      <td>1.13</td>\n",
       "      <td>1.130</td>\n",
       "      <td>162.0</td>\n",
       "      <td>0.257549</td>\n",
       "      <td>3</td>\n",
       "    </tr>\n",
       "    <tr>\n",
       "      <th>1</th>\n",
       "      <td>2022-11-01</td>\n",
       "      <td>4756</td>\n",
       "      <td>0</td>\n",
       "      <td>1</td>\n",
       "      <td>0.0</td>\n",
       "      <td>0.0</td>\n",
       "      <td>0.0</td>\n",
       "      <td>0.0</td>\n",
       "      <td>3.0</td>\n",
       "      <td>3.0</td>\n",
       "      <td>...</td>\n",
       "      <td>2.0</td>\n",
       "      <td>59.49</td>\n",
       "      <td>59.49</td>\n",
       "      <td>59.49</td>\n",
       "      <td>1.83</td>\n",
       "      <td>1.83</td>\n",
       "      <td>1.830</td>\n",
       "      <td>109.0</td>\n",
       "      <td>0.258306</td>\n",
       "      <td>3</td>\n",
       "    </tr>\n",
       "    <tr>\n",
       "      <th>2</th>\n",
       "      <td>2023-01-01</td>\n",
       "      <td>3605</td>\n",
       "      <td>0</td>\n",
       "      <td>0</td>\n",
       "      <td>0.0</td>\n",
       "      <td>0.0</td>\n",
       "      <td>0.0</td>\n",
       "      <td>0.0</td>\n",
       "      <td>0.0</td>\n",
       "      <td>0.0</td>\n",
       "      <td>...</td>\n",
       "      <td>3.0</td>\n",
       "      <td>79.58</td>\n",
       "      <td>79.58</td>\n",
       "      <td>79.58</td>\n",
       "      <td>3.98</td>\n",
       "      <td>3.98</td>\n",
       "      <td>3.980</td>\n",
       "      <td>390.0</td>\n",
       "      <td>0.257348</td>\n",
       "      <td>12</td>\n",
       "    </tr>\n",
       "    <tr>\n",
       "      <th>3</th>\n",
       "      <td>2022-05-01</td>\n",
       "      <td>1680</td>\n",
       "      <td>0</td>\n",
       "      <td>0</td>\n",
       "      <td>0.0</td>\n",
       "      <td>0.0</td>\n",
       "      <td>0.0</td>\n",
       "      <td>0.0</td>\n",
       "      <td>0.0</td>\n",
       "      <td>4.0</td>\n",
       "      <td>...</td>\n",
       "      <td>1.0</td>\n",
       "      <td>32.02</td>\n",
       "      <td>20.48</td>\n",
       "      <td>26.25</td>\n",
       "      <td>2.02</td>\n",
       "      <td>1.17</td>\n",
       "      <td>1.595</td>\n",
       "      <td>297.0</td>\n",
       "      <td>0.256261</td>\n",
       "      <td>4</td>\n",
       "    </tr>\n",
       "    <tr>\n",
       "      <th>4</th>\n",
       "      <td>2022-09-01</td>\n",
       "      <td>2574</td>\n",
       "      <td>0</td>\n",
       "      <td>0</td>\n",
       "      <td>0.0</td>\n",
       "      <td>0.0</td>\n",
       "      <td>0.0</td>\n",
       "      <td>0.0</td>\n",
       "      <td>0.0</td>\n",
       "      <td>2.0</td>\n",
       "      <td>...</td>\n",
       "      <td>1.0</td>\n",
       "      <td>37.07</td>\n",
       "      <td>37.07</td>\n",
       "      <td>37.07</td>\n",
       "      <td>2.28</td>\n",
       "      <td>2.28</td>\n",
       "      <td>2.280</td>\n",
       "      <td>335.0</td>\n",
       "      <td>0.256261</td>\n",
       "      <td>11</td>\n",
       "    </tr>\n",
       "  </tbody>\n",
       "</table>\n",
       "<p>5 rows × 55 columns</p>\n",
       "</div>"
      ],
      "text/plain": [
       "  report_date  client_id  target  col1453  col2167  col2168  col2169  col2170   \n",
       "0  2022-07-01       1948       0        0      0.0      0.0      0.0      0.0  \\\n",
       "1  2022-11-01       4756       0        1      0.0      0.0      0.0      0.0   \n",
       "2  2023-01-01       3605       0        0      0.0      0.0      0.0      0.0   \n",
       "3  2022-05-01       1680       0        0      0.0      0.0      0.0      0.0   \n",
       "4  2022-09-01       2574       0        0      0.0      0.0      0.0      0.0   \n",
       "\n",
       "   col2171  col2172  ...  col2366  col2388  col2389  col2390  col2460   \n",
       "0      2.0      3.0  ...      1.0    33.65    33.65    33.65     1.13  \\\n",
       "1      3.0      3.0  ...      2.0    59.49    59.49    59.49     1.83   \n",
       "2      0.0      0.0  ...      3.0    79.58    79.58    79.58     3.98   \n",
       "3      0.0      4.0  ...      1.0    32.02    20.48    26.25     2.02   \n",
       "4      0.0      2.0  ...      1.0    37.07    37.07    37.07     2.28   \n",
       "\n",
       "   col2461  col2462  col2470   col2663  month_from_first  \n",
       "0     1.13    1.130    162.0  0.257549                 3  \n",
       "1     1.83    1.830    109.0  0.258306                 3  \n",
       "2     3.98    3.980    390.0  0.257348                12  \n",
       "3     1.17    1.595    297.0  0.256261                 4  \n",
       "4     2.28    2.280    335.0  0.256261                11  \n",
       "\n",
       "[5 rows x 55 columns]"
      ]
     },
     "execution_count": 119,
     "metadata": {},
     "output_type": "execute_result"
    }
   ],
   "source": [
    "train.head()"
   ]
  },
  {
   "cell_type": "code",
   "execution_count": 120,
   "id": "25f07c4e",
   "metadata": {},
   "outputs": [],
   "source": [
    "features_train = train.drop(columns=['report_date', 'client_id', 'target'])"
   ]
  },
  {
   "cell_type": "code",
   "execution_count": 121,
   "id": "2f005f3d",
   "metadata": {},
   "outputs": [],
   "source": [
    "target_train = train['target']"
   ]
  },
  {
   "cell_type": "code",
   "execution_count": 122,
   "id": "62e437fc",
   "metadata": {},
   "outputs": [],
   "source": [
    "features_train, target_train = SMOTE().fit_resample(features_train, target_train)"
   ]
  },
  {
   "cell_type": "code",
   "execution_count": 123,
   "id": "8dd7ef1b",
   "metadata": {},
   "outputs": [],
   "source": [
    "features_test = test.drop(columns=['report_date', 'client_id', 'target'])"
   ]
  },
  {
   "cell_type": "code",
   "execution_count": 124,
   "id": "87f3ccef",
   "metadata": {},
   "outputs": [],
   "source": [
    "target_test = test['target']"
   ]
  },
  {
   "cell_type": "code",
   "execution_count": 125,
   "id": "49660806",
   "metadata": {},
   "outputs": [],
   "source": [
    "params = {\n",
    "    'loss_function': 'Logloss',\n",
    "    'iterations': 300,\n",
    "    'custom_loss': ['AUC', 'F1'],\n",
    "    'random_seed': RS,\n",
    "    'learning_rate': 0.2\n",
    "}"
   ]
  },
  {
   "cell_type": "code",
   "execution_count": 126,
   "id": "2a90e6b8",
   "metadata": {},
   "outputs": [
    {
     "data": {
      "application/vnd.jupyter.widget-view+json": {
       "model_id": "11a7bad71bb242308ee5c0bf956c515c",
       "version_major": 2,
       "version_minor": 0
      },
      "text/plain": [
       "MetricVisualizer(layout=Layout(align_self='stretch', height='500px'))"
      ]
     },
     "metadata": {},
     "output_type": "display_data"
    },
    {
     "name": "stdout",
     "output_type": "stream",
     "text": [
      "Training on fold [0/5]\n",
      "\n",
      "bestTest = 0.02894187943\n",
      "bestIteration = 299\n",
      "\n",
      "Training on fold [1/5]\n",
      "\n",
      "bestTest = 0.03272671206\n",
      "bestIteration = 299\n",
      "\n",
      "Training on fold [2/5]\n",
      "\n",
      "bestTest = 0.0292563487\n",
      "bestIteration = 297\n",
      "\n",
      "Training on fold [3/5]\n",
      "\n",
      "bestTest = 0.02585513351\n",
      "bestIteration = 299\n",
      "\n",
      "Training on fold [4/5]\n",
      "\n",
      "bestTest = 0.03062889362\n",
      "bestIteration = 299\n",
      "\n"
     ]
    }
   ],
   "source": [
    "cv_data = cv(\n",
    "    params=params,\n",
    "    pool=Pool(features_train, label=target_train),\n",
    "    fold_count=5, # Разбивка выборки на 5 кусочков\n",
    "    shuffle=True, # Перемешаем наши данные\n",
    "    partition_random_seed=RS,\n",
    "    plot=True,\n",
    "    stratified=True, \n",
    "    verbose=False\n",
    ")"
   ]
  },
  {
   "cell_type": "code",
   "execution_count": 127,
   "id": "206529b9",
   "metadata": {},
   "outputs": [
    {
     "data": {
      "text/html": [
       "<div>\n",
       "<style scoped>\n",
       "    .dataframe tbody tr th:only-of-type {\n",
       "        vertical-align: middle;\n",
       "    }\n",
       "\n",
       "    .dataframe tbody tr th {\n",
       "        vertical-align: top;\n",
       "    }\n",
       "\n",
       "    .dataframe thead th {\n",
       "        text-align: right;\n",
       "    }\n",
       "</style>\n",
       "<table border=\"1\" class=\"dataframe\">\n",
       "  <thead>\n",
       "    <tr style=\"text-align: right;\">\n",
       "      <th></th>\n",
       "      <th>iterations</th>\n",
       "      <th>test-Logloss-mean</th>\n",
       "      <th>test-Logloss-std</th>\n",
       "      <th>train-Logloss-mean</th>\n",
       "      <th>train-Logloss-std</th>\n",
       "      <th>test-AUC-mean</th>\n",
       "      <th>test-AUC-std</th>\n",
       "      <th>test-F1-mean</th>\n",
       "      <th>test-F1-std</th>\n",
       "      <th>train-F1-mean</th>\n",
       "      <th>train-F1-std</th>\n",
       "    </tr>\n",
       "  </thead>\n",
       "  <tbody>\n",
       "    <tr>\n",
       "      <th>0</th>\n",
       "      <td>0</td>\n",
       "      <td>0.566780</td>\n",
       "      <td>0.003527</td>\n",
       "      <td>0.566254</td>\n",
       "      <td>0.004242</td>\n",
       "      <td>0.888249</td>\n",
       "      <td>0.003900</td>\n",
       "      <td>0.806034</td>\n",
       "      <td>0.005051</td>\n",
       "      <td>0.807711</td>\n",
       "      <td>0.003586</td>\n",
       "    </tr>\n",
       "    <tr>\n",
       "      <th>1</th>\n",
       "      <td>1</td>\n",
       "      <td>0.473087</td>\n",
       "      <td>0.012015</td>\n",
       "      <td>0.471640</td>\n",
       "      <td>0.006932</td>\n",
       "      <td>0.910726</td>\n",
       "      <td>0.006788</td>\n",
       "      <td>0.824855</td>\n",
       "      <td>0.006439</td>\n",
       "      <td>0.827433</td>\n",
       "      <td>0.005544</td>\n",
       "    </tr>\n",
       "    <tr>\n",
       "      <th>2</th>\n",
       "      <td>2</td>\n",
       "      <td>0.419958</td>\n",
       "      <td>0.011270</td>\n",
       "      <td>0.417594</td>\n",
       "      <td>0.006726</td>\n",
       "      <td>0.931166</td>\n",
       "      <td>0.009551</td>\n",
       "      <td>0.844666</td>\n",
       "      <td>0.013120</td>\n",
       "      <td>0.846899</td>\n",
       "      <td>0.009161</td>\n",
       "    </tr>\n",
       "    <tr>\n",
       "      <th>3</th>\n",
       "      <td>3</td>\n",
       "      <td>0.376470</td>\n",
       "      <td>0.007160</td>\n",
       "      <td>0.373704</td>\n",
       "      <td>0.005602</td>\n",
       "      <td>0.942029</td>\n",
       "      <td>0.005612</td>\n",
       "      <td>0.858942</td>\n",
       "      <td>0.011000</td>\n",
       "      <td>0.862475</td>\n",
       "      <td>0.007843</td>\n",
       "    </tr>\n",
       "    <tr>\n",
       "      <th>4</th>\n",
       "      <td>4</td>\n",
       "      <td>0.351365</td>\n",
       "      <td>0.007031</td>\n",
       "      <td>0.348727</td>\n",
       "      <td>0.003120</td>\n",
       "      <td>0.949578</td>\n",
       "      <td>0.004630</td>\n",
       "      <td>0.871009</td>\n",
       "      <td>0.005875</td>\n",
       "      <td>0.874074</td>\n",
       "      <td>0.003707</td>\n",
       "    </tr>\n",
       "    <tr>\n",
       "      <th>...</th>\n",
       "      <td>...</td>\n",
       "      <td>...</td>\n",
       "      <td>...</td>\n",
       "      <td>...</td>\n",
       "      <td>...</td>\n",
       "      <td>...</td>\n",
       "      <td>...</td>\n",
       "      <td>...</td>\n",
       "      <td>...</td>\n",
       "      <td>...</td>\n",
       "      <td>...</td>\n",
       "    </tr>\n",
       "    <tr>\n",
       "      <th>295</th>\n",
       "      <td>295</td>\n",
       "      <td>0.029709</td>\n",
       "      <td>0.002551</td>\n",
       "      <td>0.011196</td>\n",
       "      <td>0.001680</td>\n",
       "      <td>0.999161</td>\n",
       "      <td>0.000142</td>\n",
       "      <td>0.992405</td>\n",
       "      <td>0.001301</td>\n",
       "      <td>0.999631</td>\n",
       "      <td>0.000130</td>\n",
       "    </tr>\n",
       "    <tr>\n",
       "      <th>296</th>\n",
       "      <td>296</td>\n",
       "      <td>0.029625</td>\n",
       "      <td>0.002568</td>\n",
       "      <td>0.011143</td>\n",
       "      <td>0.001674</td>\n",
       "      <td>0.999166</td>\n",
       "      <td>0.000143</td>\n",
       "      <td>0.992506</td>\n",
       "      <td>0.001201</td>\n",
       "      <td>0.999631</td>\n",
       "      <td>0.000130</td>\n",
       "    </tr>\n",
       "    <tr>\n",
       "      <th>297</th>\n",
       "      <td>297</td>\n",
       "      <td>0.029590</td>\n",
       "      <td>0.002559</td>\n",
       "      <td>0.011112</td>\n",
       "      <td>0.001662</td>\n",
       "      <td>0.999166</td>\n",
       "      <td>0.000143</td>\n",
       "      <td>0.992557</td>\n",
       "      <td>0.001212</td>\n",
       "      <td>0.999643</td>\n",
       "      <td>0.000132</td>\n",
       "    </tr>\n",
       "    <tr>\n",
       "      <th>298</th>\n",
       "      <td>298</td>\n",
       "      <td>0.029573</td>\n",
       "      <td>0.002507</td>\n",
       "      <td>0.011071</td>\n",
       "      <td>0.001642</td>\n",
       "      <td>0.999165</td>\n",
       "      <td>0.000142</td>\n",
       "      <td>0.992557</td>\n",
       "      <td>0.001212</td>\n",
       "      <td>0.999643</td>\n",
       "      <td>0.000132</td>\n",
       "    </tr>\n",
       "    <tr>\n",
       "      <th>299</th>\n",
       "      <td>299</td>\n",
       "      <td>0.029482</td>\n",
       "      <td>0.002517</td>\n",
       "      <td>0.011017</td>\n",
       "      <td>0.001641</td>\n",
       "      <td>0.999171</td>\n",
       "      <td>0.000143</td>\n",
       "      <td>0.992607</td>\n",
       "      <td>0.001232</td>\n",
       "      <td>0.999643</td>\n",
       "      <td>0.000132</td>\n",
       "    </tr>\n",
       "  </tbody>\n",
       "</table>\n",
       "<p>300 rows × 11 columns</p>\n",
       "</div>"
      ],
      "text/plain": [
       "     iterations  test-Logloss-mean  test-Logloss-std  train-Logloss-mean   \n",
       "0             0           0.566780          0.003527            0.566254  \\\n",
       "1             1           0.473087          0.012015            0.471640   \n",
       "2             2           0.419958          0.011270            0.417594   \n",
       "3             3           0.376470          0.007160            0.373704   \n",
       "4             4           0.351365          0.007031            0.348727   \n",
       "..          ...                ...               ...                 ...   \n",
       "295         295           0.029709          0.002551            0.011196   \n",
       "296         296           0.029625          0.002568            0.011143   \n",
       "297         297           0.029590          0.002559            0.011112   \n",
       "298         298           0.029573          0.002507            0.011071   \n",
       "299         299           0.029482          0.002517            0.011017   \n",
       "\n",
       "     train-Logloss-std  test-AUC-mean  test-AUC-std  test-F1-mean   \n",
       "0             0.004242       0.888249      0.003900      0.806034  \\\n",
       "1             0.006932       0.910726      0.006788      0.824855   \n",
       "2             0.006726       0.931166      0.009551      0.844666   \n",
       "3             0.005602       0.942029      0.005612      0.858942   \n",
       "4             0.003120       0.949578      0.004630      0.871009   \n",
       "..                 ...            ...           ...           ...   \n",
       "295           0.001680       0.999161      0.000142      0.992405   \n",
       "296           0.001674       0.999166      0.000143      0.992506   \n",
       "297           0.001662       0.999166      0.000143      0.992557   \n",
       "298           0.001642       0.999165      0.000142      0.992557   \n",
       "299           0.001641       0.999171      0.000143      0.992607   \n",
       "\n",
       "     test-F1-std  train-F1-mean  train-F1-std  \n",
       "0       0.005051       0.807711      0.003586  \n",
       "1       0.006439       0.827433      0.005544  \n",
       "2       0.013120       0.846899      0.009161  \n",
       "3       0.011000       0.862475      0.007843  \n",
       "4       0.005875       0.874074      0.003707  \n",
       "..           ...            ...           ...  \n",
       "295     0.001301       0.999631      0.000130  \n",
       "296     0.001201       0.999631      0.000130  \n",
       "297     0.001212       0.999643      0.000132  \n",
       "298     0.001212       0.999643      0.000132  \n",
       "299     0.001232       0.999643      0.000132  \n",
       "\n",
       "[300 rows x 11 columns]"
      ]
     },
     "execution_count": 127,
     "metadata": {},
     "output_type": "execute_result"
    }
   ],
   "source": [
    "cv_data"
   ]
  },
  {
   "cell_type": "code",
   "execution_count": 128,
   "id": "78f3d1d6",
   "metadata": {},
   "outputs": [],
   "source": [
    "feature_month_auc_valid = cv_data['test-AUC-mean'].tail(1)"
   ]
  },
  {
   "cell_type": "code",
   "execution_count": 129,
   "id": "5d1e2b01",
   "metadata": {},
   "outputs": [],
   "source": [
    "feature_month_f1_valid = cv_data['test-F1-mean'].tail(1)"
   ]
  },
  {
   "cell_type": "code",
   "execution_count": 130,
   "id": "844a4678",
   "metadata": {},
   "outputs": [
    {
     "data": {
      "text/plain": [
       "299    0.999171\n",
       "Name: test-AUC-mean, dtype: float64"
      ]
     },
     "execution_count": 130,
     "metadata": {},
     "output_type": "execute_result"
    }
   ],
   "source": [
    "feature_month_auc_valid"
   ]
  },
  {
   "cell_type": "code",
   "execution_count": 131,
   "id": "d45d7263",
   "metadata": {},
   "outputs": [
    {
     "data": {
      "text/plain": [
       "299    0.992607\n",
       "Name: test-F1-mean, dtype: float64"
      ]
     },
     "execution_count": 131,
     "metadata": {},
     "output_type": "execute_result"
    }
   ],
   "source": [
    "feature_month_f1_valid"
   ]
  },
  {
   "cell_type": "markdown",
   "id": "f47db99f",
   "metadata": {},
   "source": [
    "### Валидация модели"
   ]
  },
  {
   "cell_type": "code",
   "execution_count": 132,
   "id": "fde1a2ad",
   "metadata": {},
   "outputs": [],
   "source": [
    "model = CatBoostClassifier(loss_function='Logloss',\n",
    "    iterations=300,\n",
    "    custom_loss=['AUC', 'F1'],\n",
    "    random_seed= RS,\n",
    "    learning_rate= 0.2,\n",
    "    verbose=False)"
   ]
  },
  {
   "cell_type": "code",
   "execution_count": 133,
   "id": "d27147c6",
   "metadata": {},
   "outputs": [
    {
     "data": {
      "text/plain": [
       "<catboost.core.CatBoostClassifier at 0x17f03a49d60>"
      ]
     },
     "execution_count": 133,
     "metadata": {},
     "output_type": "execute_result"
    }
   ],
   "source": [
    "model.fit(features_train, target_train)"
   ]
  },
  {
   "cell_type": "code",
   "execution_count": 134,
   "id": "89d6a7dc",
   "metadata": {},
   "outputs": [],
   "source": [
    "pred = model.predict(features_test)"
   ]
  },
  {
   "cell_type": "code",
   "execution_count": 135,
   "id": "4b034f38",
   "metadata": {},
   "outputs": [],
   "source": [
    "feature_month_auc_test = roc_auc_score(target_test, pred)"
   ]
  },
  {
   "cell_type": "code",
   "execution_count": 136,
   "id": "6e2b3f83",
   "metadata": {},
   "outputs": [
    {
     "data": {
      "text/plain": [
       "0.7105307575873071"
      ]
     },
     "execution_count": 136,
     "metadata": {},
     "output_type": "execute_result"
    }
   ],
   "source": [
    "feature_month_auc_test"
   ]
  },
  {
   "cell_type": "code",
   "execution_count": 137,
   "id": "99053c77",
   "metadata": {},
   "outputs": [],
   "source": [
    "feature_month_f1_test = f1_score(target_test, pred)"
   ]
  },
  {
   "cell_type": "code",
   "execution_count": 138,
   "id": "6b888214",
   "metadata": {},
   "outputs": [
    {
     "data": {
      "text/plain": [
       "0.5233644859813084"
      ]
     },
     "execution_count": 138,
     "metadata": {},
     "output_type": "execute_result"
    }
   ],
   "source": [
    "feature_month_f1_test"
   ]
  },
  {
   "cell_type": "code",
   "execution_count": 139,
   "id": "291a9a90",
   "metadata": {},
   "outputs": [
    {
     "data": {
      "image/png": "[encoded data removed]",
      "text/plain": [
       "<Figure size 640x480 with 2 Axes>"
      ]
     },
     "metadata": {},
     "output_type": "display_data"
    }
   ],
   "source": [
    "cm = confusion_matrix(target_test, pred, normalize='true')\n",
    "ConfusionMatrixDisplay(confusion_matrix=cm).plot()\n",
    "plt.show()"
   ]
  },
  {
   "cell_type": "markdown",
   "id": "32da00d7",
   "metadata": {},
   "source": [
    "## Бейслайн модель с новыми фичами (месяц года)"
   ]
  },
  {
   "cell_type": "code",
   "execution_count": 140,
   "id": "2118e91d",
   "metadata": {},
   "outputs": [
    {
     "data": {
      "text/html": [
       "<div>\n",
       "<style scoped>\n",
       "    .dataframe tbody tr th:only-of-type {\n",
       "        vertical-align: middle;\n",
       "    }\n",
       "\n",
       "    .dataframe tbody tr th {\n",
       "        vertical-align: top;\n",
       "    }\n",
       "\n",
       "    .dataframe thead th {\n",
       "        text-align: right;\n",
       "    }\n",
       "</style>\n",
       "<table border=\"1\" class=\"dataframe\">\n",
       "  <thead>\n",
       "    <tr style=\"text-align: right;\">\n",
       "      <th></th>\n",
       "      <th>report_date</th>\n",
       "      <th>client_id</th>\n",
       "      <th>target</th>\n",
       "      <th>col1453</th>\n",
       "      <th>col2167</th>\n",
       "      <th>col2168</th>\n",
       "      <th>col2169</th>\n",
       "      <th>col2170</th>\n",
       "      <th>col2171</th>\n",
       "      <th>col2172</th>\n",
       "      <th>...</th>\n",
       "      <th>col2365</th>\n",
       "      <th>col2366</th>\n",
       "      <th>col2388</th>\n",
       "      <th>col2389</th>\n",
       "      <th>col2390</th>\n",
       "      <th>col2460</th>\n",
       "      <th>col2461</th>\n",
       "      <th>col2462</th>\n",
       "      <th>col2470</th>\n",
       "      <th>col2663</th>\n",
       "    </tr>\n",
       "  </thead>\n",
       "  <tbody>\n",
       "    <tr>\n",
       "      <th>0</th>\n",
       "      <td>2022-11-01</td>\n",
       "      <td>1</td>\n",
       "      <td>0</td>\n",
       "      <td>0</td>\n",
       "      <td>0.0</td>\n",
       "      <td>0.0</td>\n",
       "      <td>0.0</td>\n",
       "      <td>0.0</td>\n",
       "      <td>0.0</td>\n",
       "      <td>0.0</td>\n",
       "      <td>...</td>\n",
       "      <td>1.0</td>\n",
       "      <td>1.0</td>\n",
       "      <td>37.88</td>\n",
       "      <td>37.88</td>\n",
       "      <td>37.880</td>\n",
       "      <td>0.00</td>\n",
       "      <td>0.00</td>\n",
       "      <td>0.000</td>\n",
       "      <td>545.000000</td>\n",
       "      <td>0.256261</td>\n",
       "    </tr>\n",
       "    <tr>\n",
       "      <th>1</th>\n",
       "      <td>2022-11-01</td>\n",
       "      <td>5</td>\n",
       "      <td>0</td>\n",
       "      <td>1</td>\n",
       "      <td>0.0</td>\n",
       "      <td>0.0</td>\n",
       "      <td>0.0</td>\n",
       "      <td>0.0</td>\n",
       "      <td>0.0</td>\n",
       "      <td>6.0</td>\n",
       "      <td>...</td>\n",
       "      <td>1.0</td>\n",
       "      <td>1.0</td>\n",
       "      <td>38.75</td>\n",
       "      <td>3.34</td>\n",
       "      <td>21.045</td>\n",
       "      <td>0.00</td>\n",
       "      <td>0.00</td>\n",
       "      <td>0.000</td>\n",
       "      <td>242.000000</td>\n",
       "      <td>0.256261</td>\n",
       "    </tr>\n",
       "    <tr>\n",
       "      <th>2</th>\n",
       "      <td>2022-05-01</td>\n",
       "      <td>6</td>\n",
       "      <td>0</td>\n",
       "      <td>0</td>\n",
       "      <td>0.0</td>\n",
       "      <td>0.0</td>\n",
       "      <td>0.0</td>\n",
       "      <td>0.0</td>\n",
       "      <td>0.0</td>\n",
       "      <td>0.0</td>\n",
       "      <td>...</td>\n",
       "      <td>1.0</td>\n",
       "      <td>1.0</td>\n",
       "      <td>36.75</td>\n",
       "      <td>36.75</td>\n",
       "      <td>36.750</td>\n",
       "      <td>2.10</td>\n",
       "      <td>2.10</td>\n",
       "      <td>2.100</td>\n",
       "      <td>557.000000</td>\n",
       "      <td>0.256261</td>\n",
       "    </tr>\n",
       "    <tr>\n",
       "      <th>3</th>\n",
       "      <td>2022-09-01</td>\n",
       "      <td>7</td>\n",
       "      <td>0</td>\n",
       "      <td>0</td>\n",
       "      <td>1.0</td>\n",
       "      <td>1.0</td>\n",
       "      <td>1.0</td>\n",
       "      <td>1.0</td>\n",
       "      <td>1.0</td>\n",
       "      <td>1.0</td>\n",
       "      <td>...</td>\n",
       "      <td>1.0</td>\n",
       "      <td>1.0</td>\n",
       "      <td>35.56</td>\n",
       "      <td>35.56</td>\n",
       "      <td>35.560</td>\n",
       "      <td>1.40</td>\n",
       "      <td>1.40</td>\n",
       "      <td>1.400</td>\n",
       "      <td>332.556663</td>\n",
       "      <td>0.258682</td>\n",
       "    </tr>\n",
       "    <tr>\n",
       "      <th>4</th>\n",
       "      <td>2022-08-01</td>\n",
       "      <td>8</td>\n",
       "      <td>0</td>\n",
       "      <td>0</td>\n",
       "      <td>0.0</td>\n",
       "      <td>0.0</td>\n",
       "      <td>0.0</td>\n",
       "      <td>0.0</td>\n",
       "      <td>0.0</td>\n",
       "      <td>3.0</td>\n",
       "      <td>...</td>\n",
       "      <td>2.0</td>\n",
       "      <td>2.0</td>\n",
       "      <td>54.52</td>\n",
       "      <td>54.52</td>\n",
       "      <td>54.520</td>\n",
       "      <td>2.28</td>\n",
       "      <td>2.28</td>\n",
       "      <td>2.280</td>\n",
       "      <td>256.000000</td>\n",
       "      <td>0.254164</td>\n",
       "    </tr>\n",
       "    <tr>\n",
       "      <th>...</th>\n",
       "      <td>...</td>\n",
       "      <td>...</td>\n",
       "      <td>...</td>\n",
       "      <td>...</td>\n",
       "      <td>...</td>\n",
       "      <td>...</td>\n",
       "      <td>...</td>\n",
       "      <td>...</td>\n",
       "      <td>...</td>\n",
       "      <td>...</td>\n",
       "      <td>...</td>\n",
       "      <td>...</td>\n",
       "      <td>...</td>\n",
       "      <td>...</td>\n",
       "      <td>...</td>\n",
       "      <td>...</td>\n",
       "      <td>...</td>\n",
       "      <td>...</td>\n",
       "      <td>...</td>\n",
       "      <td>...</td>\n",
       "      <td>...</td>\n",
       "    </tr>\n",
       "    <tr>\n",
       "      <th>14451</th>\n",
       "      <td>2022-07-01</td>\n",
       "      <td>1241</td>\n",
       "      <td>0</td>\n",
       "      <td>0</td>\n",
       "      <td>0.0</td>\n",
       "      <td>0.0</td>\n",
       "      <td>0.0</td>\n",
       "      <td>0.0</td>\n",
       "      <td>0.0</td>\n",
       "      <td>0.0</td>\n",
       "      <td>...</td>\n",
       "      <td>2.0</td>\n",
       "      <td>2.0</td>\n",
       "      <td>56.48</td>\n",
       "      <td>56.48</td>\n",
       "      <td>56.480</td>\n",
       "      <td>1.41</td>\n",
       "      <td>1.41</td>\n",
       "      <td>1.410</td>\n",
       "      <td>332.556663</td>\n",
       "      <td>0.276902</td>\n",
       "    </tr>\n",
       "    <tr>\n",
       "      <th>14452</th>\n",
       "      <td>2022-09-01</td>\n",
       "      <td>1969</td>\n",
       "      <td>1</td>\n",
       "      <td>0</td>\n",
       "      <td>0.0</td>\n",
       "      <td>0.0</td>\n",
       "      <td>0.0</td>\n",
       "      <td>0.0</td>\n",
       "      <td>0.0</td>\n",
       "      <td>0.0</td>\n",
       "      <td>...</td>\n",
       "      <td>2.0</td>\n",
       "      <td>2.0</td>\n",
       "      <td>64.40</td>\n",
       "      <td>64.40</td>\n",
       "      <td>64.400</td>\n",
       "      <td>0.00</td>\n",
       "      <td>0.00</td>\n",
       "      <td>0.000</td>\n",
       "      <td>745.000000</td>\n",
       "      <td>0.260516</td>\n",
       "    </tr>\n",
       "    <tr>\n",
       "      <th>14453</th>\n",
       "      <td>2022-02-01</td>\n",
       "      <td>7116</td>\n",
       "      <td>1</td>\n",
       "      <td>0</td>\n",
       "      <td>0.0</td>\n",
       "      <td>0.0</td>\n",
       "      <td>6.0</td>\n",
       "      <td>6.0</td>\n",
       "      <td>6.0</td>\n",
       "      <td>6.0</td>\n",
       "      <td>...</td>\n",
       "      <td>2.0</td>\n",
       "      <td>2.5</td>\n",
       "      <td>57.27</td>\n",
       "      <td>55.68</td>\n",
       "      <td>56.475</td>\n",
       "      <td>2.25</td>\n",
       "      <td>0.00</td>\n",
       "      <td>1.125</td>\n",
       "      <td>45.000000</td>\n",
       "      <td>0.260005</td>\n",
       "    </tr>\n",
       "    <tr>\n",
       "      <th>14454</th>\n",
       "      <td>2021-08-01</td>\n",
       "      <td>7117</td>\n",
       "      <td>0</td>\n",
       "      <td>0</td>\n",
       "      <td>0.0</td>\n",
       "      <td>0.0</td>\n",
       "      <td>0.0</td>\n",
       "      <td>0.0</td>\n",
       "      <td>2.0</td>\n",
       "      <td>3.0</td>\n",
       "      <td>...</td>\n",
       "      <td>1.0</td>\n",
       "      <td>1.0</td>\n",
       "      <td>34.95</td>\n",
       "      <td>34.95</td>\n",
       "      <td>34.950</td>\n",
       "      <td>0.00</td>\n",
       "      <td>0.00</td>\n",
       "      <td>0.000</td>\n",
       "      <td>179.000000</td>\n",
       "      <td>0.256261</td>\n",
       "    </tr>\n",
       "    <tr>\n",
       "      <th>14455</th>\n",
       "      <td>2022-03-01</td>\n",
       "      <td>849</td>\n",
       "      <td>0</td>\n",
       "      <td>0</td>\n",
       "      <td>0.0</td>\n",
       "      <td>0.0</td>\n",
       "      <td>0.0</td>\n",
       "      <td>0.0</td>\n",
       "      <td>0.0</td>\n",
       "      <td>6.0</td>\n",
       "      <td>...</td>\n",
       "      <td>1.0</td>\n",
       "      <td>1.0</td>\n",
       "      <td>32.80</td>\n",
       "      <td>4.40</td>\n",
       "      <td>18.600</td>\n",
       "      <td>0.00</td>\n",
       "      <td>0.00</td>\n",
       "      <td>0.000</td>\n",
       "      <td>255.000000</td>\n",
       "      <td>0.293904</td>\n",
       "    </tr>\n",
       "  </tbody>\n",
       "</table>\n",
       "<p>14456 rows × 54 columns</p>\n",
       "</div>"
      ],
      "text/plain": [
       "      report_date  client_id  target  col1453  col2167  col2168  col2169   \n",
       "0      2022-11-01          1       0        0      0.0      0.0      0.0  \\\n",
       "1      2022-11-01          5       0        1      0.0      0.0      0.0   \n",
       "2      2022-05-01          6       0        0      0.0      0.0      0.0   \n",
       "3      2022-09-01          7       0        0      1.0      1.0      1.0   \n",
       "4      2022-08-01          8       0        0      0.0      0.0      0.0   \n",
       "...           ...        ...     ...      ...      ...      ...      ...   \n",
       "14451  2022-07-01       1241       0        0      0.0      0.0      0.0   \n",
       "14452  2022-09-01       1969       1        0      0.0      0.0      0.0   \n",
       "14453  2022-02-01       7116       1        0      0.0      0.0      6.0   \n",
       "14454  2021-08-01       7117       0        0      0.0      0.0      0.0   \n",
       "14455  2022-03-01        849       0        0      0.0      0.0      0.0   \n",
       "\n",
       "       col2170  col2171  col2172  ...  col2365  col2366  col2388  col2389   \n",
       "0          0.0      0.0      0.0  ...      1.0      1.0    37.88    37.88  \\\n",
       "1          0.0      0.0      6.0  ...      1.0      1.0    38.75     3.34   \n",
       "2          0.0      0.0      0.0  ...      1.0      1.0    36.75    36.75   \n",
       "3          1.0      1.0      1.0  ...      1.0      1.0    35.56    35.56   \n",
       "4          0.0      0.0      3.0  ...      2.0      2.0    54.52    54.52   \n",
       "...        ...      ...      ...  ...      ...      ...      ...      ...   \n",
       "14451      0.0      0.0      0.0  ...      2.0      2.0    56.48    56.48   \n",
       "14452      0.0      0.0      0.0  ...      2.0      2.0    64.40    64.40   \n",
       "14453      6.0      6.0      6.0  ...      2.0      2.5    57.27    55.68   \n",
       "14454      0.0      2.0      3.0  ...      1.0      1.0    34.95    34.95   \n",
       "14455      0.0      0.0      6.0  ...      1.0      1.0    32.80     4.40   \n",
       "\n",
       "       col2390  col2460  col2461  col2462     col2470   col2663  \n",
       "0       37.880     0.00     0.00    0.000  545.000000  0.256261  \n",
       "1       21.045     0.00     0.00    0.000  242.000000  0.256261  \n",
       "2       36.750     2.10     2.10    2.100  557.000000  0.256261  \n",
       "3       35.560     1.40     1.40    1.400  332.556663  0.258682  \n",
       "4       54.520     2.28     2.28    2.280  256.000000  0.254164  \n",
       "...        ...      ...      ...      ...         ...       ...  \n",
       "14451   56.480     1.41     1.41    1.410  332.556663  0.276902  \n",
       "14452   64.400     0.00     0.00    0.000  745.000000  0.260516  \n",
       "14453   56.475     2.25     0.00    1.125   45.000000  0.260005  \n",
       "14454   34.950     0.00     0.00    0.000  179.000000  0.256261  \n",
       "14455   18.600     0.00     0.00    0.000  255.000000  0.293904  \n",
       "\n",
       "[14456 rows x 54 columns]"
      ]
     },
     "execution_count": 140,
     "metadata": {},
     "output_type": "execute_result"
    }
   ],
   "source": [
    "data_f"
   ]
  },
  {
   "cell_type": "code",
   "execution_count": 141,
   "id": "d0a30e74",
   "metadata": {},
   "outputs": [],
   "source": [
    "train, test = train_test_split(data_f, test_size=0.3, random_state=RS, stratify=data['target'])"
   ]
  },
  {
   "cell_type": "code",
   "execution_count": 142,
   "id": "939ded0f",
   "metadata": {},
   "outputs": [],
   "source": [
    "def month_maker(row):\n",
    "        return row['report_date'].month"
   ]
  },
  {
   "cell_type": "code",
   "execution_count": 143,
   "id": "007ae757",
   "metadata": {},
   "outputs": [],
   "source": [
    "train['month'] = train.apply(month_maker, axis=1)"
   ]
  },
  {
   "cell_type": "code",
   "execution_count": 144,
   "id": "5d165341",
   "metadata": {},
   "outputs": [],
   "source": [
    "test['month'] = test.apply(month_maker, axis=1)"
   ]
  },
  {
   "cell_type": "code",
   "execution_count": 145,
   "id": "abe776dd",
   "metadata": {},
   "outputs": [
    {
     "data": {
      "text/html": [
       "<div>\n",
       "<style scoped>\n",
       "    .dataframe tbody tr th:only-of-type {\n",
       "        vertical-align: middle;\n",
       "    }\n",
       "\n",
       "    .dataframe tbody tr th {\n",
       "        vertical-align: top;\n",
       "    }\n",
       "\n",
       "    .dataframe thead th {\n",
       "        text-align: right;\n",
       "    }\n",
       "</style>\n",
       "<table border=\"1\" class=\"dataframe\">\n",
       "  <thead>\n",
       "    <tr style=\"text-align: right;\">\n",
       "      <th></th>\n",
       "      <th>report_date</th>\n",
       "      <th>client_id</th>\n",
       "      <th>target</th>\n",
       "      <th>col1453</th>\n",
       "      <th>col2167</th>\n",
       "      <th>col2168</th>\n",
       "      <th>col2169</th>\n",
       "      <th>col2170</th>\n",
       "      <th>col2171</th>\n",
       "      <th>col2172</th>\n",
       "      <th>...</th>\n",
       "      <th>col2366</th>\n",
       "      <th>col2388</th>\n",
       "      <th>col2389</th>\n",
       "      <th>col2390</th>\n",
       "      <th>col2460</th>\n",
       "      <th>col2461</th>\n",
       "      <th>col2462</th>\n",
       "      <th>col2470</th>\n",
       "      <th>col2663</th>\n",
       "      <th>month</th>\n",
       "    </tr>\n",
       "  </thead>\n",
       "  <tbody>\n",
       "    <tr>\n",
       "      <th>12103</th>\n",
       "      <td>2022-07-01</td>\n",
       "      <td>1948</td>\n",
       "      <td>0</td>\n",
       "      <td>0</td>\n",
       "      <td>0.0</td>\n",
       "      <td>0.0</td>\n",
       "      <td>0.0</td>\n",
       "      <td>0.0</td>\n",
       "      <td>2.0</td>\n",
       "      <td>3.0</td>\n",
       "      <td>...</td>\n",
       "      <td>1.0</td>\n",
       "      <td>33.65</td>\n",
       "      <td>33.65</td>\n",
       "      <td>33.65</td>\n",
       "      <td>1.13</td>\n",
       "      <td>1.13</td>\n",
       "      <td>1.130</td>\n",
       "      <td>162.0</td>\n",
       "      <td>0.257549</td>\n",
       "      <td>7</td>\n",
       "    </tr>\n",
       "    <tr>\n",
       "      <th>6774</th>\n",
       "      <td>2022-11-01</td>\n",
       "      <td>4756</td>\n",
       "      <td>0</td>\n",
       "      <td>1</td>\n",
       "      <td>0.0</td>\n",
       "      <td>0.0</td>\n",
       "      <td>0.0</td>\n",
       "      <td>0.0</td>\n",
       "      <td>3.0</td>\n",
       "      <td>3.0</td>\n",
       "      <td>...</td>\n",
       "      <td>2.0</td>\n",
       "      <td>59.49</td>\n",
       "      <td>59.49</td>\n",
       "      <td>59.49</td>\n",
       "      <td>1.83</td>\n",
       "      <td>1.83</td>\n",
       "      <td>1.830</td>\n",
       "      <td>109.0</td>\n",
       "      <td>0.258306</td>\n",
       "      <td>11</td>\n",
       "    </tr>\n",
       "    <tr>\n",
       "      <th>12287</th>\n",
       "      <td>2023-01-01</td>\n",
       "      <td>3605</td>\n",
       "      <td>0</td>\n",
       "      <td>0</td>\n",
       "      <td>0.0</td>\n",
       "      <td>0.0</td>\n",
       "      <td>0.0</td>\n",
       "      <td>0.0</td>\n",
       "      <td>0.0</td>\n",
       "      <td>0.0</td>\n",
       "      <td>...</td>\n",
       "      <td>3.0</td>\n",
       "      <td>79.58</td>\n",
       "      <td>79.58</td>\n",
       "      <td>79.58</td>\n",
       "      <td>3.98</td>\n",
       "      <td>3.98</td>\n",
       "      <td>3.980</td>\n",
       "      <td>390.0</td>\n",
       "      <td>0.257348</td>\n",
       "      <td>1</td>\n",
       "    </tr>\n",
       "    <tr>\n",
       "      <th>8531</th>\n",
       "      <td>2022-05-01</td>\n",
       "      <td>1680</td>\n",
       "      <td>0</td>\n",
       "      <td>0</td>\n",
       "      <td>0.0</td>\n",
       "      <td>0.0</td>\n",
       "      <td>0.0</td>\n",
       "      <td>0.0</td>\n",
       "      <td>0.0</td>\n",
       "      <td>4.0</td>\n",
       "      <td>...</td>\n",
       "      <td>1.0</td>\n",
       "      <td>32.02</td>\n",
       "      <td>20.48</td>\n",
       "      <td>26.25</td>\n",
       "      <td>2.02</td>\n",
       "      <td>1.17</td>\n",
       "      <td>1.595</td>\n",
       "      <td>297.0</td>\n",
       "      <td>0.256261</td>\n",
       "      <td>5</td>\n",
       "    </tr>\n",
       "    <tr>\n",
       "      <th>6719</th>\n",
       "      <td>2022-09-01</td>\n",
       "      <td>2574</td>\n",
       "      <td>0</td>\n",
       "      <td>0</td>\n",
       "      <td>0.0</td>\n",
       "      <td>0.0</td>\n",
       "      <td>0.0</td>\n",
       "      <td>0.0</td>\n",
       "      <td>0.0</td>\n",
       "      <td>2.0</td>\n",
       "      <td>...</td>\n",
       "      <td>1.0</td>\n",
       "      <td>37.07</td>\n",
       "      <td>37.07</td>\n",
       "      <td>37.07</td>\n",
       "      <td>2.28</td>\n",
       "      <td>2.28</td>\n",
       "      <td>2.280</td>\n",
       "      <td>335.0</td>\n",
       "      <td>0.256261</td>\n",
       "      <td>9</td>\n",
       "    </tr>\n",
       "  </tbody>\n",
       "</table>\n",
       "<p>5 rows × 55 columns</p>\n",
       "</div>"
      ],
      "text/plain": [
       "      report_date  client_id  target  col1453  col2167  col2168  col2169   \n",
       "12103  2022-07-01       1948       0        0      0.0      0.0      0.0  \\\n",
       "6774   2022-11-01       4756       0        1      0.0      0.0      0.0   \n",
       "12287  2023-01-01       3605       0        0      0.0      0.0      0.0   \n",
       "8531   2022-05-01       1680       0        0      0.0      0.0      0.0   \n",
       "6719   2022-09-01       2574       0        0      0.0      0.0      0.0   \n",
       "\n",
       "       col2170  col2171  col2172  ...  col2366  col2388  col2389  col2390   \n",
       "12103      0.0      2.0      3.0  ...      1.0    33.65    33.65    33.65  \\\n",
       "6774       0.0      3.0      3.0  ...      2.0    59.49    59.49    59.49   \n",
       "12287      0.0      0.0      0.0  ...      3.0    79.58    79.58    79.58   \n",
       "8531       0.0      0.0      4.0  ...      1.0    32.02    20.48    26.25   \n",
       "6719       0.0      0.0      2.0  ...      1.0    37.07    37.07    37.07   \n",
       "\n",
       "       col2460  col2461  col2462  col2470   col2663  month  \n",
       "12103     1.13     1.13    1.130    162.0  0.257549      7  \n",
       "6774      1.83     1.83    1.830    109.0  0.258306     11  \n",
       "12287     3.98     3.98    3.980    390.0  0.257348      1  \n",
       "8531      2.02     1.17    1.595    297.0  0.256261      5  \n",
       "6719      2.28     2.28    2.280    335.0  0.256261      9  \n",
       "\n",
       "[5 rows x 55 columns]"
      ]
     },
     "execution_count": 145,
     "metadata": {},
     "output_type": "execute_result"
    }
   ],
   "source": [
    "train.head()"
   ]
  },
  {
   "cell_type": "code",
   "execution_count": 146,
   "id": "0497a7e8",
   "metadata": {},
   "outputs": [],
   "source": [
    "train = pd.get_dummies(train, columns=['month'], drop_first=False, dtype='int')"
   ]
  },
  {
   "cell_type": "code",
   "execution_count": 147,
   "id": "45785507",
   "metadata": {},
   "outputs": [
    {
     "data": {
      "text/html": [
       "<div>\n",
       "<style scoped>\n",
       "    .dataframe tbody tr th:only-of-type {\n",
       "        vertical-align: middle;\n",
       "    }\n",
       "\n",
       "    .dataframe tbody tr th {\n",
       "        vertical-align: top;\n",
       "    }\n",
       "\n",
       "    .dataframe thead th {\n",
       "        text-align: right;\n",
       "    }\n",
       "</style>\n",
       "<table border=\"1\" class=\"dataframe\">\n",
       "  <thead>\n",
       "    <tr style=\"text-align: right;\">\n",
       "      <th></th>\n",
       "      <th>report_date</th>\n",
       "      <th>client_id</th>\n",
       "      <th>target</th>\n",
       "      <th>col1453</th>\n",
       "      <th>col2167</th>\n",
       "      <th>col2168</th>\n",
       "      <th>col2169</th>\n",
       "      <th>col2170</th>\n",
       "      <th>col2171</th>\n",
       "      <th>col2172</th>\n",
       "      <th>...</th>\n",
       "      <th>month_3</th>\n",
       "      <th>month_4</th>\n",
       "      <th>month_5</th>\n",
       "      <th>month_6</th>\n",
       "      <th>month_7</th>\n",
       "      <th>month_8</th>\n",
       "      <th>month_9</th>\n",
       "      <th>month_10</th>\n",
       "      <th>month_11</th>\n",
       "      <th>month_12</th>\n",
       "    </tr>\n",
       "  </thead>\n",
       "  <tbody>\n",
       "    <tr>\n",
       "      <th>12103</th>\n",
       "      <td>2022-07-01</td>\n",
       "      <td>1948</td>\n",
       "      <td>0</td>\n",
       "      <td>0</td>\n",
       "      <td>0.0</td>\n",
       "      <td>0.0</td>\n",
       "      <td>0.0</td>\n",
       "      <td>0.0</td>\n",
       "      <td>2.0</td>\n",
       "      <td>3.0</td>\n",
       "      <td>...</td>\n",
       "      <td>0</td>\n",
       "      <td>0</td>\n",
       "      <td>0</td>\n",
       "      <td>0</td>\n",
       "      <td>1</td>\n",
       "      <td>0</td>\n",
       "      <td>0</td>\n",
       "      <td>0</td>\n",
       "      <td>0</td>\n",
       "      <td>0</td>\n",
       "    </tr>\n",
       "    <tr>\n",
       "      <th>6774</th>\n",
       "      <td>2022-11-01</td>\n",
       "      <td>4756</td>\n",
       "      <td>0</td>\n",
       "      <td>1</td>\n",
       "      <td>0.0</td>\n",
       "      <td>0.0</td>\n",
       "      <td>0.0</td>\n",
       "      <td>0.0</td>\n",
       "      <td>3.0</td>\n",
       "      <td>3.0</td>\n",
       "      <td>...</td>\n",
       "      <td>0</td>\n",
       "      <td>0</td>\n",
       "      <td>0</td>\n",
       "      <td>0</td>\n",
       "      <td>0</td>\n",
       "      <td>0</td>\n",
       "      <td>0</td>\n",
       "      <td>0</td>\n",
       "      <td>1</td>\n",
       "      <td>0</td>\n",
       "    </tr>\n",
       "    <tr>\n",
       "      <th>12287</th>\n",
       "      <td>2023-01-01</td>\n",
       "      <td>3605</td>\n",
       "      <td>0</td>\n",
       "      <td>0</td>\n",
       "      <td>0.0</td>\n",
       "      <td>0.0</td>\n",
       "      <td>0.0</td>\n",
       "      <td>0.0</td>\n",
       "      <td>0.0</td>\n",
       "      <td>0.0</td>\n",
       "      <td>...</td>\n",
       "      <td>0</td>\n",
       "      <td>0</td>\n",
       "      <td>0</td>\n",
       "      <td>0</td>\n",
       "      <td>0</td>\n",
       "      <td>0</td>\n",
       "      <td>0</td>\n",
       "      <td>0</td>\n",
       "      <td>0</td>\n",
       "      <td>0</td>\n",
       "    </tr>\n",
       "    <tr>\n",
       "      <th>8531</th>\n",
       "      <td>2022-05-01</td>\n",
       "      <td>1680</td>\n",
       "      <td>0</td>\n",
       "      <td>0</td>\n",
       "      <td>0.0</td>\n",
       "      <td>0.0</td>\n",
       "      <td>0.0</td>\n",
       "      <td>0.0</td>\n",
       "      <td>0.0</td>\n",
       "      <td>4.0</td>\n",
       "      <td>...</td>\n",
       "      <td>0</td>\n",
       "      <td>0</td>\n",
       "      <td>1</td>\n",
       "      <td>0</td>\n",
       "      <td>0</td>\n",
       "      <td>0</td>\n",
       "      <td>0</td>\n",
       "      <td>0</td>\n",
       "      <td>0</td>\n",
       "      <td>0</td>\n",
       "    </tr>\n",
       "    <tr>\n",
       "      <th>6719</th>\n",
       "      <td>2022-09-01</td>\n",
       "      <td>2574</td>\n",
       "      <td>0</td>\n",
       "      <td>0</td>\n",
       "      <td>0.0</td>\n",
       "      <td>0.0</td>\n",
       "      <td>0.0</td>\n",
       "      <td>0.0</td>\n",
       "      <td>0.0</td>\n",
       "      <td>2.0</td>\n",
       "      <td>...</td>\n",
       "      <td>0</td>\n",
       "      <td>0</td>\n",
       "      <td>0</td>\n",
       "      <td>0</td>\n",
       "      <td>0</td>\n",
       "      <td>0</td>\n",
       "      <td>1</td>\n",
       "      <td>0</td>\n",
       "      <td>0</td>\n",
       "      <td>0</td>\n",
       "    </tr>\n",
       "  </tbody>\n",
       "</table>\n",
       "<p>5 rows × 66 columns</p>\n",
       "</div>"
      ],
      "text/plain": [
       "      report_date  client_id  target  col1453  col2167  col2168  col2169   \n",
       "12103  2022-07-01       1948       0        0      0.0      0.0      0.0  \\\n",
       "6774   2022-11-01       4756       0        1      0.0      0.0      0.0   \n",
       "12287  2023-01-01       3605       0        0      0.0      0.0      0.0   \n",
       "8531   2022-05-01       1680       0        0      0.0      0.0      0.0   \n",
       "6719   2022-09-01       2574       0        0      0.0      0.0      0.0   \n",
       "\n",
       "       col2170  col2171  col2172  ...  month_3  month_4  month_5  month_6   \n",
       "12103      0.0      2.0      3.0  ...        0        0        0        0  \\\n",
       "6774       0.0      3.0      3.0  ...        0        0        0        0   \n",
       "12287      0.0      0.0      0.0  ...        0        0        0        0   \n",
       "8531       0.0      0.0      4.0  ...        0        0        1        0   \n",
       "6719       0.0      0.0      2.0  ...        0        0        0        0   \n",
       "\n",
       "       month_7  month_8  month_9  month_10  month_11  month_12  \n",
       "12103        1        0        0         0         0         0  \n",
       "6774         0        0        0         0         1         0  \n",
       "12287        0        0        0         0         0         0  \n",
       "8531         0        0        0         0         0         0  \n",
       "6719         0        0        1         0         0         0  \n",
       "\n",
       "[5 rows x 66 columns]"
      ]
     },
     "execution_count": 147,
     "metadata": {},
     "output_type": "execute_result"
    }
   ],
   "source": [
    "train.head()"
   ]
  },
  {
   "cell_type": "code",
   "execution_count": 148,
   "id": "ceacf8b4",
   "metadata": {},
   "outputs": [],
   "source": [
    "test = pd.get_dummies(test, columns=['month'], drop_first=False, dtype='int')"
   ]
  },
  {
   "cell_type": "code",
   "execution_count": 149,
   "id": "8e5eedc1",
   "metadata": {},
   "outputs": [],
   "source": [
    "features_train = train.drop(columns=['report_date', 'client_id', 'target'])"
   ]
  },
  {
   "cell_type": "code",
   "execution_count": 150,
   "id": "af2cdb1d",
   "metadata": {},
   "outputs": [],
   "source": [
    "target_train = train['target']"
   ]
  },
  {
   "cell_type": "code",
   "execution_count": 151,
   "id": "1f67fb86",
   "metadata": {},
   "outputs": [],
   "source": [
    "features_train, target_train = SMOTE().fit_resample(features_train, target_train)"
   ]
  },
  {
   "cell_type": "code",
   "execution_count": 152,
   "id": "d13fad2c",
   "metadata": {},
   "outputs": [],
   "source": [
    "features_test = test.drop(columns=['report_date', 'client_id', 'target'])"
   ]
  },
  {
   "cell_type": "code",
   "execution_count": 153,
   "id": "d6e96ccf",
   "metadata": {},
   "outputs": [],
   "source": [
    "target_test = test['target']"
   ]
  },
  {
   "cell_type": "code",
   "execution_count": 154,
   "id": "69d90553",
   "metadata": {},
   "outputs": [],
   "source": [
    "params = {\n",
    "    'loss_function': 'Logloss',\n",
    "    'iterations': 300,\n",
    "    'custom_loss': ['AUC', 'F1'],\n",
    "    'random_seed': RS,\n",
    "    'learning_rate': 0.2\n",
    "}"
   ]
  },
  {
   "cell_type": "code",
   "execution_count": 155,
   "id": "0e86b5ea",
   "metadata": {},
   "outputs": [
    {
     "data": {
      "application/vnd.jupyter.widget-view+json": {
       "model_id": "3e6900324df14c768bf397520eae1a1e",
       "version_major": 2,
       "version_minor": 0
      },
      "text/plain": [
       "MetricVisualizer(layout=Layout(align_self='stretch', height='500px'))"
      ]
     },
     "metadata": {},
     "output_type": "display_data"
    },
    {
     "name": "stdout",
     "output_type": "stream",
     "text": [
      "Training on fold [0/5]\n",
      "\n",
      "bestTest = 0.03888838747\n",
      "bestIteration = 287\n",
      "\n",
      "Training on fold [1/5]\n",
      "\n",
      "bestTest = 0.03696499578\n",
      "bestIteration = 299\n",
      "\n",
      "Training on fold [2/5]\n",
      "\n",
      "bestTest = 0.04559449644\n",
      "bestIteration = 279\n",
      "\n",
      "Training on fold [3/5]\n",
      "\n",
      "bestTest = 0.03902370325\n",
      "bestIteration = 272\n",
      "\n",
      "Training on fold [4/5]\n",
      "\n",
      "bestTest = 0.04467178423\n",
      "bestIteration = 282\n",
      "\n"
     ]
    }
   ],
   "source": [
    "cv_data = cv(\n",
    "    params=params,\n",
    "    pool=Pool(features_train, label=target_train),\n",
    "    fold_count=5, # Разбивка выборки на 5 кусочков\n",
    "    shuffle=True, # Перемешаем наши данные\n",
    "    partition_random_seed=RS,\n",
    "    plot=True,\n",
    "    stratified=True, \n",
    "    verbose=False\n",
    ")"
   ]
  },
  {
   "cell_type": "code",
   "execution_count": 156,
   "id": "ee8c8a21",
   "metadata": {},
   "outputs": [
    {
     "data": {
      "text/html": [
       "<div>\n",
       "<style scoped>\n",
       "    .dataframe tbody tr th:only-of-type {\n",
       "        vertical-align: middle;\n",
       "    }\n",
       "\n",
       "    .dataframe tbody tr th {\n",
       "        vertical-align: top;\n",
       "    }\n",
       "\n",
       "    .dataframe thead th {\n",
       "        text-align: right;\n",
       "    }\n",
       "</style>\n",
       "<table border=\"1\" class=\"dataframe\">\n",
       "  <thead>\n",
       "    <tr style=\"text-align: right;\">\n",
       "      <th></th>\n",
       "      <th>iterations</th>\n",
       "      <th>test-Logloss-mean</th>\n",
       "      <th>test-Logloss-std</th>\n",
       "      <th>train-Logloss-mean</th>\n",
       "      <th>train-Logloss-std</th>\n",
       "      <th>test-AUC-mean</th>\n",
       "      <th>test-AUC-std</th>\n",
       "      <th>test-F1-mean</th>\n",
       "      <th>test-F1-std</th>\n",
       "      <th>train-F1-mean</th>\n",
       "      <th>train-F1-std</th>\n",
       "    </tr>\n",
       "  </thead>\n",
       "  <tbody>\n",
       "    <tr>\n",
       "      <th>0</th>\n",
       "      <td>0</td>\n",
       "      <td>0.552559</td>\n",
       "      <td>0.002681</td>\n",
       "      <td>0.551082</td>\n",
       "      <td>0.003962</td>\n",
       "      <td>0.885997</td>\n",
       "      <td>0.007016</td>\n",
       "      <td>0.804101</td>\n",
       "      <td>0.011213</td>\n",
       "      <td>0.810210</td>\n",
       "      <td>0.007599</td>\n",
       "    </tr>\n",
       "    <tr>\n",
       "      <th>1</th>\n",
       "      <td>1</td>\n",
       "      <td>0.478017</td>\n",
       "      <td>0.011408</td>\n",
       "      <td>0.475871</td>\n",
       "      <td>0.008077</td>\n",
       "      <td>0.903649</td>\n",
       "      <td>0.005951</td>\n",
       "      <td>0.820972</td>\n",
       "      <td>0.008487</td>\n",
       "      <td>0.824713</td>\n",
       "      <td>0.004565</td>\n",
       "    </tr>\n",
       "    <tr>\n",
       "      <th>2</th>\n",
       "      <td>2</td>\n",
       "      <td>0.423597</td>\n",
       "      <td>0.005547</td>\n",
       "      <td>0.420996</td>\n",
       "      <td>0.003568</td>\n",
       "      <td>0.927125</td>\n",
       "      <td>0.005182</td>\n",
       "      <td>0.838726</td>\n",
       "      <td>0.012044</td>\n",
       "      <td>0.840775</td>\n",
       "      <td>0.009173</td>\n",
       "    </tr>\n",
       "    <tr>\n",
       "      <th>3</th>\n",
       "      <td>3</td>\n",
       "      <td>0.388720</td>\n",
       "      <td>0.004259</td>\n",
       "      <td>0.386095</td>\n",
       "      <td>0.003456</td>\n",
       "      <td>0.939484</td>\n",
       "      <td>0.003876</td>\n",
       "      <td>0.853901</td>\n",
       "      <td>0.009694</td>\n",
       "      <td>0.855557</td>\n",
       "      <td>0.005171</td>\n",
       "    </tr>\n",
       "    <tr>\n",
       "      <th>4</th>\n",
       "      <td>4</td>\n",
       "      <td>0.359068</td>\n",
       "      <td>0.005294</td>\n",
       "      <td>0.355813</td>\n",
       "      <td>0.005731</td>\n",
       "      <td>0.954434</td>\n",
       "      <td>0.003685</td>\n",
       "      <td>0.873041</td>\n",
       "      <td>0.007542</td>\n",
       "      <td>0.876670</td>\n",
       "      <td>0.008397</td>\n",
       "    </tr>\n",
       "    <tr>\n",
       "      <th>...</th>\n",
       "      <td>...</td>\n",
       "      <td>...</td>\n",
       "      <td>...</td>\n",
       "      <td>...</td>\n",
       "      <td>...</td>\n",
       "      <td>...</td>\n",
       "      <td>...</td>\n",
       "      <td>...</td>\n",
       "      <td>...</td>\n",
       "      <td>...</td>\n",
       "      <td>...</td>\n",
       "    </tr>\n",
       "    <tr>\n",
       "      <th>295</th>\n",
       "      <td>295</td>\n",
       "      <td>0.041263</td>\n",
       "      <td>0.003810</td>\n",
       "      <td>0.010201</td>\n",
       "      <td>0.000578</td>\n",
       "      <td>0.998275</td>\n",
       "      <td>0.000260</td>\n",
       "      <td>0.986164</td>\n",
       "      <td>0.001566</td>\n",
       "      <td>0.999490</td>\n",
       "      <td>0.000119</td>\n",
       "    </tr>\n",
       "    <tr>\n",
       "      <th>296</th>\n",
       "      <td>296</td>\n",
       "      <td>0.041233</td>\n",
       "      <td>0.003829</td>\n",
       "      <td>0.010167</td>\n",
       "      <td>0.000577</td>\n",
       "      <td>0.998279</td>\n",
       "      <td>0.000259</td>\n",
       "      <td>0.986164</td>\n",
       "      <td>0.001566</td>\n",
       "      <td>0.999490</td>\n",
       "      <td>0.000119</td>\n",
       "    </tr>\n",
       "    <tr>\n",
       "      <th>297</th>\n",
       "      <td>297</td>\n",
       "      <td>0.041251</td>\n",
       "      <td>0.003873</td>\n",
       "      <td>0.010110</td>\n",
       "      <td>0.000573</td>\n",
       "      <td>0.998279</td>\n",
       "      <td>0.000257</td>\n",
       "      <td>0.986164</td>\n",
       "      <td>0.001566</td>\n",
       "      <td>0.999516</td>\n",
       "      <td>0.000097</td>\n",
       "    </tr>\n",
       "    <tr>\n",
       "      <th>298</th>\n",
       "      <td>298</td>\n",
       "      <td>0.041180</td>\n",
       "      <td>0.003888</td>\n",
       "      <td>0.010061</td>\n",
       "      <td>0.000566</td>\n",
       "      <td>0.998287</td>\n",
       "      <td>0.000256</td>\n",
       "      <td>0.986164</td>\n",
       "      <td>0.001566</td>\n",
       "      <td>0.999529</td>\n",
       "      <td>0.000107</td>\n",
       "    </tr>\n",
       "    <tr>\n",
       "      <th>299</th>\n",
       "      <td>299</td>\n",
       "      <td>0.041232</td>\n",
       "      <td>0.003880</td>\n",
       "      <td>0.010018</td>\n",
       "      <td>0.000546</td>\n",
       "      <td>0.998285</td>\n",
       "      <td>0.000254</td>\n",
       "      <td>0.986113</td>\n",
       "      <td>0.001562</td>\n",
       "      <td>0.999529</td>\n",
       "      <td>0.000107</td>\n",
       "    </tr>\n",
       "  </tbody>\n",
       "</table>\n",
       "<p>300 rows × 11 columns</p>\n",
       "</div>"
      ],
      "text/plain": [
       "     iterations  test-Logloss-mean  test-Logloss-std  train-Logloss-mean   \n",
       "0             0           0.552559          0.002681            0.551082  \\\n",
       "1             1           0.478017          0.011408            0.475871   \n",
       "2             2           0.423597          0.005547            0.420996   \n",
       "3             3           0.388720          0.004259            0.386095   \n",
       "4             4           0.359068          0.005294            0.355813   \n",
       "..          ...                ...               ...                 ...   \n",
       "295         295           0.041263          0.003810            0.010201   \n",
       "296         296           0.041233          0.003829            0.010167   \n",
       "297         297           0.041251          0.003873            0.010110   \n",
       "298         298           0.041180          0.003888            0.010061   \n",
       "299         299           0.041232          0.003880            0.010018   \n",
       "\n",
       "     train-Logloss-std  test-AUC-mean  test-AUC-std  test-F1-mean   \n",
       "0             0.003962       0.885997      0.007016      0.804101  \\\n",
       "1             0.008077       0.903649      0.005951      0.820972   \n",
       "2             0.003568       0.927125      0.005182      0.838726   \n",
       "3             0.003456       0.939484      0.003876      0.853901   \n",
       "4             0.005731       0.954434      0.003685      0.873041   \n",
       "..                 ...            ...           ...           ...   \n",
       "295           0.000578       0.998275      0.000260      0.986164   \n",
       "296           0.000577       0.998279      0.000259      0.986164   \n",
       "297           0.000573       0.998279      0.000257      0.986164   \n",
       "298           0.000566       0.998287      0.000256      0.986164   \n",
       "299           0.000546       0.998285      0.000254      0.986113   \n",
       "\n",
       "     test-F1-std  train-F1-mean  train-F1-std  \n",
       "0       0.011213       0.810210      0.007599  \n",
       "1       0.008487       0.824713      0.004565  \n",
       "2       0.012044       0.840775      0.009173  \n",
       "3       0.009694       0.855557      0.005171  \n",
       "4       0.007542       0.876670      0.008397  \n",
       "..           ...            ...           ...  \n",
       "295     0.001566       0.999490      0.000119  \n",
       "296     0.001566       0.999490      0.000119  \n",
       "297     0.001566       0.999516      0.000097  \n",
       "298     0.001566       0.999529      0.000107  \n",
       "299     0.001562       0.999529      0.000107  \n",
       "\n",
       "[300 rows x 11 columns]"
      ]
     },
     "execution_count": 156,
     "metadata": {},
     "output_type": "execute_result"
    }
   ],
   "source": [
    "cv_data"
   ]
  },
  {
   "cell_type": "code",
   "execution_count": 157,
   "id": "23abd111",
   "metadata": {},
   "outputs": [],
   "source": [
    "feature_season_auc_valid = cv_data['test-AUC-mean'].tail(1)"
   ]
  },
  {
   "cell_type": "code",
   "execution_count": 158,
   "id": "302f547a",
   "metadata": {},
   "outputs": [],
   "source": [
    "feature_season_f1_valid = cv_data['test-F1-mean'].tail(1)"
   ]
  },
  {
   "cell_type": "code",
   "execution_count": 159,
   "id": "222ac372",
   "metadata": {},
   "outputs": [
    {
     "data": {
      "text/plain": [
       "299    0.998285\n",
       "Name: test-AUC-mean, dtype: float64"
      ]
     },
     "execution_count": 159,
     "metadata": {},
     "output_type": "execute_result"
    }
   ],
   "source": [
    "feature_season_auc_valid"
   ]
  },
  {
   "cell_type": "code",
   "execution_count": 160,
   "id": "51045522",
   "metadata": {},
   "outputs": [
    {
     "data": {
      "text/plain": [
       "299    0.986113\n",
       "Name: test-F1-mean, dtype: float64"
      ]
     },
     "execution_count": 160,
     "metadata": {},
     "output_type": "execute_result"
    }
   ],
   "source": [
    "feature_season_f1_valid"
   ]
  },
  {
   "cell_type": "markdown",
   "id": "803bb166",
   "metadata": {},
   "source": [
    "### Валидация модели"
   ]
  },
  {
   "cell_type": "code",
   "execution_count": 161,
   "id": "19c94ddf",
   "metadata": {},
   "outputs": [],
   "source": [
    "model = CatBoostClassifier(loss_function='Logloss',\n",
    "    iterations=300,\n",
    "    custom_loss=['AUC', 'F1'],\n",
    "    random_seed= RS,\n",
    "    learning_rate= 0.2,\n",
    "    verbose=False)"
   ]
  },
  {
   "cell_type": "code",
   "execution_count": 162,
   "id": "cf13b7a6",
   "metadata": {},
   "outputs": [
    {
     "data": {
      "text/plain": [
       "<catboost.core.CatBoostClassifier at 0x17f00c341c0>"
      ]
     },
     "execution_count": 162,
     "metadata": {},
     "output_type": "execute_result"
    }
   ],
   "source": [
    "model.fit(features_train, target_train)"
   ]
  },
  {
   "cell_type": "code",
   "execution_count": 163,
   "id": "d342dc59",
   "metadata": {},
   "outputs": [],
   "source": [
    "pred = model.predict(features_test)"
   ]
  },
  {
   "cell_type": "code",
   "execution_count": 164,
   "id": "e5c5e6b1",
   "metadata": {},
   "outputs": [],
   "source": [
    "feature_season_auc_test = roc_auc_score(target_test, pred)"
   ]
  },
  {
   "cell_type": "code",
   "execution_count": 165,
   "id": "aeb2d0c1",
   "metadata": {},
   "outputs": [
    {
     "data": {
      "text/plain": [
       "0.5405581993008897"
      ]
     },
     "execution_count": 165,
     "metadata": {},
     "output_type": "execute_result"
    }
   ],
   "source": [
    "feature_season_auc_test"
   ]
  },
  {
   "cell_type": "code",
   "execution_count": 166,
   "id": "42d1aa87",
   "metadata": {},
   "outputs": [],
   "source": [
    "feature_season_f1_test = f1_score(target_test, pred)"
   ]
  },
  {
   "cell_type": "code",
   "execution_count": 167,
   "id": "ee0060b8",
   "metadata": {
    "scrolled": true
   },
   "outputs": [
    {
     "data": {
      "text/plain": [
       "0.14285714285714285"
      ]
     },
     "execution_count": 167,
     "metadata": {},
     "output_type": "execute_result"
    }
   ],
   "source": [
    "feature_season_f1_test"
   ]
  },
  {
   "cell_type": "code",
   "execution_count": 168,
   "id": "cbc6547d",
   "metadata": {},
   "outputs": [
    {
     "data": {
      "image/png": "[encoded data removed]",
      "text/plain": [
       "<Figure size 640x480 with 2 Axes>"
      ]
     },
     "metadata": {},
     "output_type": "display_data"
    }
   ],
   "source": [
    "cm = confusion_matrix(target_test, pred, normalize='true')\n",
    "ConfusionMatrixDisplay(confusion_matrix=cm).plot()\n",
    "plt.show()"
   ]
  },
  {
   "cell_type": "markdown",
   "id": "7e91fa15",
   "metadata": {},
   "source": [
    "## Модель на основе нейронной сети"
   ]
  },
  {
   "cell_type": "code",
   "execution_count": 169,
   "id": "7e557def",
   "metadata": {},
   "outputs": [],
   "source": [
    "features = data.drop(columns=['target', 'report_date'])"
   ]
  },
  {
   "cell_type": "code",
   "execution_count": 170,
   "id": "3ec5cacb",
   "metadata": {},
   "outputs": [],
   "source": [
    "target = data['target']"
   ]
  },
  {
   "cell_type": "code",
   "execution_count": 171,
   "id": "dc40267e",
   "metadata": {},
   "outputs": [],
   "source": [
    "features_train, features_test, target_train, target_test = train_test_split(features, target, test_size=0.3, stratify=target,\n",
    "                                                                            random_state=RS)"
   ]
  },
  {
   "cell_type": "code",
   "execution_count": 172,
   "id": "b510fe36",
   "metadata": {},
   "outputs": [],
   "source": [
    "features_train, target_train = SMOTE().fit_resample(features_train, target_train)"
   ]
  },
  {
   "cell_type": "code",
   "execution_count": 173,
   "id": "810681c4",
   "metadata": {},
   "outputs": [],
   "source": [
    "def baseline_nn(features_train):\n",
    "    model = keras.models.Sequential()\n",
    "    model.add(keras.layers.Dense(units=features_train.shape[1], input_dim=features_train.shape[1], \n",
    "                                 activation='sigmoid'))\n",
    "    model.add(keras.layers.Dense(units=1, input_dim=features_train.shape[1], \n",
    "                                 activation='sigmoid'))\n",
    "    model.compile(loss='binary_crossentropy', optimizer='sgd', metrics=['acc', AUC()])\n",
    "    \n",
    "    return model"
   ]
  },
  {
   "cell_type": "code",
   "execution_count": 174,
   "id": "c5f4ef59",
   "metadata": {},
   "outputs": [],
   "source": [
    "model = baseline_nn(features_train)"
   ]
  },
  {
   "cell_type": "code",
   "execution_count": 175,
   "id": "b23c0e42",
   "metadata": {},
   "outputs": [
    {
     "name": "stdout",
     "output_type": "stream",
     "text": [
      "Epoch 1/10\n",
      "614/614 - 2s - loss: 0.7044 - acc: 0.5163 - auc: 0.5138 - val_loss: 0.6927 - val_acc: 0.6020 - val_auc: 0.5661 - 2s/epoch - 3ms/step\n",
      "Epoch 2/10\n",
      "614/614 - 1s - loss: 0.6902 - acc: 0.5265 - auc: 0.5379 - val_loss: 0.6986 - val_acc: 0.6267 - val_auc: 0.5947 - 1s/epoch - 2ms/step\n",
      "Epoch 3/10\n",
      "614/614 - 1s - loss: 0.6837 - acc: 0.5512 - auc: 0.5733 - val_loss: 0.6998 - val_acc: 0.3576 - val_auc: 0.6280 - 908ms/epoch - 1ms/step\n",
      "Epoch 4/10\n",
      "614/614 - 1s - loss: 0.6803 - acc: 0.5558 - auc: 0.5898 - val_loss: 0.6853 - val_acc: 0.3604 - val_auc: 0.6196 - 967ms/epoch - 2ms/step\n",
      "Epoch 5/10\n",
      "614/614 - 1s - loss: 0.6779 - acc: 0.5601 - auc: 0.5917 - val_loss: 0.6925 - val_acc: 0.3590 - val_auc: 0.6065 - 967ms/epoch - 2ms/step\n",
      "Epoch 6/10\n",
      "614/614 - 1s - loss: 0.6759 - acc: 0.5610 - auc: 0.5966 - val_loss: 0.6501 - val_acc: 0.5912 - val_auc: 0.6039 - 825ms/epoch - 1ms/step\n",
      "Epoch 7/10\n",
      "614/614 - 1s - loss: 0.6742 - acc: 0.5620 - auc: 0.5995 - val_loss: 0.6471 - val_acc: 0.6011 - val_auc: 0.6026 - 852ms/epoch - 1ms/step\n",
      "Epoch 8/10\n",
      "614/614 - 1s - loss: 0.6728 - acc: 0.5656 - auc: 0.6032 - val_loss: 0.6636 - val_acc: 0.3802 - val_auc: 0.6047 - 842ms/epoch - 1ms/step\n",
      "Epoch 9/10\n",
      "614/614 - 1s - loss: 0.6712 - acc: 0.5704 - auc: 0.6066 - val_loss: 0.6250 - val_acc: 0.9082 - val_auc: 0.6048 - 839ms/epoch - 1ms/step\n",
      "Epoch 10/10\n",
      "614/614 - 1s - loss: 0.6699 - acc: 0.5721 - auc: 0.6100 - val_loss: 0.6873 - val_acc: 0.3763 - val_auc: 0.6069 - 820ms/epoch - 1ms/step\n"
     ]
    },
    {
     "data": {
      "text/plain": [
       "<keras.src.callbacks.History at 0x17f03a08d00>"
      ]
     },
     "execution_count": 175,
     "metadata": {},
     "output_type": "execute_result"
    }
   ],
   "source": [
    "model.fit(features_train, target_train, epochs=10, verbose=2,\n",
    "          validation_data=(features_test, target_test))"
   ]
  }
 ],
 "metadata": {
  "kernelspec": {
   "display_name": "Python 3 (ipykernel)",
   "language": "python",
   "name": "python3"
  },
  "language_info": {
   "codemirror_mode": {
    "name": "ipython",
    "version": 3
   },
   "file_extension": ".py",
   "mimetype": "text/x-python",
   "name": "python",
   "nbconvert_exporter": "python",
   "pygments_lexer": "ipython3",
   "version": "3.9.17"
  },
  "toc": {
   "base_numbering": 1,
   "nav_menu": {},
   "number_sections": true,
   "sideBar": true,
   "skip_h1_title": true,
   "title_cell": "Table of Contents",
   "title_sidebar": "Contents",
   "toc_cell": false,
   "toc_position": {
    "height": "calc(100% - 180px)",
    "left": "10px",
    "top": "150px",
    "width": "513.438px"
   },
   "toc_section_display": true,
   "toc_window_display": true
  }
 },
 "nbformat": 4,
 "nbformat_minor": 5
}
